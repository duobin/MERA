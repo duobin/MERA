{
 "cells": [
  {
   "cell_type": "markdown",
   "id": "c840ec92",
   "metadata": {},
   "source": [
    "# Preprocessing the data"
   ]
  },
  {
   "cell_type": "code",
   "execution_count": 1,
   "id": "4dc42918",
   "metadata": {},
   "outputs": [],
   "source": [
    "import pandas as pd\n",
    "import numpy as np\n",
    "import re\n",
    "from nltk.corpus import stopwords\n",
    "from sklearn.model_selection import train_test_split"
   ]
  },
  {
   "cell_type": "code",
   "execution_count": 2,
   "id": "3de1aa5f",
   "metadata": {},
   "outputs": [],
   "source": [
    "df_train = pd.read_csv(\"../../data/train.csv\", header=None, names=[\"quadrant\", \"lyrics\"], skiprows=1)\n",
    "df_valid = pd.read_csv(\"../../data/validation.csv\", header=None, names=[\"quadrant\", \"lyrics\"], skiprows=1)\n",
    "df_test = pd.read_csv(\"../../data/test.csv\", header=None, names=[\"quadrant\", \"lyrics\"], skiprows=1)\n",
    "\n",
    "df = pd.concat([df_train, df_valid, df_test])"
   ]
  },
  {
   "cell_type": "code",
   "execution_count": 6,
   "id": "10d2ed07-3f4c-4017-aa20-2cefe95491a5",
   "metadata": {
    "collapsed": false,
    "jupyter": {
     "outputs_hidden": false
    },
    "pycharm": {
     "name": "#%%\n"
    }
   },
   "outputs": [],
   "source": [
    "data = train_d+valid_d #[:7000]+valid_d[:2000]\n",
    "labels = train_l+valid_l #[:7000]+valid_l[:2000]"
   ]
  },
  {
   "cell_type": "code",
   "execution_count": 3,
   "id": "1fed9e82",
   "metadata": {},
   "outputs": [
    {
     "data": {
      "text/html": [
       "<div>\n",
       "<style scoped>\n",
       "    .dataframe tbody tr th:only-of-type {\n",
       "        vertical-align: middle;\n",
       "    }\n",
       "\n",
       "    .dataframe tbody tr th {\n",
       "        vertical-align: top;\n",
       "    }\n",
       "\n",
       "    .dataframe thead th {\n",
       "        text-align: right;\n",
       "    }\n",
       "</style>\n",
       "<table border=\"1\" class=\"dataframe\">\n",
       "  <thead>\n",
       "    <tr style=\"text-align: right;\">\n",
       "      <th></th>\n",
       "      <th></th>\n",
       "      <th></th>\n",
       "      <th></th>\n",
       "      <th></th>\n",
       "      <th>quadrant</th>\n",
       "      <th>lyrics</th>\n",
       "    </tr>\n",
       "  </thead>\n",
       "  <tbody>\n",
       "    <tr>\n",
       "      <th>213754</th>\n",
       "      <th>-0.682725</th>\n",
       "      <th>0.316758</th>\n",
       "      <th>Dark Tranquillity</th>\n",
       "      <th>Insanity's Crescendo</th>\n",
       "      <td>1</td>\n",
       "      <td>Gently, hold our heads Gently, hold our heads ...</td>\n",
       "    </tr>\n",
       "    <tr>\n",
       "      <th>216752</th>\n",
       "      <th>-1.400403</th>\n",
       "      <th>1.538229</th>\n",
       "      <th>Anorexia Nervosa</th>\n",
       "      <th>Stabat mater dolorosa</th>\n",
       "      <td>1</td>\n",
       "      <td>We are the Sun We are the dead stars We are th...</td>\n",
       "    </tr>\n",
       "    <tr>\n",
       "      <th>254391</th>\n",
       "      <th>0.815393</th>\n",
       "      <th>0.662457</th>\n",
       "      <th>Uniting Nations</th>\n",
       "      <th>Out Of Touch</th>\n",
       "      <td>0</td>\n",
       "      <td>You're out of touch, I'm out of time But I'm o...</td>\n",
       "    </tr>\n",
       "    <tr>\n",
       "      <th>266313</th>\n",
       "      <th>1.257460</th>\n",
       "      <th>1.086515</th>\n",
       "      <th>The Walkmen</th>\n",
       "      <th>Brandy alexander</th>\n",
       "      <td>0</td>\n",
       "      <td>Finally close the door You'd left open wide Lo...</td>\n",
       "    </tr>\n",
       "    <tr>\n",
       "      <th>283306</th>\n",
       "      <th>0.373325</th>\n",
       "      <th>-0.923151</th>\n",
       "      <th>Duke Ellington</th>\n",
       "      <th>Caravan</th>\n",
       "      <td>3</td>\n",
       "      <td>Night and stars above that shine so bright The...</td>\n",
       "    </tr>\n",
       "  </tbody>\n",
       "</table>\n",
       "</div>"
      ],
      "text/plain": [
       "                                                                    quadrant  \\\n",
       "213754 -0.682725  0.316758 Dark Tranquillity Insanity's Crescendo          1   \n",
       "216752 -1.400403  1.538229 Anorexia Nervosa  Stabat mater dolorosa         1   \n",
       "254391  0.815393  0.662457 Uniting Nations   Out Of Touch                  0   \n",
       "266313  1.257460  1.086515 The Walkmen       Brandy alexander              0   \n",
       "283306  0.373325 -0.923151 Duke Ellington    Caravan                       3   \n",
       "\n",
       "                                                                                                               lyrics  \n",
       "213754 -0.682725  0.316758 Dark Tranquillity Insanity's Crescendo   Gently, hold our heads Gently, hold our heads ...  \n",
       "216752 -1.400403  1.538229 Anorexia Nervosa  Stabat mater dolorosa  We are the Sun We are the dead stars We are th...  \n",
       "254391  0.815393  0.662457 Uniting Nations   Out Of Touch           You're out of touch, I'm out of time But I'm o...  \n",
       "266313  1.257460  1.086515 The Walkmen       Brandy alexander       Finally close the door You'd left open wide Lo...  \n",
       "283306  0.373325 -0.923151 Duke Ellington    Caravan                Night and stars above that shine so bright The...  "
      ]
     },
     "execution_count": 3,
     "metadata": {},
     "output_type": "execute_result"
    }
   ],
   "source": [
    "df.head()"
   ]
  },
  {
   "cell_type": "code",
   "execution_count": 4,
   "id": "04f3a9eb",
   "metadata": {},
   "outputs": [],
   "source": [
    "contraction_dict = {\"ain't\": \"is not\", \"aren't\": \"are not\",\"can't\": \"cannot\", \"'cause\": \"because\", \"could've\": \"could have\", \"couldn't\": \"could not\", \"didn't\": \"did not\",  \"doesn't\": \"does not\", \"don't\": \"do not\", \"hadn't\": \"had not\", \"hasn't\": \"has not\", \"haven't\": \"have not\", \"he'd\": \"he would\",\"he'll\": \"he will\", \"he's\": \"he is\", \"how'd\": \"how did\", \"how'd'y\": \"how do you\", \"how'll\": \"how will\", \"how's\": \"how is\",  \"I'd\": \"I would\", \"I'd've\": \"I would have\", \"I'll\": \"I will\", \"I'll've\": \"I will have\",\"I'm\": \"I am\", \"I've\": \"I have\", \"i'd\": \"i would\", \"i'd've\": \"i would have\", \"i'll\": \"i will\",  \"i'll've\": \"i will have\",\"i'm\": \"i am\", \"i've\": \"i have\", \"isn't\": \"is not\", \"it'd\": \"it would\", \"it'd've\": \"it would have\", \"it'll\": \"it will\", \"it'll've\": \"it will have\",\"it's\": \"it is\", \"let's\": \"let us\", \"ma'am\": \"madam\", \"mayn't\": \"may not\", \"might've\": \"might have\",\"mightn't\": \"might not\",\"mightn't've\": \"might not have\", \"must've\": \"must have\", \"mustn't\": \"must not\", \"mustn't've\": \"must not have\", \"needn't\": \"need not\", \"needn't've\": \"need not have\",\"o'clock\": \"of the clock\", \"oughtn't\": \"ought not\", \"oughtn't've\": \"ought not have\", \"shan't\": \"shall not\", \"sha'n't\": \"shall not\", \"shan't've\": \"shall not have\", \"she'd\": \"she would\", \"she'd've\": \"she would have\", \"she'll\": \"she will\", \"she'll've\": \"she will have\", \"she's\": \"she is\", \"should've\": \"should have\", \"shouldn't\": \"should not\", \"shouldn't've\": \"should not have\", \"so've\": \"so have\",\"so's\": \"so as\", \"this's\": \"this is\",\"that'd\": \"that would\", \"that'd've\": \"that would have\", \"that's\": \"that is\", \"there'd\": \"there would\", \"there'd've\": \"there would have\", \"there's\": \"there is\", \"here's\": \"here is\",\"they'd\": \"they would\", \"they'd've\": \"they would have\", \"they'll\": \"they will\", \"they'll've\": \"they will have\", \"they're\": \"they are\", \"they've\": \"they have\", \"to've\": \"to have\", \"wasn't\": \"was not\", \"we'd\": \"we would\", \"we'd've\": \"we would have\", \"we'll\": \"we will\", \"we'll've\": \"we will have\", \"we're\": \"we are\", \"we've\": \"we have\", \"weren't\": \"were not\", \"what'll\": \"what will\", \"what'll've\": \"what will have\", \"what're\": \"what are\",  \"what's\": \"what is\", \"what've\": \"what have\", \"when's\": \"when is\", \"when've\": \"when have\", \"where'd\": \"where did\", \"where's\": \"where is\", \"where've\": \"where have\", \"who'll\": \"who will\", \"who'll've\": \"who will have\", \"who's\": \"who is\", \"who've\": \"who have\", \"why's\": \"why is\", \"why've\": \"why have\", \"will've\": \"will have\", \"won't\": \"will not\", \"won't've\": \"will not have\", \"would've\": \"would have\", \"wouldn't\": \"would not\", \"wouldn't've\": \"would not have\", \"y'all\": \"you all\", \"y'all'd\": \"you all would\",\"y'all'd've\": \"you all would have\",\"y'all're\": \"you all are\",\"y'all've\": \"you all have\",\"you'd\": \"you would\", \"you'd've\": \"you would have\", \"you'll\": \"you will\", \"you'll've\": \"you will have\", \"you're\": \"you are\", \"you've\": \"you have\"}\n",
    "def _get_contractions(contraction_dict):\n",
    "    contraction_re = re.compile('(%s)' % '|'.join(contraction_dict.keys()))\n",
    "    return contraction_dict, contraction_re\n",
    "contractions, contractions_re = _get_contractions(contraction_dict)\n",
    "def replace_contractions(text):\n",
    "    def replace(match):\n",
    "        return contractions[match.group(0)]\n",
    "    return contractions_re.sub(replace, text)\n",
    "\n",
    "REPLACE_BY_SPACE_RE = re.compile('[/(){}\\[\\]\\|@,;]')\n",
    "BAD_SYMBOLS_RE = re.compile('[^0-9a-z #+_]')\n",
    "STOPWORDS = set(stopwords.words('english'))\n",
    "\n",
    "def text_preprocessing(text):\n",
    "    text = text.lower() # lower text\n",
    "    text = replace_contractions(text) # remove contactions\n",
    "    text = \"\".join(\"\".join(text).replace(\"\\n\", \" \").replace(\"\\r\", \" \")) # remove \\n and \\r\n",
    "    text = REPLACE_BY_SPACE_RE.sub(' ', text) # replace symbols with space\n",
    "    text = re.sub(r'[0-9]+', '', text)\n",
    "    text = BAD_SYMBOLS_RE.sub('', text) # replace bad characters with nothing\n",
    "    text = text.strip()\n",
    "    text = \" \".join([word for word in text.split() if word not in STOPWORDS]) # remove stopwords\n",
    "    \n",
    "    return text"
   ]
  },
  {
   "cell_type": "code",
   "execution_count": 5,
   "id": "cf8f97ff",
   "metadata": {},
   "outputs": [],
   "source": [
    "df[\"lyrics\"] = df[\"lyrics\"].apply(text_preprocessing)"
   ]
  },
  {
   "cell_type": "code",
   "execution_count": 6,
   "id": "8cc3fc48",
   "metadata": {
    "scrolled": true
   },
   "outputs": [
    {
     "data": {
      "text/html": [
       "<div>\n",
       "<style scoped>\n",
       "    .dataframe tbody tr th:only-of-type {\n",
       "        vertical-align: middle;\n",
       "    }\n",
       "\n",
       "    .dataframe tbody tr th {\n",
       "        vertical-align: top;\n",
       "    }\n",
       "\n",
       "    .dataframe thead th {\n",
       "        text-align: right;\n",
       "    }\n",
       "</style>\n",
       "<table border=\"1\" class=\"dataframe\">\n",
       "  <thead>\n",
       "    <tr style=\"text-align: right;\">\n",
       "      <th></th>\n",
       "      <th></th>\n",
       "      <th></th>\n",
       "      <th></th>\n",
       "      <th></th>\n",
       "      <th>quadrant</th>\n",
       "      <th>lyrics</th>\n",
       "    </tr>\n",
       "  </thead>\n",
       "  <tbody>\n",
       "    <tr>\n",
       "      <th>213754</th>\n",
       "      <th>-0.682725</th>\n",
       "      <th>0.316758</th>\n",
       "      <th>Dark Tranquillity</th>\n",
       "      <th>Insanity's Crescendo</th>\n",
       "      <td>1</td>\n",
       "      <td>gently hold heads gently hold heads high aimle...</td>\n",
       "    </tr>\n",
       "    <tr>\n",
       "      <th>216752</th>\n",
       "      <th>-1.400403</th>\n",
       "      <th>1.538229</th>\n",
       "      <th>Anorexia Nervosa</th>\n",
       "      <th>Stabat mater dolorosa</th>\n",
       "      <td>1</td>\n",
       "      <td>sun dead stars black sky invading room candle ...</td>\n",
       "    </tr>\n",
       "    <tr>\n",
       "      <th>254391</th>\n",
       "      <th>0.815393</th>\n",
       "      <th>0.662457</th>\n",
       "      <th>Uniting Nations</th>\n",
       "      <th>Out Of Touch</th>\n",
       "      <td>0</td>\n",
       "      <td>touch time head around touch time head around ...</td>\n",
       "    </tr>\n",
       "    <tr>\n",
       "      <th>266313</th>\n",
       "      <th>1.257460</th>\n",
       "      <th>1.086515</th>\n",
       "      <th>The Walkmen</th>\n",
       "      <th>Brandy alexander</th>\n",
       "      <td>0</td>\n",
       "      <td>finally close door would left open wide locked...</td>\n",
       "    </tr>\n",
       "    <tr>\n",
       "      <th>283306</th>\n",
       "      <th>0.373325</th>\n",
       "      <th>-0.923151</th>\n",
       "      <th>Duke Ellington</th>\n",
       "      <th>Caravan</th>\n",
       "      <td>3</td>\n",
       "      <td>night stars shine bright mystery fading light ...</td>\n",
       "    </tr>\n",
       "  </tbody>\n",
       "</table>\n",
       "</div>"
      ],
      "text/plain": [
       "                                                                    quadrant  \\\n",
       "213754 -0.682725  0.316758 Dark Tranquillity Insanity's Crescendo          1   \n",
       "216752 -1.400403  1.538229 Anorexia Nervosa  Stabat mater dolorosa         1   \n",
       "254391  0.815393  0.662457 Uniting Nations   Out Of Touch                  0   \n",
       "266313  1.257460  1.086515 The Walkmen       Brandy alexander              0   \n",
       "283306  0.373325 -0.923151 Duke Ellington    Caravan                       3   \n",
       "\n",
       "                                                                                                               lyrics  \n",
       "213754 -0.682725  0.316758 Dark Tranquillity Insanity's Crescendo   gently hold heads gently hold heads high aimle...  \n",
       "216752 -1.400403  1.538229 Anorexia Nervosa  Stabat mater dolorosa  sun dead stars black sky invading room candle ...  \n",
       "254391  0.815393  0.662457 Uniting Nations   Out Of Touch           touch time head around touch time head around ...  \n",
       "266313  1.257460  1.086515 The Walkmen       Brandy alexander       finally close door would left open wide locked...  \n",
       "283306  0.373325 -0.923151 Duke Ellington    Caravan                night stars shine bright mystery fading light ...  "
      ]
     },
     "execution_count": 6,
     "metadata": {},
     "output_type": "execute_result"
    }
   ],
   "source": [
    "df.head()"
   ]
  },
  {
   "cell_type": "code",
   "execution_count": 7,
   "id": "d2e55e66",
   "metadata": {},
   "outputs": [
    {
     "data": {
      "text/html": [
       "<div>\n",
       "<style scoped>\n",
       "    .dataframe tbody tr th:only-of-type {\n",
       "        vertical-align: middle;\n",
       "    }\n",
       "\n",
       "    .dataframe tbody tr th {\n",
       "        vertical-align: top;\n",
       "    }\n",
       "\n",
       "    .dataframe thead th {\n",
       "        text-align: right;\n",
       "    }\n",
       "</style>\n",
       "<table border=\"1\" class=\"dataframe\">\n",
       "  <thead>\n",
       "    <tr style=\"text-align: right;\">\n",
       "      <th></th>\n",
       "      <th>quadrant</th>\n",
       "      <th>len</th>\n",
       "    </tr>\n",
       "  </thead>\n",
       "  <tbody>\n",
       "    <tr>\n",
       "      <th>count</th>\n",
       "      <td>17367.000000</td>\n",
       "      <td>17367.000000</td>\n",
       "    </tr>\n",
       "    <tr>\n",
       "      <th>mean</th>\n",
       "      <td>1.346980</td>\n",
       "      <td>1226.929752</td>\n",
       "    </tr>\n",
       "    <tr>\n",
       "      <th>std</th>\n",
       "      <td>1.117818</td>\n",
       "      <td>11881.868344</td>\n",
       "    </tr>\n",
       "    <tr>\n",
       "      <th>min</th>\n",
       "      <td>0.000000</td>\n",
       "      <td>0.000000</td>\n",
       "    </tr>\n",
       "    <tr>\n",
       "      <th>25%</th>\n",
       "      <td>0.000000</td>\n",
       "      <td>453.000000</td>\n",
       "    </tr>\n",
       "    <tr>\n",
       "      <th>50%</th>\n",
       "      <td>1.000000</td>\n",
       "      <td>621.000000</td>\n",
       "    </tr>\n",
       "    <tr>\n",
       "      <th>75%</th>\n",
       "      <td>2.000000</td>\n",
       "      <td>846.500000</td>\n",
       "    </tr>\n",
       "    <tr>\n",
       "      <th>max</th>\n",
       "      <td>3.000000</td>\n",
       "      <td>484895.000000</td>\n",
       "    </tr>\n",
       "  </tbody>\n",
       "</table>\n",
       "</div>"
      ],
      "text/plain": [
       "           quadrant            len\n",
       "count  17367.000000   17367.000000\n",
       "mean       1.346980    1226.929752\n",
       "std        1.117818   11881.868344\n",
       "min        0.000000       0.000000\n",
       "25%        0.000000     453.000000\n",
       "50%        1.000000     621.000000\n",
       "75%        2.000000     846.500000\n",
       "max        3.000000  484895.000000"
      ]
     },
     "execution_count": 7,
     "metadata": {},
     "output_type": "execute_result"
    }
   ],
   "source": [
    "# get lens and remove anything with less than 10\n",
    "df[\"len\"] = df[\"lyrics\"].apply(len)\n",
    "df.describe()"
   ]
  },
  {
   "cell_type": "code",
   "execution_count": 9,
   "id": "4be3d86f",
   "metadata": {},
   "outputs": [
    {
     "data": {
      "text/html": [
       "<div>\n",
       "<style scoped>\n",
       "    .dataframe tbody tr th:only-of-type {\n",
       "        vertical-align: middle;\n",
       "    }\n",
       "\n",
       "    .dataframe tbody tr th {\n",
       "        vertical-align: top;\n",
       "    }\n",
       "\n",
       "    .dataframe thead th {\n",
       "        text-align: right;\n",
       "    }\n",
       "</style>\n",
       "<table border=\"1\" class=\"dataframe\">\n",
       "  <thead>\n",
       "    <tr style=\"text-align: right;\">\n",
       "      <th></th>\n",
       "      <th>quadrant</th>\n",
       "      <th>len</th>\n",
       "    </tr>\n",
       "  </thead>\n",
       "  <tbody>\n",
       "    <tr>\n",
       "      <th>count</th>\n",
       "      <td>17365.000000</td>\n",
       "      <td>17365.000000</td>\n",
       "    </tr>\n",
       "    <tr>\n",
       "      <th>mean</th>\n",
       "      <td>1.346905</td>\n",
       "      <td>1227.070659</td>\n",
       "    </tr>\n",
       "    <tr>\n",
       "      <th>std</th>\n",
       "      <td>1.117809</td>\n",
       "      <td>11882.545351</td>\n",
       "    </tr>\n",
       "    <tr>\n",
       "      <th>min</th>\n",
       "      <td>0.000000</td>\n",
       "      <td>11.000000</td>\n",
       "    </tr>\n",
       "    <tr>\n",
       "      <th>25%</th>\n",
       "      <td>0.000000</td>\n",
       "      <td>453.000000</td>\n",
       "    </tr>\n",
       "    <tr>\n",
       "      <th>50%</th>\n",
       "      <td>1.000000</td>\n",
       "      <td>621.000000</td>\n",
       "    </tr>\n",
       "    <tr>\n",
       "      <th>75%</th>\n",
       "      <td>2.000000</td>\n",
       "      <td>847.000000</td>\n",
       "    </tr>\n",
       "    <tr>\n",
       "      <th>max</th>\n",
       "      <td>3.000000</td>\n",
       "      <td>484895.000000</td>\n",
       "    </tr>\n",
       "  </tbody>\n",
       "</table>\n",
       "</div>"
      ],
      "text/plain": [
       "           quadrant            len\n",
       "count  17365.000000   17365.000000\n",
       "mean       1.346905    1227.070659\n",
       "std        1.117809   11882.545351\n",
       "min        0.000000      11.000000\n",
       "25%        0.000000     453.000000\n",
       "50%        1.000000     621.000000\n",
       "75%        2.000000     847.000000\n",
       "max        3.000000  484895.000000"
      ]
     },
     "execution_count": 9,
     "metadata": {},
     "output_type": "execute_result"
    }
   ],
   "source": [
    "df = df.loc[df[\"len\"] >= 10]\n",
    "df.describe()"
   ]
  },
  {
   "cell_type": "code",
   "execution_count": 10,
   "id": "6313b678",
   "metadata": {},
   "outputs": [
    {
     "data": {
      "text/html": [
       "<div>\n",
       "<style scoped>\n",
       "    .dataframe tbody tr th:only-of-type {\n",
       "        vertical-align: middle;\n",
       "    }\n",
       "\n",
       "    .dataframe tbody tr th {\n",
       "        vertical-align: top;\n",
       "    }\n",
       "\n",
       "    .dataframe thead th {\n",
       "        text-align: right;\n",
       "    }\n",
       "</style>\n",
       "<table border=\"1\" class=\"dataframe\">\n",
       "  <thead>\n",
       "    <tr style=\"text-align: right;\">\n",
       "      <th></th>\n",
       "      <th></th>\n",
       "      <th></th>\n",
       "      <th></th>\n",
       "      <th></th>\n",
       "      <th>quadrant</th>\n",
       "      <th>lyrics</th>\n",
       "    </tr>\n",
       "  </thead>\n",
       "  <tbody>\n",
       "    <tr>\n",
       "      <th>213754</th>\n",
       "      <th>-0.682725</th>\n",
       "      <th>0.316758</th>\n",
       "      <th>Dark Tranquillity</th>\n",
       "      <th>Insanity's Crescendo</th>\n",
       "      <td>1</td>\n",
       "      <td>gently hold heads gently hold heads high aimle...</td>\n",
       "    </tr>\n",
       "    <tr>\n",
       "      <th>216752</th>\n",
       "      <th>-1.400403</th>\n",
       "      <th>1.538229</th>\n",
       "      <th>Anorexia Nervosa</th>\n",
       "      <th>Stabat mater dolorosa</th>\n",
       "      <td>1</td>\n",
       "      <td>sun dead stars black sky invading room candle ...</td>\n",
       "    </tr>\n",
       "    <tr>\n",
       "      <th>254391</th>\n",
       "      <th>0.815393</th>\n",
       "      <th>0.662457</th>\n",
       "      <th>Uniting Nations</th>\n",
       "      <th>Out Of Touch</th>\n",
       "      <td>0</td>\n",
       "      <td>touch time head around touch time head around ...</td>\n",
       "    </tr>\n",
       "    <tr>\n",
       "      <th>266313</th>\n",
       "      <th>1.257460</th>\n",
       "      <th>1.086515</th>\n",
       "      <th>The Walkmen</th>\n",
       "      <th>Brandy alexander</th>\n",
       "      <td>0</td>\n",
       "      <td>finally close door would left open wide locked...</td>\n",
       "    </tr>\n",
       "    <tr>\n",
       "      <th>283306</th>\n",
       "      <th>0.373325</th>\n",
       "      <th>-0.923151</th>\n",
       "      <th>Duke Ellington</th>\n",
       "      <th>Caravan</th>\n",
       "      <td>3</td>\n",
       "      <td>night stars shine bright mystery fading light ...</td>\n",
       "    </tr>\n",
       "  </tbody>\n",
       "</table>\n",
       "</div>"
      ],
      "text/plain": [
       "                                                                    quadrant  \\\n",
       "213754 -0.682725  0.316758 Dark Tranquillity Insanity's Crescendo          1   \n",
       "216752 -1.400403  1.538229 Anorexia Nervosa  Stabat mater dolorosa         1   \n",
       "254391  0.815393  0.662457 Uniting Nations   Out Of Touch                  0   \n",
       "266313  1.257460  1.086515 The Walkmen       Brandy alexander              0   \n",
       "283306  0.373325 -0.923151 Duke Ellington    Caravan                       3   \n",
       "\n",
       "                                                                                                               lyrics  \n",
       "213754 -0.682725  0.316758 Dark Tranquillity Insanity's Crescendo   gently hold heads gently hold heads high aimle...  \n",
       "216752 -1.400403  1.538229 Anorexia Nervosa  Stabat mater dolorosa  sun dead stars black sky invading room candle ...  \n",
       "254391  0.815393  0.662457 Uniting Nations   Out Of Touch           touch time head around touch time head around ...  \n",
       "266313  1.257460  1.086515 The Walkmen       Brandy alexander       finally close door would left open wide locked...  \n",
       "283306  0.373325 -0.923151 Duke Ellington    Caravan                night stars shine bright mystery fading light ...  "
      ]
     },
     "execution_count": 10,
     "metadata": {},
     "output_type": "execute_result"
    }
   ],
   "source": [
    "df.drop(labels=[\"len\"], axis=1, inplace=True)\n",
    "df.head()"
   ]
  },
  {
   "cell_type": "code",
   "execution_count": 11,
   "id": "d07ccf4f",
   "metadata": {},
   "outputs": [],
   "source": [
    "train_test = 0.1\n",
    "train_valid = 0.8\n",
    "\n",
    "train, test = train_test_split(df, test_size=train_test, random_state=0)\n",
    "train, valid = train_test_split(train, train_size=train_valid, random_state=0)"
   ]
  },
  {
   "cell_type": "code",
   "execution_count": 12,
   "id": "28700eb2",
   "metadata": {},
   "outputs": [
    {
     "data": {
      "text/plain": [
       "((12502, 2), (1737, 2), (3126, 2))"
      ]
     },
     "execution_count": 12,
     "metadata": {},
     "output_type": "execute_result"
    }
   ],
   "source": [
    "train.shape, test.shape, valid.shape"
   ]
  },
  {
   "cell_type": "code",
   "execution_count": 13,
   "id": "40f2ed40",
   "metadata": {},
   "outputs": [],
   "source": [
    "train.to_csv(\"preprocessed_train.csv\", index=False)\n",
    "test.to_csv(\"preprocessed_test.csv\", index=False)\n",
    "valid.to_csv(\"preprocessed_valid.csv\", index=False)"
   ]
  },
  {
   "cell_type": "markdown",
   "id": "e8668b60",
   "metadata": {},
   "source": [
    "# Data Loading "
   ]
  },
  {
   "cell_type": "code",
   "execution_count": 1,
   "id": "008a1441",
   "metadata": {},
   "outputs": [],
   "source": [
    "import torch\n",
    "from torchtext.legacy.data import Field, TabularDataset, BucketIterator\n",
    "from torchtext.vocab import Vectors"
   ]
  },
  {
   "cell_type": "code",
   "execution_count": 2,
   "id": "919bdf42",
   "metadata": {},
   "outputs": [],
   "source": [
    "EMBED_SIZE = 300\n",
    "HIDDEN_SIZE = 32\n",
    "HIDDEN_LAYERS = 2\n",
    "BIDIRECTIONAL = True\n",
    "OUTPUT_SIZE = 4\n",
    "MAX_EPOCHS = 15\n",
    "LR = 0.5\n",
    "BATCH_SIZE = 64\n",
    "MAX_SEQUENCE_LENGTH = 250\n",
    "DROPOUT_KEEP = 0.8"
   ]
  },
  {
   "cell_type": "code",
   "execution_count": 3,
   "id": "c2844645",
   "metadata": {},
   "outputs": [
    {
     "data": {
      "text/plain": [
       "device(type='cuda')"
      ]
     },
     "execution_count": 3,
     "metadata": {},
     "output_type": "execute_result"
    }
   ],
   "source": [
    "device = torch.device(\"cuda\" if torch.cuda.is_available() else \"cpu\")\n",
    "device"
   ]
  },
  {
   "cell_type": "code",
   "execution_count": 4,
   "id": "2981e200-c668-4a51-b933-79b26695658f",
   "metadata": {},
   "outputs": [],
   "source": [
    "import spacy\n",
    "NLP = spacy.load(\"en_core_web_sm\")\n",
    "tokenizer = lambda sent: [x.text for x in NLP.tokenizer(sent) if x.text != \" \"]"
   ]
  },
  {
   "cell_type": "code",
   "execution_count": 5,
   "id": "b9c6829f",
   "metadata": {},
   "outputs": [],
   "source": [
    "quadrants_field = Field(sequential=False, use_vocab=False, batch_first=True, dtype=torch.long, is_target=True)\n",
    "\n",
    "lyrics_field = Field(tokenize=tokenizer, lower=True, include_lengths=False, batch_first=True, fix_length=MAX_SEQUENCE_LENGTH)\n",
    "fields = [(\"quadrant\", quadrants_field), (\"lyrics\", lyrics_field)]\n",
    "\n",
    "trainset, validset, testset = TabularDataset.splits(path=\".\", train=\"preprocessed_train.csv\",\n",
    "                                                   validation=\"preprocessed_valid.csv\",\n",
    "                                                   test=\"preprocessed_test.csv\", format=\"CSV\",\n",
    "                                                   fields=fields, skip_header=True)"
   ]
  },
  {
   "cell_type": "code",
   "execution_count": 6,
   "id": "6132bbef",
   "metadata": {},
   "outputs": [],
   "source": [
    "trainiter = BucketIterator(dataset=trainset, batch_size=BATCH_SIZE, sort_key=lambda x: len(x.lyrics),\n",
    "                            device=device, sort=True, sort_within_batch=True, train=True)\n",
    "\n",
    "validiter = BucketIterator(dataset=validset, batch_size=BATCH_SIZE, sort_key=lambda x: len(x.lyrics),\n",
    "                            device=device, sort=True, sort_within_batch=True, train=True)\n",
    "\n",
    "testiter = BucketIterator(dataset=testset, batch_size=BATCH_SIZE, sort_key=lambda x: len(x.lyrics),\n",
    "                            device=device, sort=True, sort_within_batch=True, train=False)"
   ]
  },
  {
   "cell_type": "code",
   "execution_count": 7,
   "id": "3c5526b9",
   "metadata": {},
   "outputs": [],
   "source": [
    "# vocabulary and word embeddings\n",
    "lyrics_field.build_vocab(trainset, min_freq=3, vectors=Vectors(\"glove.840B.300d.txt\"))\n",
    "WORD_EMBEDDINGS = lyrics_field.vocab.vectors\n",
    "VOCAB = lyrics_field.vocab"
   ]
  },
  {
   "cell_type": "markdown",
   "id": "a2cf414a",
   "metadata": {},
   "source": [
    "# Building the Model "
   ]
  },
  {
   "cell_type": "code",
   "execution_count": 8,
   "id": "3acdf508",
   "metadata": {},
   "outputs": [],
   "source": [
    "import torch.nn as nn\n",
    "from torch.nn.utils.rnn import pack_padded_sequence, pad_packed_sequence\n",
    "import time"
   ]
  },
  {
   "cell_type": "code",
   "execution_count": 9,
   "id": "2641b9d8",
   "metadata": {},
   "outputs": [],
   "source": [
    "VOCAB_SIZE = len(VOCAB)"
   ]
  },
  {
   "cell_type": "code",
   "execution_count": 10,
   "id": "c3462c10",
   "metadata": {},
   "outputs": [],
   "source": [
    "class BiLSTM(nn.Module):\n",
    "    \n",
    "    def __init__(self, vocab_size, word_embeddings):\n",
    "        super(BiLSTM, self).__init__()\n",
    "        \n",
    "        # embedding layer\n",
    "        self.embeddings = nn.Embedding(vocab_size, EMBED_SIZE)\n",
    "        self.embeddings.weight = nn.Parameter(WORD_EMBEDDINGS, requires_grad=False)\n",
    "\n",
    "        # bi-directional LSTM\n",
    "        self.lstm = nn.LSTM(EMBED_SIZE, HIDDEN_SIZE, bidirectional=BIDIRECTIONAL, \n",
    "                            num_layers=HIDDEN_LAYERS, batch_first=True, dropout=DROPOUT_KEEP)\n",
    "        \n",
    "        # fully connected layers\n",
    "        self.fc1 = nn.Linear(HIDDEN_SIZE*HIDDEN_LAYERS*(1+BIDIRECTIONAL), 64)\n",
    "        self.fc2 = nn.Linear(64, OUTPUT_SIZE)\n",
    "        \n",
    "        # ReLU and dropout\n",
    "        self.relu = nn.ReLU()\n",
    "        self.dropout = nn.Dropout(DROPOUT_KEEP)\n",
    "        \n",
    "\n",
    "\n",
    "    def forward(self, x):\n",
    "        embedding_sent = self.embeddings(x)\n",
    "        lstm_out, (h_n, c_n) = self.lstm(embedding_sent)\n",
    "        feature_map = self.dropout(h_n)\n",
    "        feature_map_linear = torch.cat([feature_map[i,:,:] for i in range(feature_map.shape[0])], dim=1)\n",
    "        hidden = self.relu(self.fc1(feature_map_linear))\n",
    "        output = self.fc2(hidden)\n",
    "        \n",
    "        return output"
   ]
  },
  {
   "cell_type": "code",
   "execution_count": 11,
   "id": "71d47017",
   "metadata": {},
   "outputs": [
    {
     "data": {
      "text/plain": [
       "BiLSTM(\n",
       "  (embeddings): Embedding(33951, 300)\n",
       "  (lstm): LSTM(300, 32, num_layers=2, batch_first=True, dropout=0.8, bidirectional=True)\n",
       "  (fc1): Linear(in_features=128, out_features=64, bias=True)\n",
       "  (fc2): Linear(in_features=64, out_features=4, bias=True)\n",
       "  (relu): ReLU()\n",
       "  (dropout): Dropout(p=0.8, inplace=False)\n",
       ")"
      ]
     },
     "execution_count": 11,
     "metadata": {},
     "output_type": "execute_result"
    }
   ],
   "source": [
    "model = BiLSTM(VOCAB_SIZE, WORD_EMBEDDINGS)\n",
    "model.to(device)"
   ]
  },
  {
   "cell_type": "markdown",
   "id": "3fd8c1ae-638d-4d2e-9a65-6a167beb9c3d",
   "metadata": {},
   "source": [
    "# Training the model"
   ]
  },
  {
   "cell_type": "code",
   "execution_count": 12,
   "id": "280e16e0",
   "metadata": {},
   "outputs": [],
   "source": [
    "def train_func(data, data_):\n",
    "\n",
    "    # Train the model\n",
    "    train_loss = 0\n",
    "    train_acc = 0\n",
    "    for (lyrics, label) in data:\n",
    "        optimizer.zero_grad()\n",
    "        label, lyrics = label.to(device), lyrics.to(device)\n",
    "        output = model(lyrics)\n",
    "        loss = criterion(output, label)\n",
    "        train_loss += loss.item()\n",
    "        loss.backward()\n",
    "        optimizer.step()\n",
    "        train_acc += (output.argmax(1) == label).sum().item()\n",
    "\n",
    "    # Adjust the learning rate\n",
    "    scheduler.step()\n",
    "\n",
    "    return train_loss / len(data_), train_acc / len(data_)\n",
    "\n",
    "def test(data, data_):\n",
    "    loss = 0\n",
    "    acc = 0\n",
    "    for (lyrics, label) in data:\n",
    "        label, lyrics = label.to(device), lyrics.to(device)\n",
    "        with torch.no_grad():\n",
    "            output = model(lyrics)\n",
    "            loss = criterion(output, label)\n",
    "            loss += loss.item()\n",
    "            acc += (output.argmax(1) == label).sum().item()\n",
    "\n",
    "    return loss / len(data_), acc / len(data_)"
   ]
  },
  {
   "cell_type": "code",
   "execution_count": 13,
   "id": "61d6899a",
   "metadata": {},
   "outputs": [
    {
     "name": "stdout",
     "output_type": "stream",
     "text": [
      "Epoch: 1  | time in 0 minutes, 9 seconds\n",
      "\tLoss: 0.0760(train)\t|\tAcc: 36.6%(train)\n",
      "\tLoss: 0.0041(valid)\t|\tAcc: 19.5%(valid)\n",
      "Epoch: 2  | time in 0 minutes, 9 seconds\n",
      "\tLoss: 0.0391(train)\t|\tAcc: 37.0%(train)\n",
      "\tLoss: 0.0060(valid)\t|\tAcc: 18.7%(valid)\n",
      "Epoch: 3  | time in 0 minutes, 9 seconds\n",
      "\tLoss: 0.0410(train)\t|\tAcc: 37.0%(train)\n",
      "\tLoss: 0.0010(valid)\t|\tAcc: 18.7%(valid)\n",
      "Epoch: 4  | time in 0 minutes, 9 seconds\n",
      "\tLoss: 0.0317(train)\t|\tAcc: 36.9%(train)\n",
      "\tLoss: 0.0029(valid)\t|\tAcc: 29.0%(valid)\n",
      "Epoch: 5  | time in 0 minutes, 9 seconds\n",
      "\tLoss: 0.0335(train)\t|\tAcc: 37.0%(train)\n",
      "\tLoss: 0.0009(valid)\t|\tAcc: 29.2%(valid)\n",
      "Epoch: 6  | time in 0 minutes, 9 seconds\n",
      "\tLoss: 0.0269(train)\t|\tAcc: 37.0%(train)\n",
      "\tLoss: 0.0019(valid)\t|\tAcc: 18.7%(valid)\n",
      "Epoch: 7  | time in 0 minutes, 9 seconds\n",
      "\tLoss: 0.0229(train)\t|\tAcc: 37.0%(train)\n",
      "\tLoss: 0.0010(valid)\t|\tAcc: 18.7%(valid)\n",
      "Epoch: 8  | time in 0 minutes, 9 seconds\n",
      "\tLoss: 0.0247(train)\t|\tAcc: 38.1%(train)\n",
      "\tLoss: 0.0056(valid)\t|\tAcc: 32.3%(valid)\n",
      "Epoch: 9  | time in 0 minutes, 9 seconds\n",
      "\tLoss: 0.0238(train)\t|\tAcc: 37.5%(train)\n",
      "\tLoss: 0.0024(valid)\t|\tAcc: 32.4%(valid)\n",
      "Epoch: 10  | time in 0 minutes, 9 seconds\n",
      "\tLoss: 0.0240(train)\t|\tAcc: 37.4%(train)\n",
      "\tLoss: 0.0023(valid)\t|\tAcc: 32.5%(valid)\n",
      "Epoch: 11  | time in 0 minutes, 9 seconds\n",
      "\tLoss: 0.0231(train)\t|\tAcc: 37.4%(train)\n",
      "\tLoss: 0.0011(valid)\t|\tAcc: 32.4%(valid)\n",
      "Epoch: 12  | time in 0 minutes, 9 seconds\n",
      "\tLoss: 0.0223(train)\t|\tAcc: 37.5%(train)\n",
      "\tLoss: 0.0009(valid)\t|\tAcc: 32.4%(valid)\n",
      "Epoch: 13  | time in 0 minutes, 9 seconds\n",
      "\tLoss: 0.0260(train)\t|\tAcc: 37.4%(train)\n",
      "\tLoss: 0.0008(valid)\t|\tAcc: 32.3%(valid)\n",
      "Epoch: 14  | time in 0 minutes, 9 seconds\n",
      "\tLoss: 0.0250(train)\t|\tAcc: 37.4%(train)\n",
      "\tLoss: 0.0018(valid)\t|\tAcc: 32.4%(valid)\n",
      "Epoch: 15  | time in 0 minutes, 9 seconds\n",
      "\tLoss: 0.0241(train)\t|\tAcc: 32.1%(train)\n",
      "\tLoss: 0.0010(valid)\t|\tAcc: 32.4%(valid)\n"
     ]
    }
   ],
   "source": [
    "N_EPOCHS = MAX_EPOCHS\n",
    "\n",
    "criterion = torch.nn.CrossEntropyLoss().to(device)\n",
    "optimizer = torch.optim.Adam(model.parameters(), lr=LR, amsgrad=True)\n",
    "scheduler = torch.optim.lr_scheduler.StepLR(optimizer, 7)\n",
    "\n",
    "for epoch in range(N_EPOCHS):\n",
    "\n",
    "    start_time = time.time()\n",
    "    train_loss, train_acc = train_func(trainiter, trainset)\n",
    "    valid_loss, valid_acc = test(validiter, validset)\n",
    "\n",
    "    secs = int(time.time() - start_time)\n",
    "    mins = secs / 60\n",
    "    secs = secs % 60\n",
    "\n",
    "    print('Epoch: %d' %(epoch + 1), \" | time in %d minutes, %d seconds\" %(mins, secs))\n",
    "    print(f'\\tLoss: {train_loss:.4f}(train)\\t|\\tAcc: {train_acc * 100:.1f}%(train)')\n",
    "    print(f'\\tLoss: {valid_loss:.4f}(valid)\\t|\\tAcc: {valid_acc * 100:.1f}%(valid)')"
   ]
  },
  {
   "cell_type": "code",
   "execution_count": 14,
   "id": "599cfec5-4dab-4713-a169-2cc35dbf36ad",
   "metadata": {},
   "outputs": [],
   "source": [
    "# save the model\n",
    "torch.save(model.state_dict(), \"model_lstm_glove.bin\")"
   ]
  },
  {
   "cell_type": "markdown",
   "id": "70385208-8183-44c0-bfc5-48682bd3c2a1",
   "metadata": {},
   "source": [
    "# Evaluating the model"
   ]
  },
  {
   "cell_type": "code",
   "execution_count": 15,
   "id": "d0ec7a2a",
   "metadata": {},
   "outputs": [
    {
     "data": {
      "text/plain": [
       "<All keys matched successfully>"
      ]
     },
     "execution_count": 15,
     "metadata": {},
     "output_type": "execute_result"
    }
   ],
   "source": [
    "# load the saved model\n",
    "model.load_state_dict(torch.load(\"model_lstm_glove.bin\", map_location=\"cpu\"))"
   ]
  },
  {
   "cell_type": "code",
   "execution_count": 16,
   "id": "bf10855d",
   "metadata": {},
   "outputs": [],
   "source": [
    "from sklearn.metrics import classification_report\n",
    "\n",
    "actual_class = []\n",
    "pred_class = []\n",
    "\n",
    "for (lyrics, label) in testiter:\n",
    "        label, lyrics = label.to(device), lyrics.to(device)\n",
    "        with torch.no_grad():\n",
    "            output = model(lyrics)\n",
    "        \n",
    "        actual_class+=label.cpu().numpy().squeeze().tolist()\n",
    "        pred_class+=output.argmax(1).cpu().numpy().squeeze().tolist()"
   ]
  },
  {
   "cell_type": "code",
   "execution_count": 17,
   "id": "45d04a08-8e15-446e-beb7-ed7d0748cb39",
   "metadata": {},
   "outputs": [
    {
     "name": "stdout",
     "output_type": "stream",
     "text": [
      "              precision    recall  f1-score   support\n",
      "\n",
      "           0       0.34      1.00      0.50       584\n",
      "           1       1.00      0.00      0.01       335\n",
      "           2       0.00      0.00      0.00       487\n",
      "           3       0.00      0.00      0.00       331\n",
      "\n",
      "    accuracy                           0.34      1737\n",
      "   macro avg       0.33      0.25      0.13      1737\n",
      "weighted avg       0.31      0.34      0.17      1737\n",
      "\n"
     ]
    },
    {
     "name": "stderr",
     "output_type": "stream",
     "text": [
      "/home/martinoywa/anaconda3/lib/python3.8/site-packages/sklearn/metrics/_classification.py:1245: UndefinedMetricWarning: Precision and F-score are ill-defined and being set to 0.0 in labels with no predicted samples. Use `zero_division` parameter to control this behavior.\n",
      "  _warn_prf(average, modifier, msg_start, len(result))\n",
      "/home/martinoywa/anaconda3/lib/python3.8/site-packages/sklearn/metrics/_classification.py:1245: UndefinedMetricWarning: Precision and F-score are ill-defined and being set to 0.0 in labels with no predicted samples. Use `zero_division` parameter to control this behavior.\n",
      "  _warn_prf(average, modifier, msg_start, len(result))\n",
      "/home/martinoywa/anaconda3/lib/python3.8/site-packages/sklearn/metrics/_classification.py:1245: UndefinedMetricWarning: Precision and F-score are ill-defined and being set to 0.0 in labels with no predicted samples. Use `zero_division` parameter to control this behavior.\n",
      "  _warn_prf(average, modifier, msg_start, len(result))\n"
     ]
    }
   ],
   "source": [
    "print(classification_report(actual_class, pred_class))"
   ]
  },
  {
   "cell_type": "code",
   "execution_count": null,
   "id": "cef3be4c-98a3-4e03-8460-f3c06ce392e2",
   "metadata": {},
   "outputs": [],
   "source": []
  }
 ],
 "metadata": {
  "kernelspec": {
   "display_name": "PyCharm (MERA)",
   "language": "python",
   "name": "pycharm-2f8d2c2d"
  },
  "language_info": {
   "codemirror_mode": {
    "name": "ipython",
    "version": 3
   },
   "file_extension": ".py",
   "mimetype": "text/x-python",
   "name": "python",
   "nbconvert_exporter": "python",
   "pygments_lexer": "ipython3",
   "version": "3.8.8"
  }
 },
 "nbformat": 4,
 "nbformat_minor": 5
}
