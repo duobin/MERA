{
 "cells": [
  {
   "cell_type": "code",
   "execution_count": 1,
   "id": "c13ac7fb",
   "metadata": {},
   "outputs": [],
   "source": [
    "import torch\n",
    "from torch import nn\n",
    "\n",
    "from torchtext.legacy import data\n",
    "from torchtext.vocab import Vectors\n",
    "\n",
    "import spacy\n",
    "import pandas as pd\n",
    "import numpy as np\n",
    "from sklearn.metrics import accuracy_score\n",
    "\n",
    "import time\n",
    "import matplotlib.pyplot as plt"
   ]
  },
  {
   "cell_type": "code",
   "execution_count": 2,
   "id": "0db1c0ef",
   "metadata": {},
   "outputs": [],
   "source": [
    "# data files\n",
    "train_file = \"../../data/train.csv\"\n",
    "val_file = \"../../data/validation.csv\"\n",
    "test_file = \"../../data/test.csv\"\n",
    "\n",
    "# gloVe pretrained\n",
    "w2v_file = \"glove.840B.300d.txt\"\n",
    "\n",
    "# hyperparameters\n",
    "embed_size = 300\n",
    "hidden_size = 10\n",
    "output_size = 4\n",
    "max_epochs = 30\n",
    "lr = 0.5\n",
    "batch_size = 128\n",
    "\n",
    "device = torch.device(\"cuda\" if torch.cuda.is_available() else \"cpu\")"
   ]
  },
  {
   "cell_type": "code",
   "execution_count": 29,
   "id": "53ddf5c5",
   "metadata": {},
   "outputs": [],
   "source": [
    "# used to convert data to torchtext object\n",
    "def get_data_train(train_file, val_file):\n",
    "    train = pd.read_csv(train_file, header=None, names=[\"quadrant\", \"lyrics\"], skiprows=1)\n",
    "    valid = pd.read_csv(val_file, header=None, names=[\"quadrant\", \"lyrics\"], skiprows=1)\n",
    "    full = pd.concat([train, valid])\n",
    "    \n",
    "    return full\n",
    "\n",
    "def get_data_test(test_file):\n",
    "    test = pd.read_csv(test_file, header=None, names=[\"quadrant\", \"lyrics\"], skiprows=1)\n",
    "    return test"
   ]
  },
  {
   "cell_type": "code",
   "execution_count": 30,
   "id": "7de4b6b0",
   "metadata": {},
   "outputs": [],
   "source": [
    "# loads data\n",
    "# set up iterators for datasets\n",
    "# create vocabulary and word embeddings\n",
    "def load_data(w2v_file, train_file, test_file, val_file):\n",
    "    NLP = spacy.load(\"en_core_web_sm\")\n",
    "    tokenizer = lambda sent: [x.text for x in NLP.tokenizer(sent) if x.text != \" \"]\n",
    "    \n",
    "    # fields\n",
    "    TEXT = data.Field(sequential=True, tokenize=tokenizer, lower=True)\n",
    "    LABEL = data.Field(sequential=False, use_vocab=False)\n",
    "    datafields = [(\"quadrant\", LABEL), (\"lyrics\", TEXT)]\n",
    "    \n",
    "    # 1. load data from files\n",
    "    train_data = get_data_train(train_file, val_file)\n",
    "    train_examples = [data.Example.fromlist(i, datafields) for i in train_data.values.tolist()]\n",
    "    train_data = data.Dataset(train_examples, datafields)\n",
    "    \n",
    "    test_data = get_data_test(test_file)\n",
    "    test_examples = [data.Example.fromlist(i, datafields) for i in test_data.values.tolist()]\n",
    "    test_data = data.Dataset(test_examples, datafields)\n",
    "    \n",
    "    # get val from train\n",
    "    train_data, val_data = train_data.split(split_ratio=0.9)\n",
    "    \n",
    "    # 2. iterators\n",
    "    train_iter = data.BucketIterator(dataset=train_data,\n",
    "                                    batch_size=batch_size,\n",
    "                                    sort_key=lambda x: len(x.lyrics),\n",
    "                                    repeat=False, shuffle=True)\n",
    "    val_iter, test_iter = data.BucketIterator.splits(datasets=(val_data, test_data),\n",
    "                                                    batch_sizes=(batch_size, batch_size),\n",
    "                                                    sort_key=lambda x: len(x.lyrics),\n",
    "                                                    repeat=False, shuffle=False)\n",
    "    \n",
    "    print (\"Loaded {} training examples\".format(len(train_data)))\n",
    "    print (\"Loaded {} test examples\".format(len(test_data)))\n",
    "    print (\"Loaded {} validation examples\".format(len(val_data)))\n",
    "    \n",
    "    # 3. vocabs and embeddings\n",
    "    TEXT.build_vocab(train_data, vectors=Vectors(w2v_file))\n",
    "    word_emeddings = TEXT.vocab.vectors\n",
    "    vocab = TEXT.vocab\n",
    "    \n",
    "    return train_iter, val_iter, test_iter, (train_data, val_data, test_data), word_emeddings, vocab"
   ]
  },
  {
   "cell_type": "code",
   "execution_count": null,
   "id": "307ace23",
   "metadata": {
    "scrolled": true
   },
   "outputs": [
    {
     "name": "stdout",
     "output_type": "stream",
     "text": [
      "Loaded 12685 training examples\n",
      "Loaded 3273 test examples\n",
      "Loaded 1409 validation examples\n"
     ]
    },
    {
     "name": "stderr",
     "output_type": "stream",
     "text": [
      "100%|█████████████████████████████▉| 2196016/2196017 [03:50<00:00, 9530.59it/s]\n"
     ]
    }
   ],
   "source": [
    "train_iter, val_iter, test_iter, datasets, word_emeddings, vocab = load_data(w2v_file, train_file, test_file, val_file)"
   ]
  },
  {
   "cell_type": "code",
   "execution_count": null,
   "id": "b4def38a",
   "metadata": {},
   "outputs": [],
   "source": []
  },
  {
   "cell_type": "code",
   "execution_count": 37,
   "id": "fad3a247",
   "metadata": {},
   "outputs": [],
   "source": [
    "# fastText model\n",
    "class fastTextNN(nn.Module):\n",
    "    def __init__(self, vocab_size, word_embeddings):\n",
    "        super(fastTextNN, self).__init__()\n",
    "        \n",
    "        # embedding layer\n",
    "        self.embeddings = nn.Embedding(vocab_size, embed_size)\n",
    "        self.embeddings.weight = nn.Parameter(word_embeddings, requires_grad=False)\n",
    "        # hidden layer & output layer\n",
    "        self.fc1 = nn.Linear(embed_size, hidden_size)\n",
    "        self.fc2 = nn.Linear(hidden_size, output_size)\n",
    "        # softmax\n",
    "        self.softmax = nn.Softmax()\n",
    "        \n",
    "    def forward(self, x):\n",
    "        embedds = self.embeddings(x).permute(1, 0, 2)\n",
    "        h = self.fc1(embedds.mean(1))\n",
    "        z = self.fc2(h)\n",
    "        \n",
    "        return self.softmax(z)"
   ]
  },
  {
   "cell_type": "code",
   "execution_count": null,
   "id": "f26dcc3a",
   "metadata": {},
   "outputs": [],
   "source": []
  },
  {
   "cell_type": "code",
   "execution_count": null,
   "id": "6015256f",
   "metadata": {},
   "outputs": [],
   "source": [
    "model = fastTextNN(len(vocab), word_embeddings)\n",
    "model.to(device)"
   ]
  },
  {
   "cell_type": "code",
   "execution_count": null,
   "id": "f7d85a16",
   "metadata": {},
   "outputs": [],
   "source": [
    "def train_func(data, data_):\n",
    "\n",
    "    # Train the model\n",
    "    train_loss = 0\n",
    "    train_acc = 0\n",
    "    for (lyrics, label) in data:\n",
    "        optimizer.zero_grad()\n",
    "        label, lyrics = label.to(device), lyrics.to(device)\n",
    "        output = model(lyrics)\n",
    "        loss = criterion(output, label)\n",
    "        train_loss += loss.item()\n",
    "        loss.backward()\n",
    "        optimizer.step()\n",
    "        train_acc += (output.argmax(1) == label).sum().item()\n",
    "\n",
    "    # Adjust the learning rate\n",
    "    scheduler.step()\n",
    "\n",
    "    return train_loss / len(data_), train_acc / len(data_)\n",
    "\n",
    "def test(data, data_):\n",
    "    loss = 0\n",
    "    acc = 0\n",
    "    for (lyrics, label) in data:\n",
    "        label, lyrics = label.to(device), lyrics.to(device)\n",
    "        with torch.no_grad():\n",
    "            output = model(lyrics)\n",
    "            loss = criterion(output, label)\n",
    "            loss += loss.item()\n",
    "            acc += (output.argmax(1) == label).sum().item()\n",
    "\n",
    "    return loss / len(data_), acc / len(data_)"
   ]
  },
  {
   "cell_type": "code",
   "execution_count": null,
   "id": "4eb8823c",
   "metadata": {},
   "outputs": [],
   "source": [
    "N_EPOCHS = 5\n",
    "min_valid_loss = float('inf')\n",
    "\n",
    "criterion = torch.nn.NLLLoss().to(device)\n",
    "optimizer = torch.optim.SGD(model.parameters(), lr=4.0)\n",
    "scheduler = torch.optim.lr_scheduler.StepLR(optimizer, 1, gamma=0.9)\n",
    "\n",
    "train_losses, valid_losses = [], []\n",
    "train_accs, valid_accs = [], []\n",
    "\n",
    "for epoch in range(N_EPOCHS):\n",
    "\n",
    "    start_time = time.time()\n",
    "    train_loss, train_acc = train_func(train_iter, datasets[0])\n",
    "    valid_loss, valid_acc = test(val_iter, datasets[1])\n",
    "\n",
    "    secs = int(time.time() - start_time)\n",
    "    mins = secs / 60\n",
    "    secs = secs % 60\n",
    "\n",
    "    print('Epoch: %d' %(epoch + 1), \" | time in %d minutes, %d seconds\" %(mins, secs))\n",
    "    print(f'\\tLoss: {train_loss:.4f}(train)\\t|\\tAcc: {train_acc * 100:.1f}%(train)')\n",
    "    print(f'\\tLoss: {valid_loss:.4f}(valid)\\t|\\tAcc: {valid_acc * 100:.1f}%(valid)')\n",
    "    \n",
    "    train_losses.append(train_loss)\n",
    "    train_accs.append(train_acc)\n",
    "    valid_losses.append(valid_loss)\n",
    "    valid_accs.append(valid_acc)\n",
    "    \n",
    "\n",
    "# plots"
   ]
  },
  {
   "cell_type": "code",
   "execution_count": null,
   "id": "30214a7f",
   "metadata": {},
   "outputs": [],
   "source": [
    "print('Checking the results of test dataset...')\n",
    "test_loss, test_acc = test(test_iter, datasts[2])\n",
    "print(f'\\tLoss: {test_loss:.4f}(test)\\t|\\tAcc: {test_acc * 100:.1f}%(test)')"
   ]
  }
 ],
 "metadata": {
  "kernelspec": {
   "display_name": "Python 3 (ipykernel)",
   "language": "python",
   "name": "python3"
  },
  "language_info": {
   "codemirror_mode": {
    "name": "ipython",
    "version": 3
   },
   "file_extension": ".py",
   "mimetype": "text/x-python",
   "name": "python",
   "nbconvert_exporter": "python",
   "pygments_lexer": "ipython3",
   "version": "3.8.8"
  }
 },
 "nbformat": 4,
 "nbformat_minor": 5
}
