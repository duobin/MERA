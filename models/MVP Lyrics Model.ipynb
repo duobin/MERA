{
 "cells": [
  {
   "cell_type": "markdown",
   "metadata": {},
   "source": [
    "## Load data"
   ]
  },
  {
   "cell_type": "code",
   "execution_count": 1,
   "metadata": {},
   "outputs": [],
   "source": [
    "with open(\"../data/train/lyrics/lyrics.txt\", \"r\") as f:\n",
    "    lyrics = f.read()\n",
    "with open(\"../data/train/lyrics/labels.txt\", \"r\") as f:\n",
    "    labels = f.read()"
   ]
  },
  {
   "cell_type": "code",
   "execution_count": 2,
   "metadata": {},
   "outputs": [
    {
     "name": "stdout",
     "output_type": "stream",
     "text": [
      "Gently hold our hands Gently hold our heads on high  Aimless time in fear new hide Overthrow the plan Confusion lies in all my words Mad is the soul  We barricade ourselves in holes of temperament This is the dawning of a new age A heart that beats the wrong way Insanity's crescendo  Windcolour, second sight A touch of silence and the violence of dark Illusion span, the aroma of time Shadowlife and the scent of nothingness  Infinite fall of instinct Order of one spells deceit Infin\n",
      "We are the Sun We are the dead stars We are the black sky Invading your room We are the candle The only light We are the machines of the past Forever victims and murderers of your joy  We are Death The ancient knowledge The source of origin The red and white sacred hatred Enthroned, materialized The wrath of heaven and hell united in one Worship us, be faithful Beautiful great and cursed  Vexilla regis prodeunt, fulget crucis mysterium Vexilla regis prodeunt inferni  We are the... Mother of suffering Bringer of virtue\n",
      "You're out of touch I'm out of time But I'm out of my head when you're not around You're out of touch I'm out of time But I'm out of my head when you're not around  You're out of touch You're out of touch You're out of touch You're out of touch You're out of touch...  You're out of touch I'm out of time But I'm out of my head when you're not around\n",
      "You finally close the door You've left open wide Lock it from the inside You lay me down and count me out  Watch out, it's all on you There's worse ways to see it, baby Set fire and watch it burning Come here, sit next me\n",
      "Lullaby by birdland that's what I Always hear, when you sigh, Never in my wordland could there be words to reveal In a phrase how I feel  Have you ever heard two turtle doves Bill and coo, when they love? That's the kind of magic music we made with our lips When we kiss  And there's a weepy old willow He really knows how to cry\n",
      "It's the wood man and his splintering self. It's the wooden woman and her hollowing ou\n",
      "\n",
      "1\n",
      "1\n",
      "0\n",
      "0\n",
      "0\n",
      "1\n",
      "1\n",
      "0\n",
      "1\n",
      "0\n",
      "\n"
     ]
    }
   ],
   "source": [
    "print(lyrics[:2000])\n",
    "print()\n",
    "print(labels[:20])"
   ]
  },
  {
   "cell_type": "markdown",
   "metadata": {},
   "source": [
    "## Data pre-processing"
   ]
  },
  {
   "cell_type": "code",
   "execution_count": 55,
   "metadata": {},
   "outputs": [
    {
     "name": "stdout",
     "output_type": "stream",
     "text": [
      "!\"#$%&'()*+,-./:;<=>?@[\\]^_`{|}~\n"
     ]
    }
   ],
   "source": [
    "from string import punctuation\n",
    "\n",
    "print(punctuation)\n",
    "# remove punctuations\n",
    "lyrics = lyrics.lower()\n",
    "all_text = ''.join([c for c in lyrics if c not in punctuation])"
   ]
  },
  {
   "cell_type": "code",
   "execution_count": 56,
   "metadata": {},
   "outputs": [],
   "source": [
    "lyrics_split = all_text.split('\\n')\n",
    "lyrics_split.remove('')\n",
    "all_text = ' '.join(lyrics_split)\n",
    "words = all_text.split()"
   ]
  },
  {
   "cell_type": "markdown",
   "metadata": {},
   "source": [
    "## Encoding "
   ]
  },
  {
   "cell_type": "code",
   "execution_count": 57,
   "metadata": {},
   "outputs": [],
   "source": [
    "# encoding lyrics\n",
    "from collections import Counter\n",
    "# map words to integers\n",
    "counts = Counter(words)\n",
    "vocab = sorted(counts, key=counts.get, reverse=True)\n",
    "vocab_to_int = {word: i for i, word in enumerate(vocab, 1)}\n",
    "# tokenize each lyric\n",
    "lyrics_ints = []\n",
    "for lyric in lyrics_split:\n",
    "    lyrics_ints.append([vocab_to_int[word] for word in lyric.split()])"
   ]
  },
  {
   "cell_type": "code",
   "execution_count": 58,
   "metadata": {},
   "outputs": [
    {
     "name": "stdout",
     "output_type": "stream",
     "text": [
      "3704\n",
      "\n",
      "[[1154, 153, 105, 193, 1154, 153, 105, 1155, 15, 201, 1695, 48, 9, 278, 279, 255, 1696, 3, 501, 1156, 308, 9, 16, 8, 354, 717, 18, 3, 309, 31, 1697, 885, 9, 1157, 11, 1698, 27, 18, 3, 1158, 11, 7, 279, 1699, 7, 91, 12, 886, 3, 256, 70, 1700, 1701, 1702, 887, 454, 7, 194, 11, 718, 4, 3, 1703, 11, 310, 1704, 1705, 3, 1706, 11, 48, 1707, 4, 3, 1708, 11, 1709, 1710, 166, 11, 1711, 1712, 11, 42, 1159, 1713, 1714]]\n"
     ]
    }
   ],
   "source": [
    "print(len(vocab_to_int))\n",
    "print()\n",
    "print(lyrics_ints[:1])"
   ]
  },
  {
   "cell_type": "code",
   "execution_count": 60,
   "metadata": {},
   "outputs": [],
   "source": [
    "# encoding labels.\n",
    "import numpy as np\n",
    "\n",
    "labels_split = labels.split('\\n')\n",
    "labels_split.remove('')\n",
    "encoded_labels = np.array([int(label) for label in labels_split])"
   ]
  },
  {
   "cell_type": "markdown",
   "metadata": {},
   "source": [
    "## Removing Outliers "
   ]
  },
  {
   "cell_type": "code",
   "execution_count": 63,
   "metadata": {},
   "outputs": [
    {
     "name": "stdout",
     "output_type": "stream",
     "text": [
      "Zero-length lyrics: 0\n",
      "Maximum lyrics length: 265\n"
     ]
    }
   ],
   "source": [
    "# outlier review stats\n",
    "lyrics_lens = Counter([len(x) for x in lyrics_ints])\n",
    "print(\"Zero-length lyrics: {}\".format(lyrics_lens[0]))\n",
    "print(\"Maximum lyrics length: {}\".format(max(lyrics_lens)))"
   ]
  },
  {
   "cell_type": "markdown",
   "metadata": {},
   "source": [
    "No zero length lyrics"
   ]
  },
  {
   "cell_type": "markdown",
   "metadata": {},
   "source": [
    "## Padding sequences"
   ]
  },
  {
   "cell_type": "code",
   "execution_count": 65,
   "metadata": {},
   "outputs": [],
   "source": [
    "def pad_features(lyrics_ints, seq_length):\n",
    "    ''' Return features of lyrics_ints, where each lyric is padded with 0's \n",
    "        or truncated to the input seq_length.\n",
    "    '''\n",
    "    # getting correct rows and columns shape\n",
    "    features = np.zeros((len(lyrics_ints), seq_length), dtype=int)\n",
    "    \n",
    "    for i, row in enumerate(lyrics_ints):\n",
    "        features[i, -len(row):] = np.array(row)[:seq_length]\n",
    "    \n",
    "    return features"
   ]
  },
  {
   "cell_type": "code",
   "execution_count": 86,
   "metadata": {},
   "outputs": [
    {
     "name": "stdout",
     "output_type": "stream",
     "text": [
      "[[   0    0    0 ...    0    0    0]\n",
      " [   0    0    0 ...    0    0    0]\n",
      " [   0    0    0 ...    0    0    0]\n",
      " ...\n",
      " [   0    0    0 ...    0   24    1]\n",
      " [   0    0    0 ... 1883    4 1884]\n",
      " [   0    0    0 ...    0    0    0]]\n"
     ]
    }
   ],
   "source": [
    "seq_length = 200\n",
    "\n",
    "features = pad_features(lyrics_ints, seq_length=seq_length)\n",
    "\n",
    "## test statements - do not change - ##\n",
    "assert len(features)==len(lyrics_ints), \"Your features should have as many rows as reviews.\"\n",
    "assert len(features[0])==seq_length, \"Each feature row should contain seq_length values.\"\n",
    "\n",
    "# print first 10 values of the first 30 batches \n",
    "print(features[:30,:50])"
   ]
  },
  {
   "cell_type": "markdown",
   "metadata": {},
   "source": [
    "## Trai, Validation, Test "
   ]
  },
  {
   "cell_type": "code",
   "execution_count": null,
   "metadata": {},
   "outputs": [],
   "source": []
  }
 ],
 "metadata": {
  "kernelspec": {
   "display_name": "Python 3",
   "language": "python",
   "name": "python3"
  },
  "language_info": {
   "codemirror_mode": {
    "name": "ipython",
    "version": 3
   },
   "file_extension": ".py",
   "mimetype": "text/x-python",
   "name": "python",
   "nbconvert_exporter": "python",
   "pygments_lexer": "ipython3",
   "version": "3.8.5"
  }
 },
 "nbformat": 4,
 "nbformat_minor": 4
}
