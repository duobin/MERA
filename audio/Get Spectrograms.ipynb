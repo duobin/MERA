{
 "cells": [
  {
   "cell_type": "code",
   "execution_count": 1,
   "metadata": {},
   "outputs": [],
   "source": [
    "import os"
   ]
  },
  {
   "cell_type": "code",
   "execution_count": 34,
   "metadata": {},
   "outputs": [],
   "source": [
    "path = \"spectrograms/\""
   ]
  },
  {
   "cell_type": "code",
   "execution_count": 35,
   "metadata": {},
   "outputs": [],
   "source": [
    "for path_dir, x, files in os.walk(path): pass"
   ]
  },
  {
   "cell_type": "code",
   "execution_count": 36,
   "metadata": {},
   "outputs": [
    {
     "name": "stdout",
     "output_type": "stream",
     "text": [
      "43\n"
     ]
    }
   ],
   "source": [
    "# get all downloaded spectrogram ids\n",
    "ids_to_drop = [id[:-4] for id in files]\n",
    "print(len(ids_to_drop))"
   ]
  },
  {
   "cell_type": "code",
   "execution_count": 10,
   "metadata": {},
   "outputs": [],
   "source": [
    "from audio_service import create_spectrogram\n",
    "\n",
    "import pandas as pd"
   ]
  },
  {
   "cell_type": "code",
   "execution_count": 37,
   "metadata": {},
   "outputs": [
    {
     "data": {
      "text/html": [
       "<div>\n",
       "<style scoped>\n",
       "    .dataframe tbody tr th:only-of-type {\n",
       "        vertical-align: middle;\n",
       "    }\n",
       "\n",
       "    .dataframe tbody tr th {\n",
       "        vertical-align: top;\n",
       "    }\n",
       "\n",
       "    .dataframe thead th {\n",
       "        text-align: right;\n",
       "    }\n",
       "</style>\n",
       "<table border=\"1\" class=\"dataframe\">\n",
       "  <thead>\n",
       "    <tr style=\"text-align: right;\">\n",
       "      <th></th>\n",
       "      <th>dzr_sng_id</th>\n",
       "      <th>MSD_sng_id</th>\n",
       "      <th>MSD_track_id</th>\n",
       "      <th>valence</th>\n",
       "      <th>arousal</th>\n",
       "      <th>artist_name</th>\n",
       "      <th>track_name</th>\n",
       "      <th>Lyrics</th>\n",
       "    </tr>\n",
       "  </thead>\n",
       "  <tbody>\n",
       "    <tr>\n",
       "      <th>0</th>\n",
       "      <td>213754</td>\n",
       "      <td>SORORTY12A67ADD67E</td>\n",
       "      <td>TRJIEJX12903CF2202</td>\n",
       "      <td>-0.682725</td>\n",
       "      <td>0.316758</td>\n",
       "      <td>Dark Tranquillity</td>\n",
       "      <td>Insanity's Crescendo</td>\n",
       "      <td>Gently hold our hands\\r\\nGently hold our heads...</td>\n",
       "    </tr>\n",
       "    <tr>\n",
       "      <th>1</th>\n",
       "      <td>216752</td>\n",
       "      <td>SOVJXGK12A8AE4760C</td>\n",
       "      <td>TRLBHVY128F4242C31</td>\n",
       "      <td>-1.400403</td>\n",
       "      <td>1.538229</td>\n",
       "      <td>Anorexia Nervosa</td>\n",
       "      <td>Stabat mater dolorosa</td>\n",
       "      <td>We are the Sun\\r\\nWe are the dead stars\\r\\nWe ...</td>\n",
       "    </tr>\n",
       "    <tr>\n",
       "      <th>2</th>\n",
       "      <td>254391</td>\n",
       "      <td>SOUTMGD12A8AE47448</td>\n",
       "      <td>TRCXLKK128F42366BF</td>\n",
       "      <td>0.815393</td>\n",
       "      <td>0.662457</td>\n",
       "      <td>Uniting Nations</td>\n",
       "      <td>Out Of Touch</td>\n",
       "      <td>You're out of touch\\r\\nI'm out of time\\r\\nBut ...</td>\n",
       "    </tr>\n",
       "    <tr>\n",
       "      <th>3</th>\n",
       "      <td>266313</td>\n",
       "      <td>SOTITAA12A6D4F8DA4</td>\n",
       "      <td>TRPMWQM128F932C0C8</td>\n",
       "      <td>1.257460</td>\n",
       "      <td>1.086515</td>\n",
       "      <td>The Walkmen</td>\n",
       "      <td>Brandy alexander</td>\n",
       "      <td>You finally close the door\\r\\nYou've left open...</td>\n",
       "    </tr>\n",
       "    <tr>\n",
       "      <th>4</th>\n",
       "      <td>283306</td>\n",
       "      <td>SOCSRIF12AB018E4FC</td>\n",
       "      <td>TRABHPA12903CEC222</td>\n",
       "      <td>0.373325</td>\n",
       "      <td>-0.923151</td>\n",
       "      <td>Duke Ellington</td>\n",
       "      <td>Caravan</td>\n",
       "      <td>随分先に行ってしまった 光の下のキャラバン\\r\\nトンネルに残響 塞いだ耳 自分嫌いな自分が...</td>\n",
       "    </tr>\n",
       "  </tbody>\n",
       "</table>\n",
       "</div>"
      ],
      "text/plain": [
       "   dzr_sng_id          MSD_sng_id        MSD_track_id   valence   arousal  \\\n",
       "0      213754  SORORTY12A67ADD67E  TRJIEJX12903CF2202 -0.682725  0.316758   \n",
       "1      216752  SOVJXGK12A8AE4760C  TRLBHVY128F4242C31 -1.400403  1.538229   \n",
       "2      254391  SOUTMGD12A8AE47448  TRCXLKK128F42366BF  0.815393  0.662457   \n",
       "3      266313  SOTITAA12A6D4F8DA4  TRPMWQM128F932C0C8  1.257460  1.086515   \n",
       "4      283306  SOCSRIF12AB018E4FC  TRABHPA12903CEC222  0.373325 -0.923151   \n",
       "\n",
       "         artist_name             track_name  \\\n",
       "0  Dark Tranquillity   Insanity's Crescendo   \n",
       "1   Anorexia Nervosa  Stabat mater dolorosa   \n",
       "2    Uniting Nations           Out Of Touch   \n",
       "3        The Walkmen       Brandy alexander   \n",
       "4     Duke Ellington                Caravan   \n",
       "\n",
       "                                              Lyrics  \n",
       "0  Gently hold our hands\\r\\nGently hold our heads...  \n",
       "1  We are the Sun\\r\\nWe are the dead stars\\r\\nWe ...  \n",
       "2  You're out of touch\\r\\nI'm out of time\\r\\nBut ...  \n",
       "3  You finally close the door\\r\\nYou've left open...  \n",
       "4  随分先に行ってしまった 光の下のキャラバン\\r\\nトンネルに残響 塞いだ耳 自分嫌いな自分が...  "
      ]
     },
     "execution_count": 37,
     "metadata": {},
     "output_type": "execute_result"
    }
   ],
   "source": [
    "data = pd.read_csv(\"../data/train.csv\")\n",
    "data.head()"
   ]
  },
  {
   "cell_type": "code",
   "execution_count": 38,
   "metadata": {},
   "outputs": [
    {
     "data": {
      "text/plain": [
       "(10515, 8)"
      ]
     },
     "execution_count": 38,
     "metadata": {},
     "output_type": "execute_result"
    }
   ],
   "source": [
    "data.shape"
   ]
  },
  {
   "cell_type": "code",
   "execution_count": 39,
   "metadata": {},
   "outputs": [
    {
     "data": {
      "text/html": [
       "<div>\n",
       "<style scoped>\n",
       "    .dataframe tbody tr th:only-of-type {\n",
       "        vertical-align: middle;\n",
       "    }\n",
       "\n",
       "    .dataframe tbody tr th {\n",
       "        vertical-align: top;\n",
       "    }\n",
       "\n",
       "    .dataframe thead th {\n",
       "        text-align: right;\n",
       "    }\n",
       "</style>\n",
       "<table border=\"1\" class=\"dataframe\">\n",
       "  <thead>\n",
       "    <tr style=\"text-align: right;\">\n",
       "      <th></th>\n",
       "      <th>dzr_sng_id</th>\n",
       "      <th>MSD_sng_id</th>\n",
       "      <th>MSD_track_id</th>\n",
       "      <th>valence</th>\n",
       "      <th>arousal</th>\n",
       "      <th>artist_name</th>\n",
       "      <th>track_name</th>\n",
       "      <th>Lyrics</th>\n",
       "    </tr>\n",
       "  </thead>\n",
       "  <tbody>\n",
       "    <tr>\n",
       "      <th>43</th>\n",
       "      <td>535419</td>\n",
       "      <td>SONOEWC12A8C13F968</td>\n",
       "      <td>TRRCXVU128F92C24F9</td>\n",
       "      <td>0.909992</td>\n",
       "      <td>0.481157</td>\n",
       "      <td>Collie Buddz</td>\n",
       "      <td>Blind To You</td>\n",
       "      <td>Yuh know, hey! Yeah, you know!\\r\\nWha me say! ...</td>\n",
       "    </tr>\n",
       "    <tr>\n",
       "      <th>44</th>\n",
       "      <td>535901</td>\n",
       "      <td>SONVUWZ12A8AE452F0</td>\n",
       "      <td>TRFDIPO128F425B470</td>\n",
       "      <td>-1.935250</td>\n",
       "      <td>-0.655810</td>\n",
       "      <td>Paul Potts</td>\n",
       "      <td>Caruso</td>\n",
       "      <td>Qui dove il mare luccica\\r\\nE tira forte il ve...</td>\n",
       "    </tr>\n",
       "    <tr>\n",
       "      <th>45</th>\n",
       "      <td>536481</td>\n",
       "      <td>SOWOMMY127F8096DF9</td>\n",
       "      <td>TRCPOGU128F425BBFB</td>\n",
       "      <td>0.957291</td>\n",
       "      <td>0.390507</td>\n",
       "      <td>MGMT</td>\n",
       "      <td>Time To Pretend</td>\n",
       "      <td>I'm feeling rough, I'm feeling raw\\r\\nI'm in t...</td>\n",
       "    </tr>\n",
       "    <tr>\n",
       "      <th>46</th>\n",
       "      <td>536483</td>\n",
       "      <td>SOBAHBY12CF5CFD5A8</td>\n",
       "      <td>TRBIGSQ128F425DEED</td>\n",
       "      <td>0.416986</td>\n",
       "      <td>0.109338</td>\n",
       "      <td>MGMT</td>\n",
       "      <td>The Youth</td>\n",
       "      <td>This is a call to arms\\r\\nTo live and love and...</td>\n",
       "    </tr>\n",
       "    <tr>\n",
       "      <th>47</th>\n",
       "      <td>536484</td>\n",
       "      <td>SOSOXJK12A8AE47120</td>\n",
       "      <td>TRNZOOI128F425D68F</td>\n",
       "      <td>0.957291</td>\n",
       "      <td>0.390507</td>\n",
       "      <td>MGMT</td>\n",
       "      <td>Electric Feel</td>\n",
       "      <td>All along the Western front\\r\\nPeople line up ...</td>\n",
       "    </tr>\n",
       "  </tbody>\n",
       "</table>\n",
       "</div>"
      ],
      "text/plain": [
       "    dzr_sng_id          MSD_sng_id        MSD_track_id   valence   arousal  \\\n",
       "43      535419  SONOEWC12A8C13F968  TRRCXVU128F92C24F9  0.909992  0.481157   \n",
       "44      535901  SONVUWZ12A8AE452F0  TRFDIPO128F425B470 -1.935250 -0.655810   \n",
       "45      536481  SOWOMMY127F8096DF9  TRCPOGU128F425BBFB  0.957291  0.390507   \n",
       "46      536483  SOBAHBY12CF5CFD5A8  TRBIGSQ128F425DEED  0.416986  0.109338   \n",
       "47      536484  SOSOXJK12A8AE47120  TRNZOOI128F425D68F  0.957291  0.390507   \n",
       "\n",
       "     artist_name       track_name  \\\n",
       "43  Collie Buddz     Blind To You   \n",
       "44    Paul Potts           Caruso   \n",
       "45          MGMT  Time To Pretend   \n",
       "46          MGMT        The Youth   \n",
       "47          MGMT    Electric Feel   \n",
       "\n",
       "                                               Lyrics  \n",
       "43  Yuh know, hey! Yeah, you know!\\r\\nWha me say! ...  \n",
       "44  Qui dove il mare luccica\\r\\nE tira forte il ve...  \n",
       "45  I'm feeling rough, I'm feeling raw\\r\\nI'm in t...  \n",
       "46  This is a call to arms\\r\\nTo live and love and...  \n",
       "47  All along the Western front\\r\\nPeople line up ...  "
      ]
     },
     "execution_count": 39,
     "metadata": {},
     "output_type": "execute_result"
    }
   ],
   "source": [
    "# ignore all rows with already downloaded spectrograms\n",
    "data = data[~data[\"dzr_sng_id\"].isin(ids_to_drop)]\n",
    "data.head()"
   ]
  },
  {
   "cell_type": "code",
   "execution_count": 40,
   "metadata": {},
   "outputs": [
    {
     "data": {
      "text/plain": [
       "(10472, 8)"
      ]
     },
     "execution_count": 40,
     "metadata": {},
     "output_type": "execute_result"
    }
   ],
   "source": [
    "data.shape"
   ]
  },
  {
   "cell_type": "code",
   "execution_count": 41,
   "metadata": {},
   "outputs": [],
   "source": [
    "ids = data[\"dzr_sng_id\"]\n",
    "artists = data[\"artist_name\"]\n",
    "tracks = data[\"track_name\"]"
   ]
  },
  {
   "cell_type": "code",
   "execution_count": null,
   "metadata": {},
   "outputs": [
    {
     "name": "stdout",
     "output_type": "stream",
     "text": [
      "[youtube] M_sJVi4FgtQ: Downloading webpage\n",
      "[download] Destination: COLLIE BUDDZ 'BLIND TO YOU'-M_sJVi4FgtQ.webm\n",
      "[download] 100% of 1.43MiB in 00:00                  \n",
      "[ffmpeg] Destination: COLLIE BUDDZ 'BLIND TO YOU'-M_sJVi4FgtQ.mp3\n",
      "Deleting original file COLLIE BUDDZ 'BLIND TO YOU'-M_sJVi4FgtQ.webm (pass -k to keep)\n",
      "COLLIE BUDDZ 'BLIND TO YOU'-M_sJVi4FgtQ.mp3\n"
     ]
    },
    {
     "name": "stderr",
     "output_type": "stream",
     "text": [
      "C:\\Users\\marti\\anaconda3\\lib\\site-packages\\matplotlib\\axes\\_axes.py:7558: RuntimeWarning: divide by zero encountered in log10\n",
      "  Z = 10. * np.log10(spec)\n"
     ]
    },
    {
     "name": "stdout",
     "output_type": "stream",
     "text": [
      "[youtube] gLSrljC-ZKI: Downloading webpage\n",
      "[download] Destination: Paul Potts One Chance - Caruso-gLSrljC-ZKI.webm\n",
      "[download] 100% of 1.51MiB in 00:04                  \n",
      "[ffmpeg] Destination: Paul Potts One Chance - Caruso-gLSrljC-ZKI.mp3\n",
      "Deleting original file Paul Potts One Chance - Caruso-gLSrljC-ZKI.webm (pass -k to keep)\n",
      "Paul Potts One Chance - Caruso-gLSrljC-ZKI.mp3\n",
      "[youtube] B9dSYgd5Elk: Downloading webpage\n",
      "[download] Destination: MGMT - Time To Pretend-B9dSYgd5Elk.webm\n",
      "[download] 100% of 1.52MiB in 00:00                  \n",
      "[ffmpeg] Destination: MGMT - Time To Pretend-B9dSYgd5Elk.mp3\n",
      "Deleting original file MGMT - Time To Pretend-B9dSYgd5Elk.webm (pass -k to keep)\n",
      "MGMT - Time To Pretend-B9dSYgd5Elk.mp3\n",
      "[youtube] EURZuzHyWb0: Downloading webpage\n",
      "[download] Destination: MGMT - The Youth-EURZuzHyWb0.webm\n",
      "[download] 100% of 1.39MiB in 00:03                  \n",
      "[ffmpeg] Destination: MGMT - The Youth-EURZuzHyWb0.mp3\n",
      "Deleting original file MGMT - The Youth-EURZuzHyWb0.webm (pass -k to keep)\n",
      "MGMT - The Youth-EURZuzHyWb0.mp3\n",
      "[youtube] MmZexg8sxyk: Downloading webpage\n",
      "[download] Destination: MGMT - Electric Feel (Official Video)-MmZexg8sxyk.webm\n",
      "[download] 100% of 1.45MiB in 00:01                  \n",
      "[ffmpeg] Destination: MGMT - Electric Feel (Official Video)-MmZexg8sxyk.mp3\n",
      "Deleting original file MGMT - Electric Feel (Official Video)-MmZexg8sxyk.webm (pass -k to keep)\n",
      "MGMT - Electric Feel (Official Video)-MmZexg8sxyk.mp3\n",
      "[youtube] rlExzSQW9aw: Downloading webpage\n",
      "[download] Destination: 4th Dimensional Transition - MGMT - Album-rlExzSQW9aw.m4a\n",
      "[download] 100% of 3.61MiB in 00:04                  \n",
      "[ffmpeg] Destination: 4th Dimensional Transition - MGMT - Album-rlExzSQW9aw.mp3\n",
      "Deleting original file 4th Dimensional Transition - MGMT - Album-rlExzSQW9aw.m4a (pass -k to keep)\n",
      "4th Dimensional Transition - MGMT - Album-rlExzSQW9aw.mp3\n",
      "[youtube] 1gVxiiV7pLU: Downloading webpage\n",
      "[download] Destination: MGMT-The Handshake-1gVxiiV7pLU.webm\n",
      "[download] 100% of 1.15MiB in 00:05                  \n",
      "[ffmpeg] Destination: MGMT-The Handshake-1gVxiiV7pLU.mp3\n"
     ]
    }
   ],
   "source": [
    "for i in range(len(ids)):\n",
    "    create_spectrogram(ids.iloc[i], artists.iloc[i], tracks.iloc[i])"
   ]
  },
  {
   "cell_type": "code",
   "execution_count": null,
   "metadata": {},
   "outputs": [],
   "source": []
  }
 ],
 "metadata": {
  "kernelspec": {
   "display_name": "Python 3",
   "language": "python",
   "name": "python3"
  },
  "language_info": {
   "codemirror_mode": {
    "name": "ipython",
    "version": 3
   },
   "file_extension": ".py",
   "mimetype": "text/x-python",
   "name": "python",
   "nbconvert_exporter": "python",
   "pygments_lexer": "ipython3",
   "version": "3.8.5"
  }
 },
 "nbformat": 4,
 "nbformat_minor": 4
}
