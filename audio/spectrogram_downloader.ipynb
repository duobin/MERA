{
 "cells": [
  {
   "cell_type": "markdown",
   "metadata": {
    "pycharm": {
     "name": "#%% md\n"
    }
   },
   "source": [
    "### Spectogram Downloader\n",
    "\n",
    "This notebook contain code for downloading spectrograms for the data. The\n",
    " spectrograms are first scanned to check whether it has already been downloaded,\n",
    " if so it gets ignored."
   ]
  },
  {
   "cell_type": "code",
   "execution_count": 1,
   "metadata": {
    "collapsed": false,
    "jupyter": {
     "outputs_hidden": false
    },
    "pycharm": {
     "name": "#%%\n"
    }
   },
   "outputs": [
    {
     "name": "stderr",
     "output_type": "stream",
     "text": [
      "/home/martinoywa/anaconda3/lib/python3.8/site-packages/torchaudio/functional/functional.py:432: UserWarning: At least one mel filterbank has all zero values. The value for `n_mels` (128) may be set too high. Or, the value for `n_freqs` (513) may be set too low.\n",
      "  warnings.warn(\n"
     ]
    }
   ],
   "source": [
    "import os\n",
    "import pandas as pd\n",
    "\n",
    "# from audio_service import create_spectrogram\n",
    "from audio_service_v2 import create_mel_spectrogram"
   ]
  },
  {
   "cell_type": "code",
   "execution_count": 2,
   "metadata": {},
   "outputs": [],
   "source": [
    "# path to spectrograms folder\n",
    "path = \"spectrogram/train_v2\""
   ]
  },
  {
   "cell_type": "code",
   "execution_count": 3,
   "metadata": {},
   "outputs": [],
   "source": [
    "def ids_to_ignore(spectrograms_path):\n",
    "    \"\"\"\n",
    "    Takes in path and returns a list of ids of files\n",
    "    already downloaded. These should be ignored during\n",
    "    new download.\n",
    "    :param spectrograms_path: spectrograms path\n",
    "    :return: list of ids to drop\n",
    "    \"\"\"\n",
    "\n",
    "    # getting all filenames in the path\n",
    "    for path_dir, x, files in os.walk(path): pass\n",
    "\n",
    "    # get all downloaded spectrogram ids\n",
    "    # e.g 25485 from \"25485.png\"\n",
    "    ids_to_drop = [int(id[:-4]) for id in files]\n",
    "\n",
    "    return ids_to_drop"
   ]
  },
  {
   "cell_type": "code",
   "execution_count": 4,
   "metadata": {},
   "outputs": [],
   "source": [
    "ids_drop_list = ids_to_ignore(path)"
   ]
  },
  {
   "cell_type": "code",
   "execution_count": 5,
   "metadata": {},
   "outputs": [
    {
     "data": {
      "text/plain": "   dzr_sng_id   valence   arousal        artist_name             track_name  \\\n0      213754 -0.682725  0.316758  Dark Tranquillity   Insanity's Crescendo   \n1      216752 -1.400403  1.538229   Anorexia Nervosa  Stabat mater dolorosa   \n\n                                              lyrics  quadrant  \n0  Gently hold our hands\\nGently hold our heads o...         1  \n1  We are the Sun\\nWe are the dead stars\\nWe are ...         1  ",
      "text/html": "<div>\n<style scoped>\n    .dataframe tbody tr th:only-of-type {\n        vertical-align: middle;\n    }\n\n    .dataframe tbody tr th {\n        vertical-align: top;\n    }\n\n    .dataframe thead th {\n        text-align: right;\n    }\n</style>\n<table border=\"1\" class=\"dataframe\">\n  <thead>\n    <tr style=\"text-align: right;\">\n      <th></th>\n      <th>dzr_sng_id</th>\n      <th>valence</th>\n      <th>arousal</th>\n      <th>artist_name</th>\n      <th>track_name</th>\n      <th>lyrics</th>\n      <th>quadrant</th>\n    </tr>\n  </thead>\n  <tbody>\n    <tr>\n      <th>0</th>\n      <td>213754</td>\n      <td>-0.682725</td>\n      <td>0.316758</td>\n      <td>Dark Tranquillity</td>\n      <td>Insanity's Crescendo</td>\n      <td>Gently hold our hands\\nGently hold our heads o...</td>\n      <td>1</td>\n    </tr>\n    <tr>\n      <th>1</th>\n      <td>216752</td>\n      <td>-1.400403</td>\n      <td>1.538229</td>\n      <td>Anorexia Nervosa</td>\n      <td>Stabat mater dolorosa</td>\n      <td>We are the Sun\\nWe are the dead stars\\nWe are ...</td>\n      <td>1</td>\n    </tr>\n  </tbody>\n</table>\n</div>"
     },
     "execution_count": 5,
     "metadata": {},
     "output_type": "execute_result"
    }
   ],
   "source": [
    "# read data\n",
    "data = pd.read_csv(\"../data/train.csv\")\n",
    "data.head(2)"
   ]
  },
  {
   "cell_type": "code",
   "execution_count": 6,
   "metadata": {},
   "outputs": [
    {
     "data": {
      "text/plain": "dzr_sng_id       int64\nvalence        float64\narousal        float64\nartist_name     object\ntrack_name      object\nlyrics          object\nquadrant         int64\ndtype: object"
     },
     "execution_count": 6,
     "metadata": {},
     "output_type": "execute_result"
    }
   ],
   "source": [
    "data.dtypes"
   ]
  },
  {
   "cell_type": "code",
   "execution_count": 7,
   "outputs": [
    {
     "data": {
      "text/plain": "     dzr_sng_id   valence   arousal   artist_name            track_name  \\\n511      626170  0.482478 -0.471437  Indigo Girls          Strange Fire   \n512      626177  0.815393  0.662457  Alice Cooper  Feed My Frankenstein   \n\n                                                lyrics  quadrant  \n511  I come to you with strange fire\\nI make an off...         3  \n512  Yes, yes, I know you're hungry\\nAh, and here c...         0  ",
      "text/html": "<div>\n<style scoped>\n    .dataframe tbody tr th:only-of-type {\n        vertical-align: middle;\n    }\n\n    .dataframe tbody tr th {\n        vertical-align: top;\n    }\n\n    .dataframe thead th {\n        text-align: right;\n    }\n</style>\n<table border=\"1\" class=\"dataframe\">\n  <thead>\n    <tr style=\"text-align: right;\">\n      <th></th>\n      <th>dzr_sng_id</th>\n      <th>valence</th>\n      <th>arousal</th>\n      <th>artist_name</th>\n      <th>track_name</th>\n      <th>lyrics</th>\n      <th>quadrant</th>\n    </tr>\n  </thead>\n  <tbody>\n    <tr>\n      <th>511</th>\n      <td>626170</td>\n      <td>0.482478</td>\n      <td>-0.471437</td>\n      <td>Indigo Girls</td>\n      <td>Strange Fire</td>\n      <td>I come to you with strange fire\\nI make an off...</td>\n      <td>3</td>\n    </tr>\n    <tr>\n      <th>512</th>\n      <td>626177</td>\n      <td>0.815393</td>\n      <td>0.662457</td>\n      <td>Alice Cooper</td>\n      <td>Feed My Frankenstein</td>\n      <td>Yes, yes, I know you're hungry\\nAh, and here c...</td>\n      <td>0</td>\n    </tr>\n  </tbody>\n</table>\n</div>"
     },
     "execution_count": 7,
     "metadata": {},
     "output_type": "execute_result"
    }
   ],
   "source": [
    "# ignore all rows in the drop list\n",
    "data = data[~data[\"dzr_sng_id\"].isin(ids_drop_list)]\n",
    "data.head(2)"
   ],
   "metadata": {
    "collapsed": false,
    "pycharm": {
     "name": "#%%\n"
    }
   }
  },
  {
   "cell_type": "code",
   "execution_count": 8,
   "metadata": {},
   "outputs": [],
   "source": [
    "ids = data[\"dzr_sng_id\"]\n",
    "artists = data[\"artist_name\"]\n",
    "tracks = data[\"track_name\"]"
   ]
  },
  {
   "cell_type": "code",
   "execution_count": 9,
   "metadata": {},
   "outputs": [
    {
     "name": "stdout",
     "output_type": "stream",
     "text": [
      "[youtube] ujY0o-D-Gyk: Downloading webpage\n",
      "[youtube] ujY0o-D-Gyk: Downloading player b555ee94\n"
     ]
    },
    {
     "name": "stderr",
     "output_type": "stream",
     "text": [
      "ERROR: Signature extraction failed: Traceback (most recent call last):\n",
      "  File \"/home/martinoywa/anaconda3/lib/python3.8/site-packages/youtube_dl/extractor/youtube.py\", line 1348, in _decrypt_signature\n",
      "    func = self._extract_signature_function(\n",
      "  File \"/home/martinoywa/anaconda3/lib/python3.8/site-packages/youtube_dl/extractor/youtube.py\", line 1257, in _extract_signature_function\n",
      "    self._code_cache[player_id] = self._download_webpage(\n",
      "  File \"/home/martinoywa/anaconda3/lib/python3.8/site-packages/youtube_dl/extractor/common.py\", line 798, in _download_webpage\n",
      "    res = self._download_webpage_handle(\n",
      "  File \"/home/martinoywa/anaconda3/lib/python3.8/site-packages/youtube_dl/extractor/common.py\", line 671, in _download_webpage_handle\n",
      "    content = self._webpage_read_content(urlh, url_or_request, video_id, note, errnote, fatal, encoding=encoding)\n",
      "  File \"/home/martinoywa/anaconda3/lib/python3.8/site-packages/youtube_dl/extractor/common.py\", line 721, in _webpage_read_content\n",
      "    webpage_bytes = urlh.read()\n",
      "  File \"/home/martinoywa/anaconda3/lib/python3.8/http/client.py\", line 471, in read\n",
      "    s = self._safe_read(self.length)\n",
      "  File \"/home/martinoywa/anaconda3/lib/python3.8/http/client.py\", line 612, in _safe_read\n",
      "    data = self.fp.read(amt)\n",
      "  File \"/home/martinoywa/anaconda3/lib/python3.8/socket.py\", line 669, in readinto\n",
      "    return self._sock.recv_into(b)\n",
      "  File \"/home/martinoywa/anaconda3/lib/python3.8/ssl.py\", line 1241, in recv_into\n",
      "    return self.read(nbytes, buffer)\n",
      "  File \"/home/martinoywa/anaconda3/lib/python3.8/ssl.py\", line 1099, in read\n",
      "    return self._sslobj.read(len, buffer)\n",
      "ConnectionResetError: [Errno 104] Connection reset by peer\n",
      " (caused by ConnectionResetError(104, 'Connection reset by peer')); please report this issue on https://yt-dl.org/bug . Make sure you are using the latest version; see  https://yt-dl.org/update  on how to update. Be sure to call youtube-dl with the --verbose flag and include its complete output.\n"
     ]
    },
    {
     "ename": "DownloadError",
     "evalue": "ERROR: Signature extraction failed: Traceback (most recent call last):\n  File \"/home/martinoywa/anaconda3/lib/python3.8/site-packages/youtube_dl/extractor/youtube.py\", line 1348, in _decrypt_signature\n    func = self._extract_signature_function(\n  File \"/home/martinoywa/anaconda3/lib/python3.8/site-packages/youtube_dl/extractor/youtube.py\", line 1257, in _extract_signature_function\n    self._code_cache[player_id] = self._download_webpage(\n  File \"/home/martinoywa/anaconda3/lib/python3.8/site-packages/youtube_dl/extractor/common.py\", line 798, in _download_webpage\n    res = self._download_webpage_handle(\n  File \"/home/martinoywa/anaconda3/lib/python3.8/site-packages/youtube_dl/extractor/common.py\", line 671, in _download_webpage_handle\n    content = self._webpage_read_content(urlh, url_or_request, video_id, note, errnote, fatal, encoding=encoding)\n  File \"/home/martinoywa/anaconda3/lib/python3.8/site-packages/youtube_dl/extractor/common.py\", line 721, in _webpage_read_content\n    webpage_bytes = urlh.read()\n  File \"/home/martinoywa/anaconda3/lib/python3.8/http/client.py\", line 471, in read\n    s = self._safe_read(self.length)\n  File \"/home/martinoywa/anaconda3/lib/python3.8/http/client.py\", line 612, in _safe_read\n    data = self.fp.read(amt)\n  File \"/home/martinoywa/anaconda3/lib/python3.8/socket.py\", line 669, in readinto\n    return self._sock.recv_into(b)\n  File \"/home/martinoywa/anaconda3/lib/python3.8/ssl.py\", line 1241, in recv_into\n    return self.read(nbytes, buffer)\n  File \"/home/martinoywa/anaconda3/lib/python3.8/ssl.py\", line 1099, in read\n    return self._sslobj.read(len, buffer)\nConnectionResetError: [Errno 104] Connection reset by peer\n (caused by ConnectionResetError(104, 'Connection reset by peer')); please report this issue on https://yt-dl.org/bug . Make sure you are using the latest version; see  https://yt-dl.org/update  on how to update. Be sure to call youtube-dl with the --verbose flag and include its complete output.",
     "output_type": "error",
     "traceback": [
      "\u001B[0;31m---------------------------------------------------------------------------\u001B[0m",
      "\u001B[0;31mConnectionResetError\u001B[0m                      Traceback (most recent call last)",
      "\u001B[0;32m~/anaconda3/lib/python3.8/site-packages/youtube_dl/extractor/youtube.py\u001B[0m in \u001B[0;36m_decrypt_signature\u001B[0;34m(self, s, video_id, player_url)\u001B[0m\n\u001B[1;32m   1347\u001B[0m             \u001B[0;32mif\u001B[0m \u001B[0mplayer_id\u001B[0m \u001B[0;32mnot\u001B[0m \u001B[0;32min\u001B[0m \u001B[0mself\u001B[0m\u001B[0;34m.\u001B[0m\u001B[0m_player_cache\u001B[0m\u001B[0;34m:\u001B[0m\u001B[0;34m\u001B[0m\u001B[0;34m\u001B[0m\u001B[0m\n\u001B[0;32m-> 1348\u001B[0;31m                 func = self._extract_signature_function(\n\u001B[0m\u001B[1;32m   1349\u001B[0m                     \u001B[0mvideo_id\u001B[0m\u001B[0;34m,\u001B[0m \u001B[0mplayer_url\u001B[0m\u001B[0;34m,\u001B[0m \u001B[0ms\u001B[0m\u001B[0;34m\u001B[0m\u001B[0;34m\u001B[0m\u001B[0m\n",
      "\u001B[0;32m~/anaconda3/lib/python3.8/site-packages/youtube_dl/extractor/youtube.py\u001B[0m in \u001B[0;36m_extract_signature_function\u001B[0;34m(self, video_id, player_url, example_sig)\u001B[0m\n\u001B[1;32m   1256\u001B[0m         \u001B[0;32mif\u001B[0m \u001B[0mplayer_id\u001B[0m \u001B[0;32mnot\u001B[0m \u001B[0;32min\u001B[0m \u001B[0mself\u001B[0m\u001B[0;34m.\u001B[0m\u001B[0m_code_cache\u001B[0m\u001B[0;34m:\u001B[0m\u001B[0;34m\u001B[0m\u001B[0;34m\u001B[0m\u001B[0m\n\u001B[0;32m-> 1257\u001B[0;31m             self._code_cache[player_id] = self._download_webpage(\n\u001B[0m\u001B[1;32m   1258\u001B[0m                 \u001B[0mplayer_url\u001B[0m\u001B[0;34m,\u001B[0m \u001B[0mvideo_id\u001B[0m\u001B[0;34m,\u001B[0m\u001B[0;34m\u001B[0m\u001B[0;34m\u001B[0m\u001B[0m\n",
      "\u001B[0;32m~/anaconda3/lib/python3.8/site-packages/youtube_dl/extractor/common.py\u001B[0m in \u001B[0;36m_download_webpage\u001B[0;34m(self, url_or_request, video_id, note, errnote, fatal, tries, timeout, encoding, data, headers, query, expected_status)\u001B[0m\n\u001B[1;32m    797\u001B[0m             \u001B[0;32mtry\u001B[0m\u001B[0;34m:\u001B[0m\u001B[0;34m\u001B[0m\u001B[0;34m\u001B[0m\u001B[0m\n\u001B[0;32m--> 798\u001B[0;31m                 res = self._download_webpage_handle(\n\u001B[0m\u001B[1;32m    799\u001B[0m                     \u001B[0murl_or_request\u001B[0m\u001B[0;34m,\u001B[0m \u001B[0mvideo_id\u001B[0m\u001B[0;34m,\u001B[0m \u001B[0mnote\u001B[0m\u001B[0;34m,\u001B[0m \u001B[0merrnote\u001B[0m\u001B[0;34m,\u001B[0m \u001B[0mfatal\u001B[0m\u001B[0;34m,\u001B[0m\u001B[0;34m\u001B[0m\u001B[0;34m\u001B[0m\u001B[0m\n",
      "\u001B[0;32m~/anaconda3/lib/python3.8/site-packages/youtube_dl/extractor/common.py\u001B[0m in \u001B[0;36m_download_webpage_handle\u001B[0;34m(self, url_or_request, video_id, note, errnote, fatal, encoding, data, headers, query, expected_status)\u001B[0m\n\u001B[1;32m    670\u001B[0m             \u001B[0;32mreturn\u001B[0m \u001B[0;32mFalse\u001B[0m\u001B[0;34m\u001B[0m\u001B[0;34m\u001B[0m\u001B[0m\n\u001B[0;32m--> 671\u001B[0;31m         \u001B[0mcontent\u001B[0m \u001B[0;34m=\u001B[0m \u001B[0mself\u001B[0m\u001B[0;34m.\u001B[0m\u001B[0m_webpage_read_content\u001B[0m\u001B[0;34m(\u001B[0m\u001B[0murlh\u001B[0m\u001B[0;34m,\u001B[0m \u001B[0murl_or_request\u001B[0m\u001B[0;34m,\u001B[0m \u001B[0mvideo_id\u001B[0m\u001B[0;34m,\u001B[0m \u001B[0mnote\u001B[0m\u001B[0;34m,\u001B[0m \u001B[0merrnote\u001B[0m\u001B[0;34m,\u001B[0m \u001B[0mfatal\u001B[0m\u001B[0;34m,\u001B[0m \u001B[0mencoding\u001B[0m\u001B[0;34m=\u001B[0m\u001B[0mencoding\u001B[0m\u001B[0;34m)\u001B[0m\u001B[0;34m\u001B[0m\u001B[0;34m\u001B[0m\u001B[0m\n\u001B[0m\u001B[1;32m    672\u001B[0m         \u001B[0;32mreturn\u001B[0m \u001B[0;34m(\u001B[0m\u001B[0mcontent\u001B[0m\u001B[0;34m,\u001B[0m \u001B[0murlh\u001B[0m\u001B[0;34m)\u001B[0m\u001B[0;34m\u001B[0m\u001B[0;34m\u001B[0m\u001B[0m\n",
      "\u001B[0;32m~/anaconda3/lib/python3.8/site-packages/youtube_dl/extractor/common.py\u001B[0m in \u001B[0;36m_webpage_read_content\u001B[0;34m(self, urlh, url_or_request, video_id, note, errnote, fatal, prefix, encoding)\u001B[0m\n\u001B[1;32m    720\u001B[0m         \u001B[0mcontent_type\u001B[0m \u001B[0;34m=\u001B[0m \u001B[0murlh\u001B[0m\u001B[0;34m.\u001B[0m\u001B[0mheaders\u001B[0m\u001B[0;34m.\u001B[0m\u001B[0mget\u001B[0m\u001B[0;34m(\u001B[0m\u001B[0;34m'Content-Type'\u001B[0m\u001B[0;34m,\u001B[0m \u001B[0;34m''\u001B[0m\u001B[0;34m)\u001B[0m\u001B[0;34m\u001B[0m\u001B[0;34m\u001B[0m\u001B[0m\n\u001B[0;32m--> 721\u001B[0;31m         \u001B[0mwebpage_bytes\u001B[0m \u001B[0;34m=\u001B[0m \u001B[0murlh\u001B[0m\u001B[0;34m.\u001B[0m\u001B[0mread\u001B[0m\u001B[0;34m(\u001B[0m\u001B[0;34m)\u001B[0m\u001B[0;34m\u001B[0m\u001B[0;34m\u001B[0m\u001B[0m\n\u001B[0m\u001B[1;32m    722\u001B[0m         \u001B[0;32mif\u001B[0m \u001B[0mprefix\u001B[0m \u001B[0;32mis\u001B[0m \u001B[0;32mnot\u001B[0m \u001B[0;32mNone\u001B[0m\u001B[0;34m:\u001B[0m\u001B[0;34m\u001B[0m\u001B[0;34m\u001B[0m\u001B[0m\n",
      "\u001B[0;32m~/anaconda3/lib/python3.8/http/client.py\u001B[0m in \u001B[0;36mread\u001B[0;34m(self, amt)\u001B[0m\n\u001B[1;32m    470\u001B[0m                 \u001B[0;32mtry\u001B[0m\u001B[0;34m:\u001B[0m\u001B[0;34m\u001B[0m\u001B[0;34m\u001B[0m\u001B[0m\n\u001B[0;32m--> 471\u001B[0;31m                     \u001B[0ms\u001B[0m \u001B[0;34m=\u001B[0m \u001B[0mself\u001B[0m\u001B[0;34m.\u001B[0m\u001B[0m_safe_read\u001B[0m\u001B[0;34m(\u001B[0m\u001B[0mself\u001B[0m\u001B[0;34m.\u001B[0m\u001B[0mlength\u001B[0m\u001B[0;34m)\u001B[0m\u001B[0;34m\u001B[0m\u001B[0;34m\u001B[0m\u001B[0m\n\u001B[0m\u001B[1;32m    472\u001B[0m                 \u001B[0;32mexcept\u001B[0m \u001B[0mIncompleteRead\u001B[0m\u001B[0;34m:\u001B[0m\u001B[0;34m\u001B[0m\u001B[0;34m\u001B[0m\u001B[0m\n",
      "\u001B[0;32m~/anaconda3/lib/python3.8/http/client.py\u001B[0m in \u001B[0;36m_safe_read\u001B[0;34m(self, amt)\u001B[0m\n\u001B[1;32m    611\u001B[0m         \"\"\"\n\u001B[0;32m--> 612\u001B[0;31m         \u001B[0mdata\u001B[0m \u001B[0;34m=\u001B[0m \u001B[0mself\u001B[0m\u001B[0;34m.\u001B[0m\u001B[0mfp\u001B[0m\u001B[0;34m.\u001B[0m\u001B[0mread\u001B[0m\u001B[0;34m(\u001B[0m\u001B[0mamt\u001B[0m\u001B[0;34m)\u001B[0m\u001B[0;34m\u001B[0m\u001B[0;34m\u001B[0m\u001B[0m\n\u001B[0m\u001B[1;32m    613\u001B[0m         \u001B[0;32mif\u001B[0m \u001B[0mlen\u001B[0m\u001B[0;34m(\u001B[0m\u001B[0mdata\u001B[0m\u001B[0;34m)\u001B[0m \u001B[0;34m<\u001B[0m \u001B[0mamt\u001B[0m\u001B[0;34m:\u001B[0m\u001B[0;34m\u001B[0m\u001B[0;34m\u001B[0m\u001B[0m\n",
      "\u001B[0;32m~/anaconda3/lib/python3.8/socket.py\u001B[0m in \u001B[0;36mreadinto\u001B[0;34m(self, b)\u001B[0m\n\u001B[1;32m    668\u001B[0m             \u001B[0;32mtry\u001B[0m\u001B[0;34m:\u001B[0m\u001B[0;34m\u001B[0m\u001B[0;34m\u001B[0m\u001B[0m\n\u001B[0;32m--> 669\u001B[0;31m                 \u001B[0;32mreturn\u001B[0m \u001B[0mself\u001B[0m\u001B[0;34m.\u001B[0m\u001B[0m_sock\u001B[0m\u001B[0;34m.\u001B[0m\u001B[0mrecv_into\u001B[0m\u001B[0;34m(\u001B[0m\u001B[0mb\u001B[0m\u001B[0;34m)\u001B[0m\u001B[0;34m\u001B[0m\u001B[0;34m\u001B[0m\u001B[0m\n\u001B[0m\u001B[1;32m    670\u001B[0m             \u001B[0;32mexcept\u001B[0m \u001B[0mtimeout\u001B[0m\u001B[0;34m:\u001B[0m\u001B[0;34m\u001B[0m\u001B[0;34m\u001B[0m\u001B[0m\n",
      "\u001B[0;32m~/anaconda3/lib/python3.8/ssl.py\u001B[0m in \u001B[0;36mrecv_into\u001B[0;34m(self, buffer, nbytes, flags)\u001B[0m\n\u001B[1;32m   1240\u001B[0m                   self.__class__)\n\u001B[0;32m-> 1241\u001B[0;31m             \u001B[0;32mreturn\u001B[0m \u001B[0mself\u001B[0m\u001B[0;34m.\u001B[0m\u001B[0mread\u001B[0m\u001B[0;34m(\u001B[0m\u001B[0mnbytes\u001B[0m\u001B[0;34m,\u001B[0m \u001B[0mbuffer\u001B[0m\u001B[0;34m)\u001B[0m\u001B[0;34m\u001B[0m\u001B[0;34m\u001B[0m\u001B[0m\n\u001B[0m\u001B[1;32m   1242\u001B[0m         \u001B[0;32melse\u001B[0m\u001B[0;34m:\u001B[0m\u001B[0;34m\u001B[0m\u001B[0;34m\u001B[0m\u001B[0m\n",
      "\u001B[0;32m~/anaconda3/lib/python3.8/ssl.py\u001B[0m in \u001B[0;36mread\u001B[0;34m(self, len, buffer)\u001B[0m\n\u001B[1;32m   1098\u001B[0m             \u001B[0;32mif\u001B[0m \u001B[0mbuffer\u001B[0m \u001B[0;32mis\u001B[0m \u001B[0;32mnot\u001B[0m \u001B[0;32mNone\u001B[0m\u001B[0;34m:\u001B[0m\u001B[0;34m\u001B[0m\u001B[0;34m\u001B[0m\u001B[0m\n\u001B[0;32m-> 1099\u001B[0;31m                 \u001B[0;32mreturn\u001B[0m \u001B[0mself\u001B[0m\u001B[0;34m.\u001B[0m\u001B[0m_sslobj\u001B[0m\u001B[0;34m.\u001B[0m\u001B[0mread\u001B[0m\u001B[0;34m(\u001B[0m\u001B[0mlen\u001B[0m\u001B[0;34m,\u001B[0m \u001B[0mbuffer\u001B[0m\u001B[0;34m)\u001B[0m\u001B[0;34m\u001B[0m\u001B[0;34m\u001B[0m\u001B[0m\n\u001B[0m\u001B[1;32m   1100\u001B[0m             \u001B[0;32melse\u001B[0m\u001B[0;34m:\u001B[0m\u001B[0;34m\u001B[0m\u001B[0;34m\u001B[0m\u001B[0m\n",
      "\u001B[0;31mConnectionResetError\u001B[0m: [Errno 104] Connection reset by peer",
      "\nDuring handling of the above exception, another exception occurred:\n",
      "\u001B[0;31mExtractorError\u001B[0m                            Traceback (most recent call last)",
      "\u001B[0;32m~/anaconda3/lib/python3.8/site-packages/youtube_dl/YoutubeDL.py\u001B[0m in \u001B[0;36mwrapper\u001B[0;34m(self, *args, **kwargs)\u001B[0m\n\u001B[1;32m    814\u001B[0m             \u001B[0;32mtry\u001B[0m\u001B[0;34m:\u001B[0m\u001B[0;34m\u001B[0m\u001B[0;34m\u001B[0m\u001B[0m\n\u001B[0;32m--> 815\u001B[0;31m                 \u001B[0;32mreturn\u001B[0m \u001B[0mfunc\u001B[0m\u001B[0;34m(\u001B[0m\u001B[0mself\u001B[0m\u001B[0;34m,\u001B[0m \u001B[0;34m*\u001B[0m\u001B[0margs\u001B[0m\u001B[0;34m,\u001B[0m \u001B[0;34m**\u001B[0m\u001B[0mkwargs\u001B[0m\u001B[0;34m)\u001B[0m\u001B[0;34m\u001B[0m\u001B[0;34m\u001B[0m\u001B[0m\n\u001B[0m\u001B[1;32m    816\u001B[0m             \u001B[0;32mexcept\u001B[0m \u001B[0mGeoRestrictedError\u001B[0m \u001B[0;32mas\u001B[0m \u001B[0me\u001B[0m\u001B[0;34m:\u001B[0m\u001B[0;34m\u001B[0m\u001B[0;34m\u001B[0m\u001B[0m\n",
      "\u001B[0;32m~/anaconda3/lib/python3.8/site-packages/youtube_dl/YoutubeDL.py\u001B[0m in \u001B[0;36m__extract_info\u001B[0;34m(self, url, ie, download, extra_info, process)\u001B[0m\n\u001B[1;32m    835\u001B[0m     \u001B[0;32mdef\u001B[0m \u001B[0m__extract_info\u001B[0m\u001B[0;34m(\u001B[0m\u001B[0mself\u001B[0m\u001B[0;34m,\u001B[0m \u001B[0murl\u001B[0m\u001B[0;34m,\u001B[0m \u001B[0mie\u001B[0m\u001B[0;34m,\u001B[0m \u001B[0mdownload\u001B[0m\u001B[0;34m,\u001B[0m \u001B[0mextra_info\u001B[0m\u001B[0;34m,\u001B[0m \u001B[0mprocess\u001B[0m\u001B[0;34m)\u001B[0m\u001B[0;34m:\u001B[0m\u001B[0;34m\u001B[0m\u001B[0;34m\u001B[0m\u001B[0m\n\u001B[0;32m--> 836\u001B[0;31m         \u001B[0mie_result\u001B[0m \u001B[0;34m=\u001B[0m \u001B[0mie\u001B[0m\u001B[0;34m.\u001B[0m\u001B[0mextract\u001B[0m\u001B[0;34m(\u001B[0m\u001B[0murl\u001B[0m\u001B[0;34m)\u001B[0m\u001B[0;34m\u001B[0m\u001B[0;34m\u001B[0m\u001B[0m\n\u001B[0m\u001B[1;32m    837\u001B[0m         \u001B[0;32mif\u001B[0m \u001B[0mie_result\u001B[0m \u001B[0;32mis\u001B[0m \u001B[0;32mNone\u001B[0m\u001B[0;34m:\u001B[0m  \u001B[0;31m# Finished already (backwards compatibility; listformats and friends should be moved here)\u001B[0m\u001B[0;34m\u001B[0m\u001B[0;34m\u001B[0m\u001B[0m\n",
      "\u001B[0;32m~/anaconda3/lib/python3.8/site-packages/youtube_dl/extractor/common.py\u001B[0m in \u001B[0;36mextract\u001B[0;34m(self, url)\u001B[0m\n\u001B[1;32m    533\u001B[0m                     \u001B[0mself\u001B[0m\u001B[0;34m.\u001B[0m\u001B[0minitialize\u001B[0m\u001B[0;34m(\u001B[0m\u001B[0;34m)\u001B[0m\u001B[0;34m\u001B[0m\u001B[0;34m\u001B[0m\u001B[0m\n\u001B[0;32m--> 534\u001B[0;31m                     \u001B[0mie_result\u001B[0m \u001B[0;34m=\u001B[0m \u001B[0mself\u001B[0m\u001B[0;34m.\u001B[0m\u001B[0m_real_extract\u001B[0m\u001B[0;34m(\u001B[0m\u001B[0murl\u001B[0m\u001B[0;34m)\u001B[0m\u001B[0;34m\u001B[0m\u001B[0;34m\u001B[0m\u001B[0m\n\u001B[0m\u001B[1;32m    535\u001B[0m                     \u001B[0;32mif\u001B[0m \u001B[0mself\u001B[0m\u001B[0;34m.\u001B[0m\u001B[0m_x_forwarded_for_ip\u001B[0m\u001B[0;34m:\u001B[0m\u001B[0;34m\u001B[0m\u001B[0;34m\u001B[0m\u001B[0m\n",
      "\u001B[0;32m~/anaconda3/lib/python3.8/site-packages/youtube_dl/extractor/youtube.py\u001B[0m in \u001B[0;36m_real_extract\u001B[0;34m(self, url)\u001B[0m\n\u001B[1;32m   1622\u001B[0m                     \u001B[0;32mcontinue\u001B[0m\u001B[0;34m\u001B[0m\u001B[0;34m\u001B[0m\u001B[0m\n\u001B[0;32m-> 1623\u001B[0;31m                 \u001B[0msignature\u001B[0m \u001B[0;34m=\u001B[0m \u001B[0mself\u001B[0m\u001B[0;34m.\u001B[0m\u001B[0m_decrypt_signature\u001B[0m\u001B[0;34m(\u001B[0m\u001B[0msc\u001B[0m\u001B[0;34m[\u001B[0m\u001B[0;34m's'\u001B[0m\u001B[0;34m]\u001B[0m\u001B[0;34m[\u001B[0m\u001B[0;36m0\u001B[0m\u001B[0;34m]\u001B[0m\u001B[0;34m,\u001B[0m \u001B[0mvideo_id\u001B[0m\u001B[0;34m,\u001B[0m \u001B[0mplayer_url\u001B[0m\u001B[0;34m)\u001B[0m\u001B[0;34m\u001B[0m\u001B[0;34m\u001B[0m\u001B[0m\n\u001B[0m\u001B[1;32m   1624\u001B[0m                 \u001B[0msp\u001B[0m \u001B[0;34m=\u001B[0m \u001B[0mtry_get\u001B[0m\u001B[0;34m(\u001B[0m\u001B[0msc\u001B[0m\u001B[0;34m,\u001B[0m \u001B[0;32mlambda\u001B[0m \u001B[0mx\u001B[0m\u001B[0;34m:\u001B[0m \u001B[0mx\u001B[0m\u001B[0;34m[\u001B[0m\u001B[0;34m'sp'\u001B[0m\u001B[0;34m]\u001B[0m\u001B[0;34m[\u001B[0m\u001B[0;36m0\u001B[0m\u001B[0;34m]\u001B[0m\u001B[0;34m)\u001B[0m \u001B[0;32mor\u001B[0m \u001B[0;34m'signature'\u001B[0m\u001B[0;34m\u001B[0m\u001B[0;34m\u001B[0m\u001B[0m\n",
      "\u001B[0;32m~/anaconda3/lib/python3.8/site-packages/youtube_dl/extractor/youtube.py\u001B[0m in \u001B[0;36m_decrypt_signature\u001B[0;34m(self, s, video_id, player_url)\u001B[0m\n\u001B[1;32m   1357\u001B[0m             \u001B[0mtb\u001B[0m \u001B[0;34m=\u001B[0m \u001B[0mtraceback\u001B[0m\u001B[0;34m.\u001B[0m\u001B[0mformat_exc\u001B[0m\u001B[0;34m(\u001B[0m\u001B[0;34m)\u001B[0m\u001B[0;34m\u001B[0m\u001B[0;34m\u001B[0m\u001B[0m\n\u001B[0;32m-> 1358\u001B[0;31m             raise ExtractorError(\n\u001B[0m\u001B[1;32m   1359\u001B[0m                 'Signature extraction failed: ' + tb, cause=e)\n",
      "\u001B[0;31mExtractorError\u001B[0m: Signature extraction failed: Traceback (most recent call last):\n  File \"/home/martinoywa/anaconda3/lib/python3.8/site-packages/youtube_dl/extractor/youtube.py\", line 1348, in _decrypt_signature\n    func = self._extract_signature_function(\n  File \"/home/martinoywa/anaconda3/lib/python3.8/site-packages/youtube_dl/extractor/youtube.py\", line 1257, in _extract_signature_function\n    self._code_cache[player_id] = self._download_webpage(\n  File \"/home/martinoywa/anaconda3/lib/python3.8/site-packages/youtube_dl/extractor/common.py\", line 798, in _download_webpage\n    res = self._download_webpage_handle(\n  File \"/home/martinoywa/anaconda3/lib/python3.8/site-packages/youtube_dl/extractor/common.py\", line 671, in _download_webpage_handle\n    content = self._webpage_read_content(urlh, url_or_request, video_id, note, errnote, fatal, encoding=encoding)\n  File \"/home/martinoywa/anaconda3/lib/python3.8/site-packages/youtube_dl/extractor/common.py\", line 721, in _webpage_read_content\n    webpage_bytes = urlh.read()\n  File \"/home/martinoywa/anaconda3/lib/python3.8/http/client.py\", line 471, in read\n    s = self._safe_read(self.length)\n  File \"/home/martinoywa/anaconda3/lib/python3.8/http/client.py\", line 612, in _safe_read\n    data = self.fp.read(amt)\n  File \"/home/martinoywa/anaconda3/lib/python3.8/socket.py\", line 669, in readinto\n    return self._sock.recv_into(b)\n  File \"/home/martinoywa/anaconda3/lib/python3.8/ssl.py\", line 1241, in recv_into\n    return self.read(nbytes, buffer)\n  File \"/home/martinoywa/anaconda3/lib/python3.8/ssl.py\", line 1099, in read\n    return self._sslobj.read(len, buffer)\nConnectionResetError: [Errno 104] Connection reset by peer\n (caused by ConnectionResetError(104, 'Connection reset by peer')); please report this issue on https://yt-dl.org/bug . Make sure you are using the latest version; see  https://yt-dl.org/update  on how to update. Be sure to call youtube-dl with the --verbose flag and include its complete output.",
      "\nDuring handling of the above exception, another exception occurred:\n",
      "\u001B[0;31mDownloadError\u001B[0m                             Traceback (most recent call last)",
      "\u001B[0;32m<ipython-input-9-3a02a183f432>\u001B[0m in \u001B[0;36m<module>\u001B[0;34m\u001B[0m\n\u001B[1;32m      1\u001B[0m \u001B[0;31m# download and create music spectrograms\u001B[0m\u001B[0;34m\u001B[0m\u001B[0;34m\u001B[0m\u001B[0;34m\u001B[0m\u001B[0m\n\u001B[1;32m      2\u001B[0m \u001B[0;32mfor\u001B[0m \u001B[0mi\u001B[0m \u001B[0;32min\u001B[0m \u001B[0mrange\u001B[0m\u001B[0;34m(\u001B[0m\u001B[0mlen\u001B[0m\u001B[0;34m(\u001B[0m\u001B[0mids\u001B[0m\u001B[0;34m)\u001B[0m\u001B[0;34m)\u001B[0m\u001B[0;34m:\u001B[0m\u001B[0;34m\u001B[0m\u001B[0;34m\u001B[0m\u001B[0m\n\u001B[0;32m----> 3\u001B[0;31m     \u001B[0mcreate_mel_spectrogram\u001B[0m\u001B[0;34m(\u001B[0m\u001B[0mids\u001B[0m\u001B[0;34m.\u001B[0m\u001B[0miloc\u001B[0m\u001B[0;34m[\u001B[0m\u001B[0mi\u001B[0m\u001B[0;34m]\u001B[0m\u001B[0;34m,\u001B[0m \u001B[0martists\u001B[0m\u001B[0;34m.\u001B[0m\u001B[0miloc\u001B[0m\u001B[0;34m[\u001B[0m\u001B[0mi\u001B[0m\u001B[0;34m]\u001B[0m\u001B[0;34m,\u001B[0m \u001B[0mtracks\u001B[0m\u001B[0;34m.\u001B[0m\u001B[0miloc\u001B[0m\u001B[0;34m[\u001B[0m\u001B[0mi\u001B[0m\u001B[0;34m]\u001B[0m\u001B[0;34m,\u001B[0m \u001B[0mpath\u001B[0m\u001B[0;34m)\u001B[0m\u001B[0;34m\u001B[0m\u001B[0;34m\u001B[0m\u001B[0m\n\u001B[0m\u001B[1;32m      4\u001B[0m \u001B[0;34m\u001B[0m\u001B[0m\n",
      "\u001B[0;32m~/PycharmProjects/MERA/audio/audio_service_v2.py\u001B[0m in \u001B[0;36mcreate_mel_spectrogram\u001B[0;34m(id, track, artist, path)\u001B[0m\n\u001B[1;32m     90\u001B[0m \u001B[0;34m\u001B[0m\u001B[0m\n\u001B[1;32m     91\u001B[0m     \u001B[0;32mwith\u001B[0m \u001B[0myoutube_dl\u001B[0m\u001B[0;34m.\u001B[0m\u001B[0mYoutubeDL\u001B[0m\u001B[0;34m(\u001B[0m\u001B[0mydl_opts\u001B[0m\u001B[0;34m)\u001B[0m \u001B[0;32mas\u001B[0m \u001B[0mydl\u001B[0m\u001B[0;34m:\u001B[0m\u001B[0;34m\u001B[0m\u001B[0;34m\u001B[0m\u001B[0m\n\u001B[0;32m---> 92\u001B[0;31m         \u001B[0mydl\u001B[0m\u001B[0;34m.\u001B[0m\u001B[0mdownload\u001B[0m\u001B[0;34m(\u001B[0m\u001B[0;34m[\u001B[0m\u001B[0mlink\u001B[0m\u001B[0;34m]\u001B[0m\u001B[0;34m)\u001B[0m\u001B[0;34m\u001B[0m\u001B[0;34m\u001B[0m\u001B[0m\n\u001B[0m\u001B[1;32m     93\u001B[0m \u001B[0;34m\u001B[0m\u001B[0m\n\u001B[1;32m     94\u001B[0m     \u001B[0msource\u001B[0m \u001B[0;34m=\u001B[0m \u001B[0mos\u001B[0m\u001B[0;34m.\u001B[0m\u001B[0mlistdir\u001B[0m\u001B[0;34m(\u001B[0m\u001B[0;34m)\u001B[0m\u001B[0;34m\u001B[0m\u001B[0;34m\u001B[0m\u001B[0m\n",
      "\u001B[0;32m~/anaconda3/lib/python3.8/site-packages/youtube_dl/YoutubeDL.py\u001B[0m in \u001B[0;36mdownload\u001B[0;34m(self, url_list)\u001B[0m\n\u001B[1;32m   2066\u001B[0m             \u001B[0;32mtry\u001B[0m\u001B[0;34m:\u001B[0m\u001B[0;34m\u001B[0m\u001B[0;34m\u001B[0m\u001B[0m\n\u001B[1;32m   2067\u001B[0m                 \u001B[0;31m# It also downloads the videos\u001B[0m\u001B[0;34m\u001B[0m\u001B[0;34m\u001B[0m\u001B[0;34m\u001B[0m\u001B[0m\n\u001B[0;32m-> 2068\u001B[0;31m                 res = self.extract_info(\n\u001B[0m\u001B[1;32m   2069\u001B[0m                     url, force_generic_extractor=self.params.get('force_generic_extractor', False))\n\u001B[1;32m   2070\u001B[0m             \u001B[0;32mexcept\u001B[0m \u001B[0mUnavailableVideoError\u001B[0m\u001B[0;34m:\u001B[0m\u001B[0;34m\u001B[0m\u001B[0;34m\u001B[0m\u001B[0m\n",
      "\u001B[0;32m~/anaconda3/lib/python3.8/site-packages/youtube_dl/YoutubeDL.py\u001B[0m in \u001B[0;36mextract_info\u001B[0;34m(self, url, download, ie_key, extra_info, process, force_generic_extractor)\u001B[0m\n\u001B[1;32m    806\u001B[0m                                     'and will probably not work.')\n\u001B[1;32m    807\u001B[0m \u001B[0;34m\u001B[0m\u001B[0m\n\u001B[0;32m--> 808\u001B[0;31m             \u001B[0;32mreturn\u001B[0m \u001B[0mself\u001B[0m\u001B[0;34m.\u001B[0m\u001B[0m__extract_info\u001B[0m\u001B[0;34m(\u001B[0m\u001B[0murl\u001B[0m\u001B[0;34m,\u001B[0m \u001B[0mie\u001B[0m\u001B[0;34m,\u001B[0m \u001B[0mdownload\u001B[0m\u001B[0;34m,\u001B[0m \u001B[0mextra_info\u001B[0m\u001B[0;34m,\u001B[0m \u001B[0mprocess\u001B[0m\u001B[0;34m)\u001B[0m\u001B[0;34m\u001B[0m\u001B[0;34m\u001B[0m\u001B[0m\n\u001B[0m\u001B[1;32m    809\u001B[0m         \u001B[0;32melse\u001B[0m\u001B[0;34m:\u001B[0m\u001B[0;34m\u001B[0m\u001B[0;34m\u001B[0m\u001B[0m\n\u001B[1;32m    810\u001B[0m             \u001B[0mself\u001B[0m\u001B[0;34m.\u001B[0m\u001B[0mreport_error\u001B[0m\u001B[0;34m(\u001B[0m\u001B[0;34m'no suitable InfoExtractor for URL %s'\u001B[0m \u001B[0;34m%\u001B[0m \u001B[0murl\u001B[0m\u001B[0;34m)\u001B[0m\u001B[0;34m\u001B[0m\u001B[0;34m\u001B[0m\u001B[0m\n",
      "\u001B[0;32m~/anaconda3/lib/python3.8/site-packages/youtube_dl/YoutubeDL.py\u001B[0m in \u001B[0;36mwrapper\u001B[0;34m(self, *args, **kwargs)\u001B[0m\n\u001B[1;32m    822\u001B[0m                 \u001B[0mself\u001B[0m\u001B[0;34m.\u001B[0m\u001B[0mreport_error\u001B[0m\u001B[0;34m(\u001B[0m\u001B[0mmsg\u001B[0m\u001B[0;34m)\u001B[0m\u001B[0;34m\u001B[0m\u001B[0;34m\u001B[0m\u001B[0m\n\u001B[1;32m    823\u001B[0m             \u001B[0;32mexcept\u001B[0m \u001B[0mExtractorError\u001B[0m \u001B[0;32mas\u001B[0m \u001B[0me\u001B[0m\u001B[0;34m:\u001B[0m  \u001B[0;31m# An error we somewhat expected\u001B[0m\u001B[0;34m\u001B[0m\u001B[0;34m\u001B[0m\u001B[0m\n\u001B[0;32m--> 824\u001B[0;31m                 \u001B[0mself\u001B[0m\u001B[0;34m.\u001B[0m\u001B[0mreport_error\u001B[0m\u001B[0;34m(\u001B[0m\u001B[0mcompat_str\u001B[0m\u001B[0;34m(\u001B[0m\u001B[0me\u001B[0m\u001B[0;34m)\u001B[0m\u001B[0;34m,\u001B[0m \u001B[0me\u001B[0m\u001B[0;34m.\u001B[0m\u001B[0mformat_traceback\u001B[0m\u001B[0;34m(\u001B[0m\u001B[0;34m)\u001B[0m\u001B[0;34m)\u001B[0m\u001B[0;34m\u001B[0m\u001B[0;34m\u001B[0m\u001B[0m\n\u001B[0m\u001B[1;32m    825\u001B[0m             \u001B[0;32mexcept\u001B[0m \u001B[0mMaxDownloadsReached\u001B[0m\u001B[0;34m:\u001B[0m\u001B[0;34m\u001B[0m\u001B[0;34m\u001B[0m\u001B[0m\n\u001B[1;32m    826\u001B[0m                 \u001B[0;32mraise\u001B[0m\u001B[0;34m\u001B[0m\u001B[0;34m\u001B[0m\u001B[0m\n",
      "\u001B[0;32m~/anaconda3/lib/python3.8/site-packages/youtube_dl/YoutubeDL.py\u001B[0m in \u001B[0;36mreport_error\u001B[0;34m(self, message, tb)\u001B[0m\n\u001B[1;32m    626\u001B[0m             \u001B[0m_msg_header\u001B[0m \u001B[0;34m=\u001B[0m \u001B[0;34m'ERROR:'\u001B[0m\u001B[0;34m\u001B[0m\u001B[0;34m\u001B[0m\u001B[0m\n\u001B[1;32m    627\u001B[0m         \u001B[0merror_message\u001B[0m \u001B[0;34m=\u001B[0m \u001B[0;34m'%s %s'\u001B[0m \u001B[0;34m%\u001B[0m \u001B[0;34m(\u001B[0m\u001B[0m_msg_header\u001B[0m\u001B[0;34m,\u001B[0m \u001B[0mmessage\u001B[0m\u001B[0;34m)\u001B[0m\u001B[0;34m\u001B[0m\u001B[0;34m\u001B[0m\u001B[0m\n\u001B[0;32m--> 628\u001B[0;31m         \u001B[0mself\u001B[0m\u001B[0;34m.\u001B[0m\u001B[0mtrouble\u001B[0m\u001B[0;34m(\u001B[0m\u001B[0merror_message\u001B[0m\u001B[0;34m,\u001B[0m \u001B[0mtb\u001B[0m\u001B[0;34m)\u001B[0m\u001B[0;34m\u001B[0m\u001B[0;34m\u001B[0m\u001B[0m\n\u001B[0m\u001B[1;32m    629\u001B[0m \u001B[0;34m\u001B[0m\u001B[0m\n\u001B[1;32m    630\u001B[0m     \u001B[0;32mdef\u001B[0m \u001B[0mreport_file_already_downloaded\u001B[0m\u001B[0;34m(\u001B[0m\u001B[0mself\u001B[0m\u001B[0;34m,\u001B[0m \u001B[0mfile_name\u001B[0m\u001B[0;34m)\u001B[0m\u001B[0;34m:\u001B[0m\u001B[0;34m\u001B[0m\u001B[0;34m\u001B[0m\u001B[0m\n",
      "\u001B[0;32m~/anaconda3/lib/python3.8/site-packages/youtube_dl/YoutubeDL.py\u001B[0m in \u001B[0;36mtrouble\u001B[0;34m(self, message, tb)\u001B[0m\n\u001B[1;32m    596\u001B[0m             \u001B[0;32melse\u001B[0m\u001B[0;34m:\u001B[0m\u001B[0;34m\u001B[0m\u001B[0;34m\u001B[0m\u001B[0m\n\u001B[1;32m    597\u001B[0m                 \u001B[0mexc_info\u001B[0m \u001B[0;34m=\u001B[0m \u001B[0msys\u001B[0m\u001B[0;34m.\u001B[0m\u001B[0mexc_info\u001B[0m\u001B[0;34m(\u001B[0m\u001B[0;34m)\u001B[0m\u001B[0;34m\u001B[0m\u001B[0;34m\u001B[0m\u001B[0m\n\u001B[0;32m--> 598\u001B[0;31m             \u001B[0;32mraise\u001B[0m \u001B[0mDownloadError\u001B[0m\u001B[0;34m(\u001B[0m\u001B[0mmessage\u001B[0m\u001B[0;34m,\u001B[0m \u001B[0mexc_info\u001B[0m\u001B[0;34m)\u001B[0m\u001B[0;34m\u001B[0m\u001B[0;34m\u001B[0m\u001B[0m\n\u001B[0m\u001B[1;32m    599\u001B[0m         \u001B[0mself\u001B[0m\u001B[0;34m.\u001B[0m\u001B[0m_download_retcode\u001B[0m \u001B[0;34m=\u001B[0m \u001B[0;36m1\u001B[0m\u001B[0;34m\u001B[0m\u001B[0;34m\u001B[0m\u001B[0m\n\u001B[1;32m    600\u001B[0m \u001B[0;34m\u001B[0m\u001B[0m\n",
      "\u001B[0;31mDownloadError\u001B[0m: ERROR: Signature extraction failed: Traceback (most recent call last):\n  File \"/home/martinoywa/anaconda3/lib/python3.8/site-packages/youtube_dl/extractor/youtube.py\", line 1348, in _decrypt_signature\n    func = self._extract_signature_function(\n  File \"/home/martinoywa/anaconda3/lib/python3.8/site-packages/youtube_dl/extractor/youtube.py\", line 1257, in _extract_signature_function\n    self._code_cache[player_id] = self._download_webpage(\n  File \"/home/martinoywa/anaconda3/lib/python3.8/site-packages/youtube_dl/extractor/common.py\", line 798, in _download_webpage\n    res = self._download_webpage_handle(\n  File \"/home/martinoywa/anaconda3/lib/python3.8/site-packages/youtube_dl/extractor/common.py\", line 671, in _download_webpage_handle\n    content = self._webpage_read_content(urlh, url_or_request, video_id, note, errnote, fatal, encoding=encoding)\n  File \"/home/martinoywa/anaconda3/lib/python3.8/site-packages/youtube_dl/extractor/common.py\", line 721, in _webpage_read_content\n    webpage_bytes = urlh.read()\n  File \"/home/martinoywa/anaconda3/lib/python3.8/http/client.py\", line 471, in read\n    s = self._safe_read(self.length)\n  File \"/home/martinoywa/anaconda3/lib/python3.8/http/client.py\", line 612, in _safe_read\n    data = self.fp.read(amt)\n  File \"/home/martinoywa/anaconda3/lib/python3.8/socket.py\", line 669, in readinto\n    return self._sock.recv_into(b)\n  File \"/home/martinoywa/anaconda3/lib/python3.8/ssl.py\", line 1241, in recv_into\n    return self.read(nbytes, buffer)\n  File \"/home/martinoywa/anaconda3/lib/python3.8/ssl.py\", line 1099, in read\n    return self._sslobj.read(len, buffer)\nConnectionResetError: [Errno 104] Connection reset by peer\n (caused by ConnectionResetError(104, 'Connection reset by peer')); please report this issue on https://yt-dl.org/bug . Make sure you are using the latest version; see  https://yt-dl.org/update  on how to update. Be sure to call youtube-dl with the --verbose flag and include its complete output."
     ]
    }
   ],
   "source": [
    "# download and create music spectrograms\n",
    "for i in range(len(ids)):\n",
    "    create_mel_spectrogram(ids.iloc[i], artists.iloc[i], tracks.iloc[i], path)"
   ]
  },
  {
   "cell_type": "code",
   "execution_count": null,
   "metadata": {},
   "outputs": [],
   "source": []
  }
 ],
 "metadata": {
  "kernelspec": {
   "name": "pycharm-2f8d2c2d",
   "language": "python",
   "display_name": "PyCharm (MERA)"
  },
  "language_info": {
   "codemirror_mode": {
    "name": "ipython",
    "version": 3
   },
   "file_extension": ".py",
   "mimetype": "text/x-python",
   "name": "python",
   "nbconvert_exporter": "python",
   "pygments_lexer": "ipython3",
   "version": "3.8.8"
  }
 },
 "nbformat": 4,
 "nbformat_minor": 4
}