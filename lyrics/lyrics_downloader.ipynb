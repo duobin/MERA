{
 "cells": [
  {
   "cell_type": "code",
   "execution_count": 1,
   "metadata": {},
   "outputs": [],
   "source": [
    "import re \n",
    "import urllib.request \n",
    "from bs4 import BeautifulSoup \n",
    " \n",
    "def get_lyrics(artist,song_title): \n",
    "    artist = artist.lower() \n",
    "    song_title = song_title.lower() \n",
    "    # remove all except alphanumeric characters from artist and song_title \n",
    "    artist = re.sub('[^A-Za-z0-9]+', \"\", artist) \n",
    "    song_title = re.sub('[^A-Za-z0-9]+', \"\", song_title) \n",
    "    if artist.startswith(\"the\"):    # remove starting 'the' from artist e.g. the who -> who \n",
    "        artist = artist[3:] \n",
    "    url = \"http://azlyrics.com/lyrics/\"+artist+\"/\"+song_title+\".html\" \n",
    "     \n",
    "    try: \n",
    "        content = urllib.request.urlopen(url).read() \n",
    "        soup = BeautifulSoup(content, 'html.parser') \n",
    "        lyrics = str(soup) \n",
    "        # lyrics lies between up_partition and down_partition \n",
    "        up_partition = '<!-- Usage of azlyrics.com content by any third-party lyrics provider is prohibited by our licensing agreement. Sorry about that. -->' \n",
    "        down_partition = '<!-- MxM banner -->' \n",
    "        lyrics = lyrics.split(up_partition)[1] \n",
    "        lyrics = lyrics.split(down_partition)[0] \n",
    "        lyrics = lyrics.replace('<br/>','').replace('</br>','').replace('</div>','').strip() \n",
    "        return lyrics \n",
    "    except Exception as e: \n",
    "        return 0"
   ]
  },
  {
   "cell_type": "markdown",
   "metadata": {
    "pycharm": {
     "name": "#%% md\n"
    }
   },
   "source": [
    "### Lyrics Downloader\n",
    "\n",
    "Use MusixMatch API to download and populate lyrics into the dataset."
   ]
  },
  {
   "cell_type": "code",
   "execution_count": 2,
   "metadata": {
    "collapsed": false,
    "jupyter": {
     "outputs_hidden": false
    },
    "pycharm": {
     "name": "#%%\n"
    }
   },
   "outputs": [],
   "source": [
    "import pandas as pd\n",
    "# import numpy as np\n",
    "\n",
    "# from lyrics_service import lyrics_finder"
   ]
  },
  {
   "cell_type": "code",
   "execution_count": 3,
   "metadata": {},
   "outputs": [
    {
     "data": {
      "text/html": [
       "<div>\n",
       "<style scoped>\n",
       "    .dataframe tbody tr th:only-of-type {\n",
       "        vertical-align: middle;\n",
       "    }\n",
       "\n",
       "    .dataframe tbody tr th {\n",
       "        vertical-align: top;\n",
       "    }\n",
       "\n",
       "    .dataframe thead th {\n",
       "        text-align: right;\n",
       "    }\n",
       "</style>\n",
       "<table border=\"1\" class=\"dataframe\">\n",
       "  <thead>\n",
       "    <tr style=\"text-align: right;\">\n",
       "      <th></th>\n",
       "      <th>dzr_sng_id</th>\n",
       "      <th>valence</th>\n",
       "      <th>arousal</th>\n",
       "      <th>artist_name</th>\n",
       "      <th>track_name</th>\n",
       "      <th>lyrics</th>\n",
       "      <th>quadrant</th>\n",
       "    </tr>\n",
       "  </thead>\n",
       "  <tbody>\n",
       "    <tr>\n",
       "      <th>0</th>\n",
       "      <td>213754</td>\n",
       "      <td>-0.682725</td>\n",
       "      <td>0.316758</td>\n",
       "      <td>Dark Tranquillity</td>\n",
       "      <td>Insanity's Crescendo</td>\n",
       "      <td>Gently hold our hands\\nGently hold our heads o...</td>\n",
       "      <td>1</td>\n",
       "    </tr>\n",
       "    <tr>\n",
       "      <th>1</th>\n",
       "      <td>216752</td>\n",
       "      <td>-1.400403</td>\n",
       "      <td>1.538229</td>\n",
       "      <td>Anorexia Nervosa</td>\n",
       "      <td>Stabat mater dolorosa</td>\n",
       "      <td>We are the Sun\\nWe are the dead stars\\nWe are ...</td>\n",
       "      <td>1</td>\n",
       "    </tr>\n",
       "    <tr>\n",
       "      <th>2</th>\n",
       "      <td>254391</td>\n",
       "      <td>0.815393</td>\n",
       "      <td>0.662457</td>\n",
       "      <td>Uniting Nations</td>\n",
       "      <td>Out Of Touch</td>\n",
       "      <td>You're out of touch\\nI'm out of time\\nBut I'm ...</td>\n",
       "      <td>0</td>\n",
       "    </tr>\n",
       "    <tr>\n",
       "      <th>3</th>\n",
       "      <td>266313</td>\n",
       "      <td>1.257460</td>\n",
       "      <td>1.086515</td>\n",
       "      <td>The Walkmen</td>\n",
       "      <td>Brandy alexander</td>\n",
       "      <td>You finally close the door\\nYou've left open w...</td>\n",
       "      <td>0</td>\n",
       "    </tr>\n",
       "    <tr>\n",
       "      <th>4</th>\n",
       "      <td>283306</td>\n",
       "      <td>0.373325</td>\n",
       "      <td>-0.923151</td>\n",
       "      <td>Duke Ellington</td>\n",
       "      <td>Caravan</td>\n",
       "      <td>随分先に行ってしまった 光の下のキャラバン\\nトンネルに残響 塞いだ耳 自分嫌いな自分が好き...</td>\n",
       "      <td>3</td>\n",
       "    </tr>\n",
       "  </tbody>\n",
       "</table>\n",
       "</div>"
      ],
      "text/plain": [
       "   dzr_sng_id   valence   arousal        artist_name             track_name  \\\n",
       "0      213754 -0.682725  0.316758  Dark Tranquillity   Insanity's Crescendo   \n",
       "1      216752 -1.400403  1.538229   Anorexia Nervosa  Stabat mater dolorosa   \n",
       "2      254391  0.815393  0.662457    Uniting Nations           Out Of Touch   \n",
       "3      266313  1.257460  1.086515        The Walkmen       Brandy alexander   \n",
       "4      283306  0.373325 -0.923151     Duke Ellington                Caravan   \n",
       "\n",
       "                                              lyrics  quadrant  \n",
       "0  Gently hold our hands\\nGently hold our heads o...         1  \n",
       "1  We are the Sun\\nWe are the dead stars\\nWe are ...         1  \n",
       "2  You're out of touch\\nI'm out of time\\nBut I'm ...         0  \n",
       "3  You finally close the door\\nYou've left open w...         0  \n",
       "4  随分先に行ってしまった 光の下のキャラバン\\nトンネルに残響 塞いだ耳 自分嫌いな自分が好き...         3  "
      ]
     },
     "execution_count": 3,
     "metadata": {},
     "output_type": "execute_result"
    }
   ],
   "source": [
    "# skiprows used to ignore already downloaded lyrics\n",
    "data = pd.read_csv('../data/train.csv') # ,skiprows=[i for i in range(1, 385)])\n",
    "data.head()"
   ]
  },
  {
   "cell_type": "code",
   "execution_count": 4,
   "metadata": {},
   "outputs": [
    {
     "data": {
      "text/plain": [
       "((10515,), (10515,))"
      ]
     },
     "execution_count": 4,
     "metadata": {},
     "output_type": "execute_result"
    }
   ],
   "source": [
    "track_name = data[\"track_name\"]\n",
    "artist_name = data[\"artist_name\"]\n",
    "track_name.shape, artist_name.shape"
   ]
  },
  {
   "cell_type": "code",
   "execution_count": null,
   "metadata": {},
   "outputs": [],
   "source": [
    "# list of downloaded lyrics\n",
    "lyrics_list = []\n",
    "\n",
    "for i in range(len(track_name)):\n",
    "    response = get_lyrics(artist_name.iloc[i], track_name.iloc[i])\n",
    "    \n",
    "    if response == 0:\n",
    "        lyrics_list.append(None)\n",
    "    else:\n",
    "        lyrics_list.append(response)\n",
    "    \n",
    "len(lyrics_list)"
   ]
  },
  {
   "cell_type": "code",
   "execution_count": null,
   "metadata": {},
   "outputs": [],
   "source": [
    "data_copy = data.copy()"
   ]
  },
  {
   "cell_type": "code",
   "execution_count": null,
   "metadata": {},
   "outputs": [],
   "source": [
    "lyrics_series = pd.Series(None, np.arange(len(track_name)))\n",
    "lyrics_series.iloc[: len(lyrics_list)] = lyrics_list"
   ]
  },
  {
   "cell_type": "code",
   "execution_count": null,
   "metadata": {},
   "outputs": [],
   "source": [
    "data_copy[\"lyrics full\"][current:] = lyrics_series[:]"
   ]
  },
  {
   "cell_type": "code",
   "execution_count": 43,
   "metadata": {
    "tags": []
   },
   "outputs": [],
   "source": [
    "current = 385 - 1"
   ]
  },
  {
   "cell_type": "code",
   "execution_count": 44,
   "metadata": {
    "tags": []
   },
   "outputs": [
    {
     "name": "stderr",
     "output_type": "stream",
     "text": [
      "<ipython-input-44-dc127d992fd5>:1: SettingWithCopyWarning: \n",
      "A value is trying to be set on a copy of a slice from a DataFrame\n",
      "\n",
      "See the caveats in the documentation: https://pandas.pydata.org/pandas-docs/stable/user_guide/indexing.html#returning-a-view-versus-a-copy\n",
      "  validation[\"Lyrics\"][current:] = s[:]\n"
     ]
    },
    {
     "data": {
      "text/plain": [
       "384     Go on and wring my neck\\nLike when a rag gets ...\n",
       "385     Drought makes the workers dream\\nMuscles and f...\n",
       "386     We were so happy\\nThings worked out better tha...\n",
       "387     I know it sounds funny but I just can't stand ...\n",
       "388     Melancholy\\nAviation\\nChocolate\\nPerfume\\nCiga...\n",
       "                              ...                        \n",
       "3858    On the fields of desolation\\nWe are all alone\\...\n",
       "3859    Is it a sin, to love again?\\nI cannot win, thi...\n",
       "3860    Though you and I would dance and laugh and pla...\n",
       "3861    Hello?\\nIs there anybody in there?\\nJust nod i...\n",
       "3862    Money\\nGet away\\nYou get a good job with good ...\n",
       "Name: Lyrics, Length: 3479, dtype: object"
      ]
     },
     "execution_count": 44,
     "metadata": {},
     "output_type": "execute_result"
    }
   ],
   "source": [
    "data_copy[\"lyrics full\"][current:] = lyrics_series[:]\n",
    "data_copy[\"lyrics full\"].iloc[current:]"
   ]
  },
  {
   "cell_type": "code",
   "execution_count": 10,
   "metadata": {},
   "outputs": [],
   "source": [
    "data_copy.to_csv(\"../data/train.csv\", index=False)"
   ]
  },
  {
   "cell_type": "code",
   "execution_count": null,
   "metadata": {},
   "outputs": [],
   "source": []
  }
 ],
 "metadata": {
  "kernelspec": {
   "display_name": "Python 3",
   "language": "python",
   "name": "python3"
  },
  "language_info": {
   "codemirror_mode": {
    "name": "ipython",
    "version": 3
   },
   "file_extension": ".py",
   "mimetype": "text/x-python",
   "name": "python",
   "nbconvert_exporter": "python",
   "pygments_lexer": "ipython3",
   "version": "3.8.8"
  }
 },
 "nbformat": 4,
 "nbformat_minor": 4
}
