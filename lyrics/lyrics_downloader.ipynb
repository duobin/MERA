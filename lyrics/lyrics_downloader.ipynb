{
 "cells": [
  {
   "cell_type": "markdown",
   "metadata": {
    "pycharm": {
     "name": "#%% md\n"
    }
   },
   "source": [
    "### Lyrics Downloader\n",
    "\n",
    "Use MusixMatch API to download and populate lyrics into the dataset."
   ]
  },
  {
   "cell_type": "code",
   "execution_count": null,
   "outputs": [],
   "source": [
    "import pandas as pd\n",
    "import numpy as np\n",
    "\n",
    "from lyrics_service import lyrics_finder"
   ],
   "metadata": {
    "collapsed": false,
    "pycharm": {
     "name": "#%%\n"
    }
   }
  },
  {
   "cell_type": "code",
   "execution_count": 2,
   "metadata": {},
   "outputs": [
    {
     "data": {
      "text/html": [
       "<div>\n",
       "<style scoped>\n",
       "    .dataframe tbody tr th:only-of-type {\n",
       "        vertical-align: middle;\n",
       "    }\n",
       "\n",
       "    .dataframe tbody tr th {\n",
       "        vertical-align: top;\n",
       "    }\n",
       "\n",
       "    .dataframe thead th {\n",
       "        text-align: right;\n",
       "    }\n",
       "</style>\n",
       "<table border=\"1\" class=\"dataframe\">\n",
       "  <thead>\n",
       "    <tr style=\"text-align: right;\">\n",
       "      <th></th>\n",
       "      <th>dzr_sng_id</th>\n",
       "      <th>MSD_sng_id</th>\n",
       "      <th>MSD_track_id</th>\n",
       "      <th>valence</th>\n",
       "      <th>arousal</th>\n",
       "      <th>artist_name</th>\n",
       "      <th>track_name</th>\n",
       "    </tr>\n",
       "  </thead>\n",
       "  <tbody>\n",
       "    <tr>\n",
       "      <th>0</th>\n",
       "      <td>532171</td>\n",
       "      <td>SOSDIDR12A8C130E5D</td>\n",
       "      <td>TRGVJCD128F42623E3</td>\n",
       "      <td>-0.420759</td>\n",
       "      <td>0.754644</td>\n",
       "      <td>Fiona Apple</td>\n",
       "      <td>Fast As You Can</td>\n",
       "    </tr>\n",
       "    <tr>\n",
       "      <th>1</th>\n",
       "      <td>532216</td>\n",
       "      <td>SOPMTTO12AB0183DB9</td>\n",
       "      <td>TRNXMAY128F931FAC6</td>\n",
       "      <td>-0.465330</td>\n",
       "      <td>0.011006</td>\n",
       "      <td>Fiona Apple</td>\n",
       "      <td>I Know</td>\n",
       "    </tr>\n",
       "    <tr>\n",
       "      <th>2</th>\n",
       "      <td>532284</td>\n",
       "      <td>SOQCEJU12A8C13220B</td>\n",
       "      <td>TRYMZQJ128F426A0E7</td>\n",
       "      <td>0.373325</td>\n",
       "      <td>-0.923151</td>\n",
       "      <td>Xzibit</td>\n",
       "      <td>Get Your Walk On</td>\n",
       "    </tr>\n",
       "    <tr>\n",
       "      <th>3</th>\n",
       "      <td>532989</td>\n",
       "      <td>SOLEFHR12D021B2A57</td>\n",
       "      <td>TRZHHIL128F4264EE0</td>\n",
       "      <td>0.894528</td>\n",
       "      <td>-0.390774</td>\n",
       "      <td>Fiona Apple</td>\n",
       "      <td>Extraordinary Machine</td>\n",
       "    </tr>\n",
       "    <tr>\n",
       "      <th>4</th>\n",
       "      <td>533164</td>\n",
       "      <td>SOFDPOX12A8C13780D</td>\n",
       "      <td>TRJEBIT128F933A400</td>\n",
       "      <td>-1.636900</td>\n",
       "      <td>-0.459145</td>\n",
       "      <td>Patty Loveless</td>\n",
       "      <td>How Can I Help You Say Goodbye</td>\n",
       "    </tr>\n",
       "  </tbody>\n",
       "</table>\n",
       "</div>"
      ],
      "text/plain": [
       "   dzr_sng_id          MSD_sng_id        MSD_track_id   valence   arousal  \\\n",
       "0      532171  SOSDIDR12A8C130E5D  TRGVJCD128F42623E3 -0.420759  0.754644   \n",
       "1      532216  SOPMTTO12AB0183DB9  TRNXMAY128F931FAC6 -0.465330  0.011006   \n",
       "2      532284  SOQCEJU12A8C13220B  TRYMZQJ128F426A0E7  0.373325 -0.923151   \n",
       "3      532989  SOLEFHR12D021B2A57  TRZHHIL128F4264EE0  0.894528 -0.390774   \n",
       "4      533164  SOFDPOX12A8C13780D  TRJEBIT128F933A400 -1.636900 -0.459145   \n",
       "\n",
       "      artist_name                      track_name  \n",
       "0     Fiona Apple                 Fast As You Can  \n",
       "1     Fiona Apple                          I Know  \n",
       "2          Xzibit                Get Your Walk On  \n",
       "3     Fiona Apple           Extraordinary Machine  \n",
       "4  Patty Loveless  How Can I Help You Say Goodbye  "
      ]
     },
     "execution_count": 2,
     "metadata": {},
     "output_type": "execute_result"
    }
   ],
   "source": [
    "# skiprows used to ignore already downloaded lyrics\n",
    "data = pd.read_csv('../data/test.csv') # ,skiprows=[i for i in range(1, 385)])\n",
    "data.head()"
   ]
  },
  {
   "cell_type": "code",
   "execution_count": 4,
   "metadata": {},
   "outputs": [
    {
     "data": {
      "text/plain": [
       "((3514,), (3514,))"
      ]
     },
     "execution_count": 4,
     "metadata": {},
     "output_type": "execute_result"
    }
   ],
   "source": [
    "track_name = data[\"track_name\"]\n",
    "artist_name = data[\"artist_name\"]\n",
    "track_name.shape, artist_name.shape"
   ]
  },
  {
   "cell_type": "code",
   "execution_count": 5,
   "metadata": {},
   "outputs": [
    {
     "data": {
      "text/plain": [
       "3514"
      ]
     },
     "execution_count": 5,
     "metadata": {},
     "output_type": "execute_result"
    }
   ],
   "source": [
    "# list of downloaded lyrics\n",
    "lyrics_list = []\n",
    "\n",
    "for i in range(len(track_name)):\n",
    "    status_code, lyrics = lyrics_finder(\"jsonp\", \"callback\", track_name.loc[i], artist_name.loc[i],\n",
    "                                         \"37d7829ae9c5bf71588c67bccf16cdde\")\n",
    "    \n",
    "    if status_code == 200:\n",
    "        lyrics_list.append(lyrics[\"lyrics\"][\"lyrics_body\"])\n",
    "    else:\n",
    "        lyrics_list.append(None)\n",
    "    \n",
    "len(lyrics_list)"
   ]
  },
  {
   "cell_type": "code",
   "execution_count": 7,
   "metadata": {},
   "outputs": [],
   "source": [
    "data_copy = data.copy()"
   ]
  },
  {
   "cell_type": "code",
   "execution_count": 8,
   "metadata": {},
   "outputs": [
    {
     "name": "stderr",
     "output_type": "stream",
     "text": [
      "<ipython-input-8-1775ddad768f>:1: DeprecationWarning: The default dtype for empty Series will be 'object' instead of 'float64' in a future version. Specify a dtype explicitly to silence this warning.\n",
      "  s = pd.Series(None, np.arange(len(track_name)))\n"
     ]
    }
   ],
   "source": [
    "lyrics_series = pd.Series(None, np.arange(len(track_name)))\n",
    "lyrics_series.iloc[: len(lyrics_list)] = lyrics_list"
   ]
  },
  {
   "cell_type": "code",
   "execution_count": 43,
   "metadata": {},
   "outputs": [],
   "source": [
    "current = 385 - 1"
   ]
  },
  {
   "cell_type": "code",
   "execution_count": 44,
   "metadata": {},
   "outputs": [
    {
     "name": "stderr",
     "output_type": "stream",
     "text": [
      "<ipython-input-44-dc127d992fd5>:1: SettingWithCopyWarning: \n",
      "A value is trying to be set on a copy of a slice from a DataFrame\n",
      "\n",
      "See the caveats in the documentation: https://pandas.pydata.org/pandas-docs/stable/user_guide/indexing.html#returning-a-view-versus-a-copy\n",
      "  validation[\"Lyrics\"][current:] = s[:]\n"
     ]
    },
    {
     "data": {
      "text/plain": [
       "384     Go on and wring my neck\\nLike when a rag gets ...\n",
       "385     Drought makes the workers dream\\nMuscles and f...\n",
       "386     We were so happy\\nThings worked out better tha...\n",
       "387     I know it sounds funny but I just can't stand ...\n",
       "388     Melancholy\\nAviation\\nChocolate\\nPerfume\\nCiga...\n",
       "                              ...                        \n",
       "3858    On the fields of desolation\\nWe are all alone\\...\n",
       "3859    Is it a sin, to love again?\\nI cannot win, thi...\n",
       "3860    Though you and I would dance and laugh and pla...\n",
       "3861    Hello?\\nIs there anybody in there?\\nJust nod i...\n",
       "3862    Money\\nGet away\\nYou get a good job with good ...\n",
       "Name: Lyrics, Length: 3479, dtype: object"
      ]
     },
     "execution_count": 44,
     "metadata": {},
     "output_type": "execute_result"
    }
   ],
   "source": [
    "data_copy[\"Lyrics\"][current:] = lyrics_series[:]\n",
    "data_copy[\"Lyrics\"].iloc[current:]"
   ]
  },
  {
   "cell_type": "code",
   "execution_count": 10,
   "metadata": {},
   "outputs": [],
   "source": [
    "data_copy.to_csv(\"../data/test.csv\", index=False)"
   ]
  },
  {
   "cell_type": "code",
   "execution_count": null,
   "metadata": {},
   "outputs": [],
   "source": []
  }
 ],
 "metadata": {
  "kernelspec": {
   "display_name": "Python 3",
   "language": "python",
   "name": "python3"
  },
  "language_info": {
   "codemirror_mode": {
    "name": "ipython",
    "version": 3
   },
   "file_extension": ".py",
   "mimetype": "text/x-python",
   "name": "python",
   "nbconvert_exporter": "python",
   "pygments_lexer": "ipython3",
   "version": "3.8.5"
  }
 },
 "nbformat": 4,
 "nbformat_minor": 4
}