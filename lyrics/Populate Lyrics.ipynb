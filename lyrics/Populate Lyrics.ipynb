{
 "cells": [
  {
   "cell_type": "code",
   "execution_count": 1,
   "metadata": {},
   "outputs": [],
   "source": [
    "from lyrics_service import lyrics_finder\n",
    "\n",
    "import pandas as pd\n",
    "import numpy as np"
   ]
  },
  {
   "cell_type": "code",
   "execution_count": 2,
   "metadata": {},
   "outputs": [
    {
     "data": {
      "text/html": [
       "<div>\n",
       "<style scoped>\n",
       "    .dataframe tbody tr th:only-of-type {\n",
       "        vertical-align: middle;\n",
       "    }\n",
       "\n",
       "    .dataframe tbody tr th {\n",
       "        vertical-align: top;\n",
       "    }\n",
       "\n",
       "    .dataframe thead th {\n",
       "        text-align: right;\n",
       "    }\n",
       "</style>\n",
       "<table border=\"1\" class=\"dataframe\">\n",
       "  <thead>\n",
       "    <tr style=\"text-align: right;\">\n",
       "      <th></th>\n",
       "      <th>dzr_sng_id</th>\n",
       "      <th>MSD_sng_id</th>\n",
       "      <th>MSD_track_id</th>\n",
       "      <th>valence</th>\n",
       "      <th>arousal</th>\n",
       "      <th>artist_name</th>\n",
       "      <th>track_name</th>\n",
       "    </tr>\n",
       "  </thead>\n",
       "  <tbody>\n",
       "    <tr>\n",
       "      <th>0</th>\n",
       "      <td>532171</td>\n",
       "      <td>SOSDIDR12A8C130E5D</td>\n",
       "      <td>TRGVJCD128F42623E3</td>\n",
       "      <td>-0.420759</td>\n",
       "      <td>0.754644</td>\n",
       "      <td>Fiona Apple</td>\n",
       "      <td>Fast As You Can</td>\n",
       "    </tr>\n",
       "    <tr>\n",
       "      <th>1</th>\n",
       "      <td>532216</td>\n",
       "      <td>SOPMTTO12AB0183DB9</td>\n",
       "      <td>TRNXMAY128F931FAC6</td>\n",
       "      <td>-0.465330</td>\n",
       "      <td>0.011006</td>\n",
       "      <td>Fiona Apple</td>\n",
       "      <td>I Know</td>\n",
       "    </tr>\n",
       "    <tr>\n",
       "      <th>2</th>\n",
       "      <td>532284</td>\n",
       "      <td>SOQCEJU12A8C13220B</td>\n",
       "      <td>TRYMZQJ128F426A0E7</td>\n",
       "      <td>0.373325</td>\n",
       "      <td>-0.923151</td>\n",
       "      <td>Xzibit</td>\n",
       "      <td>Get Your Walk On</td>\n",
       "    </tr>\n",
       "    <tr>\n",
       "      <th>3</th>\n",
       "      <td>532989</td>\n",
       "      <td>SOLEFHR12D021B2A57</td>\n",
       "      <td>TRZHHIL128F4264EE0</td>\n",
       "      <td>0.894528</td>\n",
       "      <td>-0.390774</td>\n",
       "      <td>Fiona Apple</td>\n",
       "      <td>Extraordinary Machine</td>\n",
       "    </tr>\n",
       "    <tr>\n",
       "      <th>4</th>\n",
       "      <td>533164</td>\n",
       "      <td>SOFDPOX12A8C13780D</td>\n",
       "      <td>TRJEBIT128F933A400</td>\n",
       "      <td>-1.636900</td>\n",
       "      <td>-0.459145</td>\n",
       "      <td>Patty Loveless</td>\n",
       "      <td>How Can I Help You Say Goodbye</td>\n",
       "    </tr>\n",
       "  </tbody>\n",
       "</table>\n",
       "</div>"
      ],
      "text/plain": [
       "   dzr_sng_id          MSD_sng_id        MSD_track_id   valence   arousal  \\\n",
       "0      532171  SOSDIDR12A8C130E5D  TRGVJCD128F42623E3 -0.420759  0.754644   \n",
       "1      532216  SOPMTTO12AB0183DB9  TRNXMAY128F931FAC6 -0.465330  0.011006   \n",
       "2      532284  SOQCEJU12A8C13220B  TRYMZQJ128F426A0E7  0.373325 -0.923151   \n",
       "3      532989  SOLEFHR12D021B2A57  TRZHHIL128F4264EE0  0.894528 -0.390774   \n",
       "4      533164  SOFDPOX12A8C13780D  TRJEBIT128F933A400 -1.636900 -0.459145   \n",
       "\n",
       "      artist_name                      track_name  \n",
       "0     Fiona Apple                 Fast As You Can  \n",
       "1     Fiona Apple                          I Know  \n",
       "2          Xzibit                Get Your Walk On  \n",
       "3     Fiona Apple           Extraordinary Machine  \n",
       "4  Patty Loveless  How Can I Help You Say Goodbye  "
      ]
     },
     "execution_count": 2,
     "metadata": {},
     "output_type": "execute_result"
    }
   ],
   "source": [
    "# use skiprows to load data from where you want\n",
    "test = pd.read_csv('../data/test.csv') # ,skiprows=[i for i in range(1, 385)])\n",
    "test.head()"
   ]
  },
  {
   "cell_type": "code",
   "execution_count": 4,
   "metadata": {},
   "outputs": [
    {
     "data": {
      "text/plain": [
       "((3514,), (3514,))"
      ]
     },
     "execution_count": 4,
     "metadata": {},
     "output_type": "execute_result"
    }
   ],
   "source": [
    "track_name = test[\"track_name\"]\n",
    "artist_name = test[\"artist_name\"]\n",
    "0\n",
    "track_name.shape, artist_name.shape"
   ]
  },
  {
   "cell_type": "code",
   "execution_count": 5,
   "metadata": {},
   "outputs": [
    {
     "data": {
      "text/plain": [
       "3514"
      ]
     },
     "execution_count": 5,
     "metadata": {},
     "output_type": "execute_result"
    }
   ],
   "source": [
    "lyrics_series = []\n",
    "\n",
    "for i in range(len(track_name)):\n",
    "    status_code, lyrics = lyrics_finder(\"jsonp\", \"callback\", track_name.loc[i], artist_name.loc[i],\n",
    "                                         \"37d7829ae9c5bf71588c67bccf16cdde\")\n",
    "    \n",
    "    if status_code == 200:\n",
    "        lyrics_series.append(lyrics[\"lyrics\"][\"lyrics_body\"])\n",
    "    else:\n",
    "        lyrics_series.append(None)\n",
    "    \n",
    "len(lyrics_series)"
   ]
  },
  {
   "cell_type": "code",
   "execution_count": 6,
   "metadata": {},
   "outputs": [
    {
     "data": {
      "text/plain": [
       "3514"
      ]
     },
     "execution_count": 6,
     "metadata": {},
     "output_type": "execute_result"
    }
   ],
   "source": [
    "len(lyrics_series)"
   ]
  },
  {
   "cell_type": "code",
   "execution_count": 41,
   "metadata": {},
   "outputs": [
    {
     "data": {
      "text/html": [
       "<div>\n",
       "<style scoped>\n",
       "    .dataframe tbody tr th:only-of-type {\n",
       "        vertical-align: middle;\n",
       "    }\n",
       "\n",
       "    .dataframe tbody tr th {\n",
       "        vertical-align: top;\n",
       "    }\n",
       "\n",
       "    .dataframe thead th {\n",
       "        text-align: right;\n",
       "    }\n",
       "</style>\n",
       "<table border=\"1\" class=\"dataframe\">\n",
       "  <thead>\n",
       "    <tr style=\"text-align: right;\">\n",
       "      <th></th>\n",
       "      <th>dzr_sng_id</th>\n",
       "      <th>MSD_sng_id</th>\n",
       "      <th>MSD_track_id</th>\n",
       "      <th>valence</th>\n",
       "      <th>arousal</th>\n",
       "      <th>artist_name</th>\n",
       "      <th>track_name</th>\n",
       "      <th>Lyrics</th>\n",
       "    </tr>\n",
       "  </thead>\n",
       "  <tbody>\n",
       "    <tr>\n",
       "      <th>0</th>\n",
       "      <td>216237</td>\n",
       "      <td>SOSMRCK12AB0182619</td>\n",
       "      <td>TRWKHHA128F932CE8D</td>\n",
       "      <td>-1.176640</td>\n",
       "      <td>-0.314720</td>\n",
       "      <td>CALLA</td>\n",
       "      <td>Strangler</td>\n",
       "      <td>Something's gotten into your head\\nSay what Yo...</td>\n",
       "    </tr>\n",
       "    <tr>\n",
       "      <th>1</th>\n",
       "      <td>221547</td>\n",
       "      <td>SOTMVNN12A8C139FA0</td>\n",
       "      <td>TRPXLVY128F425A9DB</td>\n",
       "      <td>0.482478</td>\n",
       "      <td>-0.471437</td>\n",
       "      <td>Gun Club</td>\n",
       "      <td>Sex beat</td>\n",
       "      <td>Johnny's got a light in his eyes\\nAnd Shirley'...</td>\n",
       "    </tr>\n",
       "    <tr>\n",
       "      <th>2</th>\n",
       "      <td>221613</td>\n",
       "      <td>SOBXMEQ12A58A7792D</td>\n",
       "      <td>TRGRCHN128F933DE2F</td>\n",
       "      <td>-0.780962</td>\n",
       "      <td>-0.789480</td>\n",
       "      <td>The Box Tops</td>\n",
       "      <td>The Letter</td>\n",
       "      <td>Gimme a ticket for an aeroplane\\nAin't got tim...</td>\n",
       "    </tr>\n",
       "    <tr>\n",
       "      <th>3</th>\n",
       "      <td>313835</td>\n",
       "      <td>SOAFHHU12A8C142F07</td>\n",
       "      <td>TRYWSQU128F92D1DE1</td>\n",
       "      <td>-0.767318</td>\n",
       "      <td>0.911361</td>\n",
       "      <td>Chris Whitley</td>\n",
       "      <td>Big Sky Country</td>\n",
       "      <td>Now when this is over\\nOver and through\\nAnd a...</td>\n",
       "    </tr>\n",
       "    <tr>\n",
       "      <th>4</th>\n",
       "      <td>512939</td>\n",
       "      <td>SOUTMTF12A6D4FC9A5</td>\n",
       "      <td>TRAXPKI128F427D360</td>\n",
       "      <td>-0.867375</td>\n",
       "      <td>-0.548259</td>\n",
       "      <td>Chris Garneau</td>\n",
       "      <td>Castle-Time</td>\n",
       "      <td>Men doing men-thing times\\nChewing candy and t...</td>\n",
       "    </tr>\n",
       "  </tbody>\n",
       "</table>\n",
       "</div>"
      ],
      "text/plain": [
       "   dzr_sng_id          MSD_sng_id        MSD_track_id   valence   arousal  \\\n",
       "0      216237  SOSMRCK12AB0182619  TRWKHHA128F932CE8D -1.176640 -0.314720   \n",
       "1      221547  SOTMVNN12A8C139FA0  TRPXLVY128F425A9DB  0.482478 -0.471437   \n",
       "2      221613  SOBXMEQ12A58A7792D  TRGRCHN128F933DE2F -0.780962 -0.789480   \n",
       "3      313835  SOAFHHU12A8C142F07  TRYWSQU128F92D1DE1 -0.767318  0.911361   \n",
       "4      512939  SOUTMTF12A6D4FC9A5  TRAXPKI128F427D360 -0.867375 -0.548259   \n",
       "\n",
       "     artist_name       track_name  \\\n",
       "0          CALLA        Strangler   \n",
       "1       Gun Club         Sex beat   \n",
       "2   The Box Tops       The Letter   \n",
       "3  Chris Whitley  Big Sky Country   \n",
       "4  Chris Garneau      Castle-Time   \n",
       "\n",
       "                                              Lyrics  \n",
       "0  Something's gotten into your head\\nSay what Yo...  \n",
       "1  Johnny's got a light in his eyes\\nAnd Shirley'...  \n",
       "2  Gimme a ticket for an aeroplane\\nAin't got tim...  \n",
       "3  Now when this is over\\nOver and through\\nAnd a...  \n",
       "4  Men doing men-thing times\\nChewing candy and t...  "
      ]
     },
     "execution_count": 41,
     "metadata": {},
     "output_type": "execute_result"
    }
   ],
   "source": [
    "# validation = pd.read_csv(\"../data/validation_with_lyrics.csv\")\n",
    "# validation.head()"
   ]
  },
  {
   "cell_type": "code",
   "execution_count": 7,
   "metadata": {},
   "outputs": [],
   "source": [
    "testing = test.copy()"
   ]
  },
  {
   "cell_type": "code",
   "execution_count": 8,
   "metadata": {},
   "outputs": [
    {
     "name": "stderr",
     "output_type": "stream",
     "text": [
      "<ipython-input-8-1775ddad768f>:1: DeprecationWarning: The default dtype for empty Series will be 'object' instead of 'float64' in a future version. Specify a dtype explicitly to silence this warning.\n",
      "  s = pd.Series(None, np.arange(len(track_name)))\n"
     ]
    }
   ],
   "source": [
    "s = pd.Series(None, np.arange(len(track_name)))\n",
    "s.iloc[: len(lyrics_series)] = lyrics_series"
   ]
  },
  {
   "cell_type": "code",
   "execution_count": 9,
   "metadata": {},
   "outputs": [],
   "source": [
    "testing[\"Lyrics\"] = s"
   ]
  },
  {
   "cell_type": "code",
   "execution_count": 43,
   "metadata": {},
   "outputs": [],
   "source": [
    "# current = 385 - 1"
   ]
  },
  {
   "cell_type": "code",
   "execution_count": 44,
   "metadata": {},
   "outputs": [
    {
     "name": "stderr",
     "output_type": "stream",
     "text": [
      "<ipython-input-44-dc127d992fd5>:1: SettingWithCopyWarning: \n",
      "A value is trying to be set on a copy of a slice from a DataFrame\n",
      "\n",
      "See the caveats in the documentation: https://pandas.pydata.org/pandas-docs/stable/user_guide/indexing.html#returning-a-view-versus-a-copy\n",
      "  validation[\"Lyrics\"][current:] = s[:]\n"
     ]
    },
    {
     "data": {
      "text/plain": [
       "384     Go on and wring my neck\\nLike when a rag gets ...\n",
       "385     Drought makes the workers dream\\nMuscles and f...\n",
       "386     We were so happy\\nThings worked out better tha...\n",
       "387     I know it sounds funny but I just can't stand ...\n",
       "388     Melancholy\\nAviation\\nChocolate\\nPerfume\\nCiga...\n",
       "                              ...                        \n",
       "3858    On the fields of desolation\\nWe are all alone\\...\n",
       "3859    Is it a sin, to love again?\\nI cannot win, thi...\n",
       "3860    Though you and I would dance and laugh and pla...\n",
       "3861    Hello?\\nIs there anybody in there?\\nJust nod i...\n",
       "3862    Money\\nGet away\\nYou get a good job with good ...\n",
       "Name: Lyrics, Length: 3479, dtype: object"
      ]
     },
     "execution_count": 44,
     "metadata": {},
     "output_type": "execute_result"
    }
   ],
   "source": [
    "# testing[\"Lyrics\"][current:] = s[:]\n",
    "# testing[\"Lyrics\"].iloc[current:]"
   ]
  },
  {
   "cell_type": "code",
   "execution_count": 45,
   "metadata": {},
   "outputs": [
    {
     "data": {
      "text/html": [
       "<div>\n",
       "<style scoped>\n",
       "    .dataframe tbody tr th:only-of-type {\n",
       "        vertical-align: middle;\n",
       "    }\n",
       "\n",
       "    .dataframe tbody tr th {\n",
       "        vertical-align: top;\n",
       "    }\n",
       "\n",
       "    .dataframe thead th {\n",
       "        text-align: right;\n",
       "    }\n",
       "</style>\n",
       "<table border=\"1\" class=\"dataframe\">\n",
       "  <thead>\n",
       "    <tr style=\"text-align: right;\">\n",
       "      <th></th>\n",
       "      <th>dzr_sng_id</th>\n",
       "      <th>MSD_sng_id</th>\n",
       "      <th>MSD_track_id</th>\n",
       "      <th>valence</th>\n",
       "      <th>arousal</th>\n",
       "      <th>artist_name</th>\n",
       "      <th>track_name</th>\n",
       "      <th>Lyrics</th>\n",
       "    </tr>\n",
       "  </thead>\n",
       "  <tbody>\n",
       "    <tr>\n",
       "      <th>382</th>\n",
       "      <td>810179</td>\n",
       "      <td>SOXQHOP12A8AE48C90</td>\n",
       "      <td>TRYFESD128F424095C</td>\n",
       "      <td>-1.935250</td>\n",
       "      <td>-0.655810</td>\n",
       "      <td>Nickelback</td>\n",
       "      <td>How You Remind Me - LP Mix</td>\n",
       "      <td>Never made it as a wise man\\nI couldn't cut it...</td>\n",
       "    </tr>\n",
       "    <tr>\n",
       "      <th>383</th>\n",
       "      <td>813779</td>\n",
       "      <td>SOSQQBM12A6D4F91FE</td>\n",
       "      <td>TRZFHKD128F1482510</td>\n",
       "      <td>-1.400403</td>\n",
       "      <td>1.538229</td>\n",
       "      <td>Faith No More</td>\n",
       "      <td>Land Of Sunshine</td>\n",
       "      <td>You have a winning way, so keep it\\nYour futur...</td>\n",
       "    </tr>\n",
       "    <tr>\n",
       "      <th>384</th>\n",
       "      <td>813788</td>\n",
       "      <td>SOQLFRX12A6D4F9200</td>\n",
       "      <td>TRQRUTM128F1482512</td>\n",
       "      <td>-0.308878</td>\n",
       "      <td>-0.102691</td>\n",
       "      <td>Faith No More</td>\n",
       "      <td>Midlife Crisis</td>\n",
       "      <td>Go on and wring my neck\\nLike when a rag gets ...</td>\n",
       "    </tr>\n",
       "    <tr>\n",
       "      <th>385</th>\n",
       "      <td>813797</td>\n",
       "      <td>SOHMLDY12AF72A1F78</td>\n",
       "      <td>TREHBEK128F1482514</td>\n",
       "      <td>-0.308878</td>\n",
       "      <td>-0.102691</td>\n",
       "      <td>Faith No More</td>\n",
       "      <td>Smaller And Smaller</td>\n",
       "      <td>Drought makes the workers dream\\nMuscles and f...</td>\n",
       "    </tr>\n",
       "    <tr>\n",
       "      <th>386</th>\n",
       "      <td>813802</td>\n",
       "      <td>SOFYIWG12A6D4F9203</td>\n",
       "      <td>TRLFRLW128F1482515</td>\n",
       "      <td>-1.056572</td>\n",
       "      <td>0.736206</td>\n",
       "      <td>Faith No More</td>\n",
       "      <td>Everything's Ruined</td>\n",
       "      <td>We were so happy\\nThings worked out better tha...</td>\n",
       "    </tr>\n",
       "    <tr>\n",
       "      <th>...</th>\n",
       "      <td>...</td>\n",
       "      <td>...</td>\n",
       "      <td>...</td>\n",
       "      <td>...</td>\n",
       "      <td>...</td>\n",
       "      <td>...</td>\n",
       "      <td>...</td>\n",
       "      <td>...</td>\n",
       "    </tr>\n",
       "    <tr>\n",
       "      <th>3858</th>\n",
       "      <td>111894158</td>\n",
       "      <td>SORPIXF12AB01868DD</td>\n",
       "      <td>TREQLLG128F935A6B5</td>\n",
       "      <td>-1.558674</td>\n",
       "      <td>1.883928</td>\n",
       "      <td>Arch Enemy</td>\n",
       "      <td>Fields Of Desolation</td>\n",
       "      <td>On the fields of desolation\\nWe are all alone\\...</td>\n",
       "    </tr>\n",
       "    <tr>\n",
       "      <th>3859</th>\n",
       "      <td>112680888</td>\n",
       "      <td>SOCIKSJ12AB018BEAB</td>\n",
       "      <td>TRAMFAS12903CD7030</td>\n",
       "      <td>-1.220301</td>\n",
       "      <td>0.644020</td>\n",
       "      <td>Deepest Blue</td>\n",
       "      <td>Is It A Sin</td>\n",
       "      <td>Is it a sin, to love again?\\nI cannot win, thi...</td>\n",
       "    </tr>\n",
       "    <tr>\n",
       "      <th>3860</th>\n",
       "      <td>113204038</td>\n",
       "      <td>SOUPRMS12AB0182A08</td>\n",
       "      <td>TRWSEAE128F93359C4</td>\n",
       "      <td>1.178325</td>\n",
       "      <td>1.183311</td>\n",
       "      <td>The Zombies</td>\n",
       "      <td>I'll Call You Mine</td>\n",
       "      <td>Though you and I would dance and laugh and pla...</td>\n",
       "    </tr>\n",
       "    <tr>\n",
       "      <th>3861</th>\n",
       "      <td>117581660</td>\n",
       "      <td>SOIIDJM12AB017AFEB</td>\n",
       "      <td>TRQSIQV128F93085B3</td>\n",
       "      <td>-0.793515</td>\n",
       "      <td>-0.202252</td>\n",
       "      <td>Pink Floyd</td>\n",
       "      <td>Comfortably Numb</td>\n",
       "      <td>Hello?\\nIs there anybody in there?\\nJust nod i...</td>\n",
       "    </tr>\n",
       "    <tr>\n",
       "      <th>3862</th>\n",
       "      <td>117581964</td>\n",
       "      <td>SOEUIUI12A58A7CD98</td>\n",
       "      <td>TRKUOAS128F1478DC9</td>\n",
       "      <td>0.373325</td>\n",
       "      <td>-0.923151</td>\n",
       "      <td>Pink Floyd</td>\n",
       "      <td>Money</td>\n",
       "      <td>Money\\nGet away\\nYou get a good job with good ...</td>\n",
       "    </tr>\n",
       "  </tbody>\n",
       "</table>\n",
       "<p>3481 rows × 8 columns</p>\n",
       "</div>"
      ],
      "text/plain": [
       "      dzr_sng_id          MSD_sng_id        MSD_track_id   valence   arousal  \\\n",
       "382       810179  SOXQHOP12A8AE48C90  TRYFESD128F424095C -1.935250 -0.655810   \n",
       "383       813779  SOSQQBM12A6D4F91FE  TRZFHKD128F1482510 -1.400403  1.538229   \n",
       "384       813788  SOQLFRX12A6D4F9200  TRQRUTM128F1482512 -0.308878 -0.102691   \n",
       "385       813797  SOHMLDY12AF72A1F78  TREHBEK128F1482514 -0.308878 -0.102691   \n",
       "386       813802  SOFYIWG12A6D4F9203  TRLFRLW128F1482515 -1.056572  0.736206   \n",
       "...          ...                 ...                 ...       ...       ...   \n",
       "3858   111894158  SORPIXF12AB01868DD  TREQLLG128F935A6B5 -1.558674  1.883928   \n",
       "3859   112680888  SOCIKSJ12AB018BEAB  TRAMFAS12903CD7030 -1.220301  0.644020   \n",
       "3860   113204038  SOUPRMS12AB0182A08  TRWSEAE128F93359C4  1.178325  1.183311   \n",
       "3861   117581660  SOIIDJM12AB017AFEB  TRQSIQV128F93085B3 -0.793515 -0.202252   \n",
       "3862   117581964  SOEUIUI12A58A7CD98  TRKUOAS128F1478DC9  0.373325 -0.923151   \n",
       "\n",
       "        artist_name                  track_name  \\\n",
       "382      Nickelback  How You Remind Me - LP Mix   \n",
       "383   Faith No More            Land Of Sunshine   \n",
       "384   Faith No More              Midlife Crisis   \n",
       "385   Faith No More         Smaller And Smaller   \n",
       "386   Faith No More         Everything's Ruined   \n",
       "...             ...                         ...   \n",
       "3858     Arch Enemy        Fields Of Desolation   \n",
       "3859   Deepest Blue                 Is It A Sin   \n",
       "3860    The Zombies          I'll Call You Mine   \n",
       "3861     Pink Floyd            Comfortably Numb   \n",
       "3862     Pink Floyd                       Money   \n",
       "\n",
       "                                                 Lyrics  \n",
       "382   Never made it as a wise man\\nI couldn't cut it...  \n",
       "383   You have a winning way, so keep it\\nYour futur...  \n",
       "384   Go on and wring my neck\\nLike when a rag gets ...  \n",
       "385   Drought makes the workers dream\\nMuscles and f...  \n",
       "386   We were so happy\\nThings worked out better tha...  \n",
       "...                                                 ...  \n",
       "3858  On the fields of desolation\\nWe are all alone\\...  \n",
       "3859  Is it a sin, to love again?\\nI cannot win, thi...  \n",
       "3860  Though you and I would dance and laugh and pla...  \n",
       "3861  Hello?\\nIs there anybody in there?\\nJust nod i...  \n",
       "3862  Money\\nGet away\\nYou get a good job with good ...  \n",
       "\n",
       "[3481 rows x 8 columns]"
      ]
     },
     "execution_count": 45,
     "metadata": {},
     "output_type": "execute_result"
    }
   ],
   "source": [
    "# validation.iloc[current - 2:]"
   ]
  },
  {
   "cell_type": "code",
   "execution_count": 10,
   "metadata": {},
   "outputs": [],
   "source": [
    "testing.to_csv(\"../data/testing_with_lyrics.csv\", index=False)"
   ]
  },
  {
   "cell_type": "code",
   "execution_count": 11,
   "metadata": {},
   "outputs": [
    {
     "data": {
      "text/plain": [
       "\"I heard you slippin down the hall\\nTell me did your shadow trip and fall\\nOver you babe,\\nMovin that slowly.\\n\\nDid you think you could waste my time\\nCome messin 'round with my mind,\\nDid you think you could?\\nWell you don't know me.\\n\\nWhere'd you get that alibi?\\nDid it fall out of the midnight sky\\nOr did you find it,\\nOn the side of the road?\\n\\nAnd tell me\\nDid you have to make a deal?\\nOr wrestle for control of the wheel\\nFrom your conscience, I'd like to know.\\nWhere do you go?\\n...\\n\\n******* This Lyrics is NOT for Commercial use *******\\n(1409621065547)\""
      ]
     },
     "execution_count": 11,
     "metadata": {},
     "output_type": "execute_result"
    }
   ],
   "source": [
    "testing.loc[139][\"Lyrics\"]"
   ]
  },
  {
   "cell_type": "code",
   "execution_count": null,
   "metadata": {},
   "outputs": [],
   "source": []
  }
 ],
 "metadata": {
  "kernelspec": {
   "display_name": "Python 3",
   "language": "python",
   "name": "python3"
  },
  "language_info": {
   "codemirror_mode": {
    "name": "ipython",
    "version": 3
   },
   "file_extension": ".py",
   "mimetype": "text/x-python",
   "name": "python",
   "nbconvert_exporter": "python",
   "pygments_lexer": "ipython3",
   "version": "3.8.3"
  }
 },
 "nbformat": 4,
 "nbformat_minor": 4
}
