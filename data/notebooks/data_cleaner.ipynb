{
 "cells": [
  {
   "cell_type": "markdown",
   "metadata": {
    "pycharm": {
     "name": "#%% md\n"
    }
   },
   "source": [
    "### Data cleaner\n",
    "\n",
    "This notebook contains code for cleaning data. Mainly dropping unused columns and\n",
    "removing unnecessary content from the lyrics."
   ]
  },
  {
   "cell_type": "code",
   "execution_count": 1,
   "outputs": [],
   "source": [
    "import pandas as pd"
   ],
   "metadata": {
    "collapsed": false,
    "pycharm": {
     "name": "#%%\n"
    }
   }
  },
  {
   "cell_type": "code",
   "execution_count": null,
   "outputs": [],
   "source": [
    "dataset_list = [\"train.csv\", \"test.csv\", \"validation.csv\"]"
   ],
   "metadata": {
    "collapsed": false,
    "pycharm": {
     "name": "#%%\n"
    }
   }
  },
  {
   "cell_type": "code",
   "execution_count": 20,
   "metadata": {},
   "outputs": [],
   "source": [
    "# Remove the This Lyrics is NOT for Commercial use portion of lyrics\n",
    "# NOTE: Don't run this as it has already been done.\n",
    "# text_to_remove = train[\"Lyrics\"][0][-79:]\n",
    "# def remove_text(data):\n",
    "#     \"\"\"\n",
    "#     Remove unnecessary text above from the lyrics\n",
    "#     :param data: dataset\n",
    "#     :return: cleaned dataset\n",
    "#     \"\"\"\n",
    "#     for i in range(len(data)):\n",
    "#         data[\"lyrics\"].iloc[i] = data[\"lyrics\"].iloc[i].replace(text_to_remove, \"\")"
   ]
  },
  {
   "cell_type": "code",
   "execution_count": 3,
   "metadata": {},
   "outputs": [],
   "source": [
    "def data_cleaner(dataset):\n",
    "    \"\"\"\n",
    "    Cleans the data.\n",
    "    :param dataset: path to data\n",
    "    :return: cleaned data\n",
    "    \"\"\"\n",
    "\n",
    "    data = pd.read_csv(dataset)\n",
    "\n",
    "    # dropping NAN values\n",
    "    data = data.dropna()\n",
    "\n",
    "    # Drop columns no longer needed\n",
    "    # columns_to_drop = [\"MSD_sng_id\",\"MSD_track_id\"]\n",
    "    columns_to_drop = [\"dzr_sng_id\", \"valence\", \"arousal\", \"artist_name\", \"track_name\"]\n",
    "    data.drop(columns_to_drop, axis=1, inplace=True)\n",
    "\n",
    "    # Remove the \"This Lyrics is NOT for Commercial use\" portion of lyrics\n",
    "    # remove_text(data)\n",
    "\n",
    "    return data"
   ]
  },
  {
   "cell_type": "code",
   "execution_count": 3,
   "outputs": [],
   "source": [
    "for data in dataset_list:\n",
    "    df = data_cleaner(data)\n",
    "    df.to_csv(data, index=False)"
   ],
   "metadata": {
    "collapsed": false,
    "pycharm": {
     "name": "#%%\n"
    }
   }
  },
  {
   "cell_type": "code",
   "execution_count": null,
   "outputs": [],
   "source": [],
   "metadata": {
    "collapsed": false,
    "pycharm": {
     "name": "#%%\n"
    }
   }
  }
 ],
 "metadata": {
  "kernelspec": {
   "display_name": "Python 3",
   "language": "python",
   "name": "python3"
  },
  "language_info": {
   "codemirror_mode": {
    "name": "ipython",
    "version": 3
   },
   "file_extension": ".py",
   "mimetype": "text/x-python",
   "name": "python",
   "nbconvert_exporter": "python",
   "pygments_lexer": "ipython3",
   "version": "3.8.3"
  }
 },
 "nbformat": 4,
 "nbformat_minor": 4
}