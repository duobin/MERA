{
 "cells": [
  {
   "cell_type": "markdown",
   "metadata": {
    "pycharm": {
     "name": "#%% md\n"
    }
   },
   "source": [
    "### Quadrant Assigner\n",
    "\n",
    "This notebook contains code for assigning Quadrant Label to datapoints depending\n",
    "on their respective valence/arousal (A/V) scales. Quadrants fall under:\n",
    "\n",
    "- Q1\n",
    "- Q2\n",
    "- Q3\n",
    "- Q4\n",
    "\n",
    "Zero-based index was used for this assignment."
   ]
  },
  {
   "cell_type": "code",
   "execution_count": null,
   "outputs": [],
   "source": [
    "import pandas as pd"
   ],
   "metadata": {
    "collapsed": false,
    "pycharm": {
     "name": "#%%\n"
    }
   }
  },
  {
   "cell_type": "code",
   "execution_count": null,
   "outputs": [],
   "source": [
    "def quadrant_assigner(dataset):\n",
    "    \"\"\"\n",
    "    Assigns quadrants to each datapoint in a dataset\n",
    "    :param dataset: path to dataset\n",
    "    :return: final dataset\n",
    "    \"\"\"\n",
    "\n",
    "    data = pd.read_csv(dataset)\n",
    "\n",
    "    # get quadrant value based on A/V values\n",
    "    quadrant_list = []\n",
    "    for i in range(data.shape[0]):\n",
    "        A, V = data.iloc[i][\"arousal\"], data.iloc[i][\"valence\"]\n",
    "        if A > 0 and V > 0:\n",
    "            quadrant_list.append(0) # Q1\n",
    "        elif A > 0 and V < 0:\n",
    "            quadrant_list.append(1) # Q2\n",
    "        elif A < 0 and V < 0:\n",
    "            quadrant_list.append(2) # Q3\n",
    "        else:\n",
    "            quadrant_list.append(3) # Q4\n",
    "\n",
    "    data[\"quadrant\"] = quadrant_list\n",
    "\n",
    "    return data"
   ],
   "metadata": {
    "collapsed": false,
    "pycharm": {
     "name": "#%%\n"
    }
   }
  },
  {
   "cell_type": "code",
   "execution_count": 11,
   "metadata": {},
   "outputs": [
    {
     "data": {
      "text/html": [
       "<div>\n",
       "<style scoped>\n",
       "    .dataframe tbody tr th:only-of-type {\n",
       "        vertical-align: middle;\n",
       "    }\n",
       "\n",
       "    .dataframe tbody tr th {\n",
       "        vertical-align: top;\n",
       "    }\n",
       "\n",
       "    .dataframe thead th {\n",
       "        text-align: right;\n",
       "    }\n",
       "</style>\n",
       "<table border=\"1\" class=\"dataframe\">\n",
       "  <thead>\n",
       "    <tr style=\"text-align: right;\">\n",
       "      <th></th>\n",
       "      <th>valence</th>\n",
       "      <th>arousal</th>\n",
       "      <th>artist_name</th>\n",
       "      <th>track_name</th>\n",
       "      <th>Lyrics</th>\n",
       "      <th>Path</th>\n",
       "    </tr>\n",
       "  </thead>\n",
       "  <tbody>\n",
       "    <tr>\n",
       "      <th>0</th>\n",
       "      <td>-0.682725</td>\n",
       "      <td>0.316758</td>\n",
       "      <td>Dark Tranquillity</td>\n",
       "      <td>Insanity's Crescendo</td>\n",
       "      <td>Gently hold our hands\\nGently hold our heads o...</td>\n",
       "      <td>../audio/spectrograms/213754.png</td>\n",
       "    </tr>\n",
       "    <tr>\n",
       "      <th>1</th>\n",
       "      <td>-1.400403</td>\n",
       "      <td>1.538229</td>\n",
       "      <td>Anorexia Nervosa</td>\n",
       "      <td>Stabat mater dolorosa</td>\n",
       "      <td>We are the Sun\\nWe are the dead stars\\nWe are ...</td>\n",
       "      <td>../audio/spectrograms/216752.png</td>\n",
       "    </tr>\n",
       "    <tr>\n",
       "      <th>2</th>\n",
       "      <td>0.815393</td>\n",
       "      <td>0.662457</td>\n",
       "      <td>Uniting Nations</td>\n",
       "      <td>Out Of Touch</td>\n",
       "      <td>You're out of touch\\nI'm out of time\\nBut I'm ...</td>\n",
       "      <td>../audio/spectrograms/254391.png</td>\n",
       "    </tr>\n",
       "    <tr>\n",
       "      <th>3</th>\n",
       "      <td>1.257460</td>\n",
       "      <td>1.086515</td>\n",
       "      <td>The Walkmen</td>\n",
       "      <td>Brandy alexander</td>\n",
       "      <td>You finally close the door\\nYou've left open w...</td>\n",
       "      <td>../audio/spectrograms/266313.png</td>\n",
       "    </tr>\n",
       "    <tr>\n",
       "      <th>4</th>\n",
       "      <td>0.373325</td>\n",
       "      <td>-0.923151</td>\n",
       "      <td>Duke Ellington</td>\n",
       "      <td>Caravan</td>\n",
       "      <td>随分先に行ってしまった 光の下のキャラバン\\nトンネルに残響 塞いだ耳 自分嫌いな自分が好き...</td>\n",
       "      <td>../audio/spectrograms/283306.png</td>\n",
       "    </tr>\n",
       "  </tbody>\n",
       "</table>\n",
       "</div>"
      ],
      "text/plain": [
       "    valence   arousal        artist_name             track_name  \\\n",
       "0 -0.682725  0.316758  Dark Tranquillity   Insanity's Crescendo   \n",
       "1 -1.400403  1.538229   Anorexia Nervosa  Stabat mater dolorosa   \n",
       "2  0.815393  0.662457    Uniting Nations           Out Of Touch   \n",
       "3  1.257460  1.086515        The Walkmen       Brandy alexander   \n",
       "4  0.373325 -0.923151     Duke Ellington                Caravan   \n",
       "\n",
       "                                              Lyrics  \\\n",
       "0  Gently hold our hands\\nGently hold our heads o...   \n",
       "1  We are the Sun\\nWe are the dead stars\\nWe are ...   \n",
       "2  You're out of touch\\nI'm out of time\\nBut I'm ...   \n",
       "3  You finally close the door\\nYou've left open w...   \n",
       "4  随分先に行ってしまった 光の下のキャラバン\\nトンネルに残響 塞いだ耳 自分嫌いな自分が好き...   \n",
       "\n",
       "                               Path  \n",
       "0  ../audio/spectrograms/213754.png  \n",
       "1  ../audio/spectrograms/216752.png  \n",
       "2  ../audio/spectrograms/254391.png  \n",
       "3  ../audio/spectrograms/266313.png  \n",
       "4  ../audio/spectrograms/283306.png  "
      ]
     },
     "execution_count": 11,
     "metadata": {},
     "output_type": "execute_result"
    }
   ],
   "source": [
    "# TODO: Do this for all datasets\n",
    "data = quadrant_assigner(\"train.csv\")"
   ]
  },
  {
   "cell_type": "code",
   "execution_count": 14,
   "metadata": {},
   "outputs": [],
   "source": [
    "colums_to_drop = [\"valence\", \"arousal\", \"artist_name\", \"track_name\"]\n",
    "data.drop(colums_to_drop, axis=1, inplace=True)"
   ]
  },
  {
   "cell_type": "code",
   "execution_count": 15,
   "metadata": {},
   "outputs": [],
   "source": [
    "data.to_csv(\"train.csv\", index=False)"
   ]
  },
  {
   "cell_type": "code",
   "execution_count": null,
   "metadata": {},
   "outputs": [],
   "source": []
  }
 ],
 "metadata": {
  "kernelspec": {
   "display_name": "Python 3",
   "language": "python",
   "name": "python3"
  },
  "language_info": {
   "codemirror_mode": {
    "name": "ipython",
    "version": 3
   },
   "file_extension": ".py",
   "mimetype": "text/x-python",
   "name": "python",
   "nbconvert_exporter": "python",
   "pygments_lexer": "ipython3",
   "version": "3.8.3"
  }
 },
 "nbformat": 4,
 "nbformat_minor": 4
}