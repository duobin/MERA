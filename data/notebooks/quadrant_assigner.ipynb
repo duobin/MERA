{
 "cells": [
  {
   "cell_type": "markdown",
   "metadata": {
    "pycharm": {
     "name": "#%% md\n"
    }
   },
   "source": [
    "### Quadrant Assigner\n",
    "\n",
    "This notebook contains code for assigning Quadrant Label to datapoints depending\n",
    "on their respective valence/arousal (A/V) scales. Quadrants fall under:\n",
    "\n",
    "- Q1\n",
    "- Q2\n",
    "- Q3\n",
    "- Q4\n",
    "\n",
    "Zero-based index was used for this assignment."
   ]
  },
  {
   "cell_type": "code",
   "execution_count": 2,
   "outputs": [],
   "source": [
    "import pandas as pd"
   ],
   "metadata": {
    "collapsed": false,
    "pycharm": {
     "name": "#%%\n"
    }
   }
  },
  {
   "cell_type": "code",
   "execution_count": 3,
   "outputs": [],
   "source": [
    "dataset_list = [\"../train.csv\", \"../test.csv\", \"../validation.csv\"]"
   ],
   "metadata": {
    "collapsed": false,
    "pycharm": {
     "name": "#%%\n"
    }
   }
  },
  {
   "cell_type": "code",
   "execution_count": 4,
   "outputs": [],
   "source": [
    "def quadrant_assigner(dataset):\n",
    "    \"\"\"\n",
    "    Assigns quadrants to each datapoint in a dataset\n",
    "    :param dataset: path to dataset\n",
    "    :return: final dataset\n",
    "    \"\"\"\n",
    "\n",
    "    data = pd.read_csv(dataset)\n",
    "\n",
    "    # get quadrant value based on A/V values\n",
    "    quadrant_list = []\n",
    "    for i in range(data.shape[0]):\n",
    "        A, V = data.iloc[i][\"arousal\"], data.iloc[i][\"valence\"]\n",
    "        if A > 0 and V > 0:\n",
    "            quadrant_list.append(0) # Q1\n",
    "        elif A > 0 and V < 0:\n",
    "            quadrant_list.append(1) # Q2\n",
    "        elif A < 0 and V < 0:\n",
    "            quadrant_list.append(2) # Q3\n",
    "        else:\n",
    "            quadrant_list.append(3) # Q4\n",
    "\n",
    "    data[\"quadrant\"] = quadrant_list\n",
    "\n",
    "    return data"
   ],
   "metadata": {
    "collapsed": false,
    "pycharm": {
     "name": "#%%\n"
    }
   }
  },
  {
   "cell_type": "code",
   "execution_count": 5,
   "metadata": {},
   "outputs": [],
   "source": [
    "for data in dataset_list:\n",
    "    df = quadrant_assigner(data)\n",
    "    df.to_csv(data, index=False)"
   ]
  },
  {
   "cell_type": "code",
   "execution_count": null,
   "outputs": [],
   "source": [],
   "metadata": {
    "collapsed": false,
    "pycharm": {
     "name": "#%%\n"
    }
   }
  }
 ],
 "metadata": {
  "kernelspec": {
   "name": "pycharm-2f8d2c2d",
   "language": "python",
   "display_name": "PyCharm (MERA)"
  },
  "language_info": {
   "codemirror_mode": {
    "name": "ipython",
    "version": 3
   },
   "file_extension": ".py",
   "mimetype": "text/x-python",
   "name": "python",
   "nbconvert_exporter": "python",
   "pygments_lexer": "ipython3",
   "version": "3.8.3"
  }
 },
 "nbformat": 4,
 "nbformat_minor": 4
}