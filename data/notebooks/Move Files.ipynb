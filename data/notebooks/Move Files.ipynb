{
 "cells": [
  {
   "cell_type": "code",
   "execution_count": 1,
   "metadata": {},
   "outputs": [],
   "source": [
    "import pandas as pd\n",
    "import shutil\n",
    "import os"
   ]
  },
  {
   "cell_type": "code",
   "execution_count": 2,
   "metadata": {},
   "outputs": [
    {
     "data": {
      "text/plain": "                                              Lyrics  \\\n0  Gently hold our hands\\r\\nGently hold our heads...   \n1  We are the Sun\\r\\nWe are the dead stars\\r\\nWe ...   \n2  You're out of touch\\r\\nI'm out of time\\r\\nBut ...   \n3  You finally close the door\\r\\nYou've left open...   \n4  随分先に行ってしまった 光の下のキャラバン\\r\\nトンネルに残響 塞いだ耳 自分嫌いな自分が...   \n\n                               Path  Quadrant  \n0  ../audio/spectrograms/213754.png         1  \n1  ../audio/spectrograms/216752.png         1  \n2  ../audio/spectrograms/254391.png         0  \n3  ../audio/spectrograms/266313.png         0  \n4  ../audio/spectrograms/283306.png         3  ",
      "text/html": "<div>\n<style scoped>\n    .dataframe tbody tr th:only-of-type {\n        vertical-align: middle;\n    }\n\n    .dataframe tbody tr th {\n        vertical-align: top;\n    }\n\n    .dataframe thead th {\n        text-align: right;\n    }\n</style>\n<table border=\"1\" class=\"dataframe\">\n  <thead>\n    <tr style=\"text-align: right;\">\n      <th></th>\n      <th>Lyrics</th>\n      <th>Path</th>\n      <th>Quadrant</th>\n    </tr>\n  </thead>\n  <tbody>\n    <tr>\n      <th>0</th>\n      <td>Gently hold our hands\\r\\nGently hold our heads...</td>\n      <td>../audio/spectrograms/213754.png</td>\n      <td>1</td>\n    </tr>\n    <tr>\n      <th>1</th>\n      <td>We are the Sun\\r\\nWe are the dead stars\\r\\nWe ...</td>\n      <td>../audio/spectrograms/216752.png</td>\n      <td>1</td>\n    </tr>\n    <tr>\n      <th>2</th>\n      <td>You're out of touch\\r\\nI'm out of time\\r\\nBut ...</td>\n      <td>../audio/spectrograms/254391.png</td>\n      <td>0</td>\n    </tr>\n    <tr>\n      <th>3</th>\n      <td>You finally close the door\\r\\nYou've left open...</td>\n      <td>../audio/spectrograms/266313.png</td>\n      <td>0</td>\n    </tr>\n    <tr>\n      <th>4</th>\n      <td>随分先に行ってしまった 光の下のキャラバン\\r\\nトンネルに残響 塞いだ耳 自分嫌いな自分が...</td>\n      <td>../audio/spectrograms/283306.png</td>\n      <td>3</td>\n    </tr>\n  </tbody>\n</table>\n</div>"
     },
     "execution_count": 2,
     "metadata": {},
     "output_type": "execute_result"
    }
   ],
   "source": [
    "data = pd.read_csv(\"mvp_data.csv\")\n",
    "data.head()"
   ]
  },
  {
   "cell_type": "code",
   "execution_count": 3,
   "metadata": {},
   "outputs": [],
   "source": [
    "paths = data[\"Path\"]\n",
    "quadrant = data[\"Quadrant\"]"
   ]
  },
  {
   "cell_type": "code",
   "execution_count": 4,
   "metadata": {},
   "outputs": [],
   "source": [
    "path = 'train/spectrograms/'"
   ]
  },
  {
   "cell_type": "code",
   "execution_count": 6,
   "metadata": {},
   "outputs": [],
   "source": [
    "for i in range(data.shape[0]):\n",
    "    if quadrant[i] == 0:\n",
    "        shutil.copy(paths[i], path+'0')\n",
    "    if quadrant[i] == 1:\n",
    "        shutil.copy(paths[i], path+'1')\n",
    "    if quadrant[i] == 2:\n",
    "        shutil.copy(paths[i], path+'2')\n",
    "    if quadrant[i] == 3:\n",
    "        shutil.copy(paths[i], path+'3')"
   ]
  },
  {
   "cell_type": "code",
   "execution_count": null,
   "metadata": {},
   "outputs": [],
   "source": []
  }
 ],
 "metadata": {
  "kernelspec": {
   "display_name": "Python 3",
   "language": "python",
   "name": "python3"
  },
  "language_info": {
   "codemirror_mode": {
    "name": "ipython",
    "version": 3
   },
   "file_extension": ".py",
   "mimetype": "text/x-python",
   "name": "python",
   "nbconvert_exporter": "python",
   "pygments_lexer": "ipython3",
   "version": "3.8.3"
  }
 },
 "nbformat": 4,
 "nbformat_minor": 4
}