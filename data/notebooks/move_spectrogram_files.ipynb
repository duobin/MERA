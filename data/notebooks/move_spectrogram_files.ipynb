{
 "cells": [
  {
   "cell_type": "code",
   "execution_count": 1,
   "metadata": {},
   "outputs": [],
   "source": [
    "import pandas as pd\n",
    "import shutil\n",
    "import os"
   ]
  },
  {
   "cell_type": "code",
   "execution_count": 3,
   "metadata": {},
   "outputs": [],
   "source": [
    "data_list = [\"../../audio/spectrogram/train/\", \"../../audio/spectrogram/test/\", \"../../audio/spectrogram/valid/\"]"
   ]
  },
  {
   "cell_type": "code",
   "execution_count": 4,
   "metadata": {},
   "outputs": [],
   "source": [
    "dataset_list = [\"../train.csv\", \"../test.csv\", \"../validation.csv\"]"
   ]
  },
  {
   "cell_type": "code",
   "execution_count": 5,
   "metadata": {
    "collapsed": false,
    "jupyter": {
     "outputs_hidden": false
    },
    "pycharm": {
     "name": "#%%\n"
    }
   },
   "outputs": [],
   "source": [
    "path_list = [\"../train/spectrogram/\", \"../test/spectrogram/\", \"../validation/spectrogram/\"]"
   ]
  },
  {
   "cell_type": "code",
   "execution_count": 2,
   "metadata": {},
   "outputs": [],
   "source": [
    "def move_spectogram_files(dataset, data, path):\n",
    "    \"\"\"\n",
    "    Moves spectograms to their respective\n",
    "    train/test/validation quadrant folders\n",
    "    :param dataset: path to dataset\n",
    "    :param path: quadrant path\n",
    "    :return: None\n",
    "    \"\"\"\n",
    "    \n",
    "    df = pd.read_csv(dataset)\n",
    "    files = os.listdir(data) # get all files\n",
    "    \n",
    "    for file in files:\n",
    "        try:\n",
    "            quadrant = df.loc[df[\"dzr_sng_id\"] == int(file.split(\".\")[0])][\"quadrant\"].values[0] # get quadrant\n",
    "            if quadrant == 0:\n",
    "                shutil.copy(data+\"/\"+file, path+'0')\n",
    "            if quadrant == 1:\n",
    "                shutil.copy(data+\"/\"+file, path+'1')\n",
    "            if quadrant == 2:\n",
    "                shutil.copy(data+\"/\"+file, path+'2')\n",
    "            if quadrant == 3:\n",
    "                shutil.copy(data+\"/\"+file, path+'3')\n",
    "        except:\n",
    "            pass"
   ]
  },
  {
   "cell_type": "code",
   "execution_count": 13,
   "metadata": {},
   "outputs": [],
   "source": [
    "for i in range(len(dataset_list)):\n",
    "    move_spectogram_files(dataset_list[i], data_list[i], path_list[i])"
   ]
  },
  {
   "cell_type": "code",
   "execution_count": 7,
   "metadata": {},
   "outputs": [],
   "source": [
    "move_spectogram_files(dataset_list[0], data_list[0], path_list[0])"
   ]
  },
  {
   "cell_type": "code",
   "execution_count": null,
   "metadata": {},
   "outputs": [],
   "source": []
  }
 ],
 "metadata": {
  "kernelspec": {
   "display_name": "Python 3",
   "language": "python",
   "name": "python3"
  },
  "language_info": {
   "codemirror_mode": {
    "name": "ipython",
    "version": 3
   },
   "file_extension": ".py",
   "mimetype": "text/x-python",
   "name": "python",
   "nbconvert_exporter": "python",
   "pygments_lexer": "ipython3",
   "version": "3.8.8"
  }
 },
 "nbformat": 4,
 "nbformat_minor": 4
}
