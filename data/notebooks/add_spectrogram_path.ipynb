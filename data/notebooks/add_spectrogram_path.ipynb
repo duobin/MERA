{
 "cells": [
  {
   "cell_type": "markdown",
   "metadata": {
    "pycharm": {
     "name": "#%% md\n"
    }
   },
   "source": [
    "### Add Spectrogram Path\n",
    "\n",
    "Adds spectrogram paths to the datasets."
   ]
  },
  {
   "cell_type": "code",
   "execution_count": null,
   "outputs": [],
   "source": [
    "import pandas as pd\n",
    "import os"
   ],
   "metadata": {
    "collapsed": false,
    "pycharm": {
     "name": "#%%\n"
    }
   }
  },
  {
   "cell_type": "code",
   "execution_count": 44,
   "metadata": {},
   "outputs": [],
   "source": [
    "path_list = [\"../audio/spectrograms/train/\", \"../audio/spectrograms/test/\",\n",
    "             \"../audio/spectrograms/validation/\"]"
   ]
  },
  {
   "cell_type": "code",
   "execution_count": 45,
   "metadata": {},
   "outputs": [
    {
     "data": {
      "text/html": [
       "<div>\n",
       "<style scoped>\n",
       "    .dataframe tbody tr th:only-of-type {\n",
       "        vertical-align: middle;\n",
       "    }\n",
       "\n",
       "    .dataframe tbody tr th {\n",
       "        vertical-align: top;\n",
       "    }\n",
       "\n",
       "    .dataframe thead th {\n",
       "        text-align: right;\n",
       "    }\n",
       "</style>\n",
       "<table border=\"1\" class=\"dataframe\">\n",
       "  <thead>\n",
       "    <tr style=\"text-align: right;\">\n",
       "      <th></th>\n",
       "      <th>dzr_sng_id</th>\n",
       "      <th>valence</th>\n",
       "      <th>arousal</th>\n",
       "      <th>artist_name</th>\n",
       "      <th>track_name</th>\n",
       "      <th>Lyrics</th>\n",
       "    </tr>\n",
       "  </thead>\n",
       "  <tbody>\n",
       "    <tr>\n",
       "      <th>0</th>\n",
       "      <td>213754</td>\n",
       "      <td>-0.682725</td>\n",
       "      <td>0.316758</td>\n",
       "      <td>Dark Tranquillity</td>\n",
       "      <td>Insanity's Crescendo</td>\n",
       "      <td>Gently hold our hands\\nGently hold our heads o...</td>\n",
       "    </tr>\n",
       "    <tr>\n",
       "      <th>1</th>\n",
       "      <td>216752</td>\n",
       "      <td>-1.400403</td>\n",
       "      <td>1.538229</td>\n",
       "      <td>Anorexia Nervosa</td>\n",
       "      <td>Stabat mater dolorosa</td>\n",
       "      <td>We are the Sun\\nWe are the dead stars\\nWe are ...</td>\n",
       "    </tr>\n",
       "    <tr>\n",
       "      <th>2</th>\n",
       "      <td>254391</td>\n",
       "      <td>0.815393</td>\n",
       "      <td>0.662457</td>\n",
       "      <td>Uniting Nations</td>\n",
       "      <td>Out Of Touch</td>\n",
       "      <td>You're out of touch\\nI'm out of time\\nBut I'm ...</td>\n",
       "    </tr>\n",
       "    <tr>\n",
       "      <th>3</th>\n",
       "      <td>266313</td>\n",
       "      <td>1.257460</td>\n",
       "      <td>1.086515</td>\n",
       "      <td>The Walkmen</td>\n",
       "      <td>Brandy alexander</td>\n",
       "      <td>You finally close the door\\nYou've left open w...</td>\n",
       "    </tr>\n",
       "    <tr>\n",
       "      <th>4</th>\n",
       "      <td>283306</td>\n",
       "      <td>0.373325</td>\n",
       "      <td>-0.923151</td>\n",
       "      <td>Duke Ellington</td>\n",
       "      <td>Caravan</td>\n",
       "      <td>随分先に行ってしまった 光の下のキャラバン\\nトンネルに残響 塞いだ耳 自分嫌いな自分が好き...</td>\n",
       "    </tr>\n",
       "  </tbody>\n",
       "</table>\n",
       "</div>"
      ],
      "text/plain": [
       "   dzr_sng_id   valence   arousal        artist_name             track_name  \\\n",
       "0      213754 -0.682725  0.316758  Dark Tranquillity   Insanity's Crescendo   \n",
       "1      216752 -1.400403  1.538229   Anorexia Nervosa  Stabat mater dolorosa   \n",
       "2      254391  0.815393  0.662457    Uniting Nations           Out Of Touch   \n",
       "3      266313  1.257460  1.086515        The Walkmen       Brandy alexander   \n",
       "4      283306  0.373325 -0.923151     Duke Ellington                Caravan   \n",
       "\n",
       "                                              Lyrics  \n",
       "0  Gently hold our hands\\nGently hold our heads o...  \n",
       "1  We are the Sun\\nWe are the dead stars\\nWe are ...  \n",
       "2  You're out of touch\\nI'm out of time\\nBut I'm ...  \n",
       "3  You finally close the door\\nYou've left open w...  \n",
       "4  随分先に行ってしまった 光の下のキャラバン\\nトンネルに残響 塞いだ耳 自分嫌いな自分が好き...  "
      ]
     },
     "execution_count": 45,
     "metadata": {},
     "output_type": "execute_result"
    }
   ],
   "source": [
    "dataset_list = [\"train.csv\", \"test.csv\", \"validation.csv\"]"
   ]
  },
  {
   "cell_type": "code",
   "execution_count": null,
   "metadata": {},
   "outputs": [],
   "source": [
    "def add_spectrogram_path(dataset, spectrograms_path):\n",
    "    \"\"\"\n",
    "    Adds spectogram path to the data and returns\n",
    "    the new data.\n",
    "    :param dataset: path to the data csv file\n",
    "    :param spectrograms_path: path to spectrograms directory\n",
    "    :return: new data\n",
    "    \"\"\"\n",
    "\n",
    "    data = pd.read_csv(dataset)\n",
    "    data[\"path\"] = [os.path.join(spectrograms_path, str(data['dzr_sng_id'][i]) + '.png') for i in range(data.shape[0])]\n",
    "\n",
    "    return data"
   ]
  },
  {
   "cell_type": "code",
   "execution_count": null,
   "outputs": [],
   "source": [
    "for i in range(len(dataset_list)):\n",
    "    df = add_spectrogram_path(dataset_list[i], path_list[i])\n",
    "    df.to_csv(dataset_list[i], index=False)"
   ],
   "metadata": {
    "collapsed": false,
    "pycharm": {
     "name": "#%%\n"
    }
   }
  },
  {
   "cell_type": "code",
   "execution_count": null,
   "outputs": [],
   "source": [],
   "metadata": {
    "collapsed": false,
    "pycharm": {
     "name": "#%%\n"
    }
   }
  }
 ],
 "metadata": {
  "kernelspec": {
   "display_name": "Python 3",
   "language": "python",
   "name": "python3"
  },
  "language_info": {
   "codemirror_mode": {
    "name": "ipython",
    "version": 3
   },
   "file_extension": ".py",
   "mimetype": "text/x-python",
   "name": "python",
   "nbconvert_exporter": "python",
   "pygments_lexer": "ipython3",
   "version": "3.8.3"
  }
 },
 "nbformat": 4,
 "nbformat_minor": 4
}