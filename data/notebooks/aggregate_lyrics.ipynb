{
 "cells": [
  {
   "cell_type": "code",
   "execution_count": 16,
   "metadata": {},
   "outputs": [],
   "source": [
    "import pandas as pd"
   ]
  },
  {
   "cell_type": "code",
   "execution_count": 17,
   "outputs": [],
   "source": [
    "dataset_list = [\"../train.csv\", \"../test.csv\", \"../validation.csv\"]\n",
    "lyrics_path_list = [\"../train/lyrics/lyrics.txt\", \"../test/lyrics/lyrics.txt\", \"../validation/lyrics/lyrics.txt\"]\n",
    "labels_path_list = [\"../train/lyrics/labels.txt\", \"../test/lyrics/labels.txt\", \"../validation/lyrics/labels.txt\"]"
   ],
   "metadata": {
    "collapsed": false,
    "pycharm": {
     "name": "#%%\n"
    }
   }
  },
  {
   "cell_type": "code",
   "execution_count": 18,
   "outputs": [],
   "source": [
    "def aggregate_lyrics(dataset, lyrics_path, labels_path):\n",
    "    \"\"\"\n",
    "    Aggregate lyrics and their respective labels / quadrant\n",
    "    :param dataset: path to data\n",
    "    :param lyrics_path: path to lyrics .txt file\n",
    "    :param labels_path: path to labels .txt file\n",
    "    :return: None\n",
    "    \"\"\"\n",
    "    \n",
    "    data = pd.read_csv(dataset)\n",
    "    failed_index = []   # indexes with faulty data\n",
    "    \n",
    "    lyrics = data[\"lyrics\"]\n",
    "    labels = data[\"quadrant\"]\n",
    "    \n",
    "    with open(lyrics_path, \"w\") as f:\n",
    "        for _ in range(lyrics.shape[0]):\n",
    "            try:\n",
    "                f.write(\"\".join(\"\".join(lyrics[_]).replace(\"\\n\", \" \").replace(\"\\r\", \" \"))+\"\\n\")\n",
    "            except UnicodeEncodeError:\n",
    "                failed_index.append(_)\n",
    "                \n",
    "    with open(labels_path, \"w\") as f:\n",
    "        for _ in range(labels.shape[0]):\n",
    "            try:\n",
    "                if _ not in failed_index:\n",
    "                    f.write(str(labels.iloc[_])+\"\\n\")\n",
    "            except UnicodeEncodeError:\n",
    "                pass"
   ],
   "metadata": {
    "collapsed": false,
    "pycharm": {
     "name": "#%%\n"
    }
   }
  },
  {
   "cell_type": "code",
   "execution_count": 19,
   "metadata": {},
   "outputs": [],
   "source": [
    "# iterate over lists to aggregate all lyrics and labels\n",
    "for i in range(len(dataset_list)):\n",
    "    aggregate_lyrics(dataset_list[i], lyrics_path_list[i], labels_path_list[i])"
   ]
  },
  {
   "cell_type": "code",
   "execution_count": null,
   "outputs": [],
   "source": [],
   "metadata": {
    "collapsed": false,
    "pycharm": {
     "name": "#%%\n"
    }
   }
  }
 ],
 "metadata": {
  "kernelspec": {
   "display_name": "Python 3",
   "language": "python",
   "name": "python3"
  },
  "language_info": {
   "codemirror_mode": {
    "name": "ipython",
    "version": 3
   },
   "file_extension": ".py",
   "mimetype": "text/x-python",
   "name": "python",
   "nbconvert_exporter": "python",
   "pygments_lexer": "ipython3",
   "version": "3.8.5"
  }
 },
 "nbformat": 4,
 "nbformat_minor": 4
}