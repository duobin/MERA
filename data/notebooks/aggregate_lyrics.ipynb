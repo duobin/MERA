{
 "cells": [
  {
   "cell_type": "code",
   "execution_count": 1,
   "metadata": {},
   "outputs": [],
   "source": [
    "import pandas as pd"
   ]
  },
  {
   "cell_type": "code",
   "execution_count": null,
   "outputs": [],
   "source": [
    "dataset_list = [\"train.csv\", \"test.csv\", \"validation.csv\"]\n",
    "lyrics_path_list = [\"train/lyrics/lyrics.txt\", \"test/lyrics/lyrics.txt\", \"validation/lyrics/lyrics.txt\"]\n",
    "labels_path_list = [\"train/lyrics/labels.txt\", \"test/lyrics/labels.txt\", \"validation/lyrics/labels.txt\"]"
   ],
   "metadata": {
    "collapsed": false,
    "pycharm": {
     "name": "#%%\n"
    }
   }
  },
  {
   "cell_type": "code",
   "execution_count": null,
   "outputs": [],
   "source": [
    "def aggregate_lyrics(dataset, lyrics_path, labels_path):\n",
    "    \"\"\"\n",
    "    Aggregate lyrics and their respective labels / quadrant\n",
    "    :param dataset: path to data\n",
    "    :param lyrics_path: path to lyrics .txt file\n",
    "    :param labels_path: path to labels .txt file\n",
    "    :return: None\n",
    "    \"\"\"\n",
    "    \n",
    "    data = pd.read_csv(dataset)\n",
    "    failed_index = []   # indexes with faulty data\n",
    "    \n",
    "    lyrics = data[\"lyrics\"]\n",
    "    labels = data[\"quadrant\"]\n",
    "    \n",
    "    with open(lyrics_path, \"w\") as f:\n",
    "        for _ in range(lyrics.shape[0]):\n",
    "            try:\n",
    "                f.write(\" \".join(\"\".join(lyrics[_].split(\"\\n\")).split(\"\\r\"))+\"\\n\")\n",
    "            except UnicodeEncodeError:\n",
    "                failed_index.append(_)\n",
    "                \n",
    "    with open(labels_path, \"w\") as f:\n",
    "        for _ in range(labels.shape[0]):\n",
    "            try:\n",
    "                if _ not in failed_index:\n",
    "                    f.write(str(labels.iloc[_])+\"\\n\")\n",
    "            except UnicodeEncodeError:\n",
    "                pass"
   ],
   "metadata": {
    "collapsed": false,
    "pycharm": {
     "name": "#%%\n"
    }
   }
  },
  {
   "cell_type": "code",
   "execution_count": 58,
   "metadata": {},
   "outputs": [
    {
     "data": {
      "text/html": [
       "<div>\n",
       "<style scoped>\n",
       "    .dataframe tbody tr th:only-of-type {\n",
       "        vertical-align: middle;\n",
       "    }\n",
       "\n",
       "    .dataframe tbody tr th {\n",
       "        vertical-align: top;\n",
       "    }\n",
       "\n",
       "    .dataframe thead th {\n",
       "        text-align: right;\n",
       "    }\n",
       "</style>\n",
       "<table border=\"1\" class=\"dataframe\">\n",
       "  <thead>\n",
       "    <tr style=\"text-align: right;\">\n",
       "      <th></th>\n",
       "      <th>Lyrics</th>\n",
       "      <th>Path</th>\n",
       "      <th>Quadrant</th>\n",
       "    </tr>\n",
       "  </thead>\n",
       "  <tbody>\n",
       "    <tr>\n",
       "      <th>0</th>\n",
       "      <td>Gently hold our hands\\r\\nGently hold our heads...</td>\n",
       "      <td>../audio/spectrograms/213754.png</td>\n",
       "      <td>1</td>\n",
       "    </tr>\n",
       "    <tr>\n",
       "      <th>1</th>\n",
       "      <td>We are the Sun\\r\\nWe are the dead stars\\r\\nWe ...</td>\n",
       "      <td>../audio/spectrograms/216752.png</td>\n",
       "      <td>1</td>\n",
       "    </tr>\n",
       "    <tr>\n",
       "      <th>2</th>\n",
       "      <td>You're out of touch\\r\\nI'm out of time\\r\\nBut ...</td>\n",
       "      <td>../audio/spectrograms/254391.png</td>\n",
       "      <td>0</td>\n",
       "    </tr>\n",
       "    <tr>\n",
       "      <th>3</th>\n",
       "      <td>You finally close the door\\r\\nYou've left open...</td>\n",
       "      <td>../audio/spectrograms/266313.png</td>\n",
       "      <td>0</td>\n",
       "    </tr>\n",
       "    <tr>\n",
       "      <th>4</th>\n",
       "      <td>随分先に行ってしまった 光の下のキャラバン\\r\\nトンネルに残響 塞いだ耳 自分嫌いな自分が...</td>\n",
       "      <td>../audio/spectrograms/283306.png</td>\n",
       "      <td>3</td>\n",
       "    </tr>\n",
       "  </tbody>\n",
       "</table>\n",
       "</div>"
      ],
      "text/plain": [
       "                                              Lyrics  \\\n",
       "0  Gently hold our hands\\r\\nGently hold our heads...   \n",
       "1  We are the Sun\\r\\nWe are the dead stars\\r\\nWe ...   \n",
       "2  You're out of touch\\r\\nI'm out of time\\r\\nBut ...   \n",
       "3  You finally close the door\\r\\nYou've left open...   \n",
       "4  随分先に行ってしまった 光の下のキャラバン\\r\\nトンネルに残響 塞いだ耳 自分嫌いな自分が...   \n",
       "\n",
       "                               Path  Quadrant  \n",
       "0  ../audio/spectrograms/213754.png         1  \n",
       "1  ../audio/spectrograms/216752.png         1  \n",
       "2  ../audio/spectrograms/254391.png         0  \n",
       "3  ../audio/spectrograms/266313.png         0  \n",
       "4  ../audio/spectrograms/283306.png         3  "
      ]
     },
     "execution_count": 58,
     "metadata": {},
     "output_type": "execute_result"
    }
   ],
   "source": [
    "# iterate over lists to aggregate all lyrics and labels\n",
    "for i in range(len(dataset_list)):\n",
    "    aggregate_lyrics(dataset_list[i], lyrics_path_list[i], labels_path_list[i])"
   ]
  },
  {
   "cell_type": "code",
   "execution_count": null,
   "metadata": {},
   "outputs": [],
   "source": []
  }
 ],
 "metadata": {
  "kernelspec": {
   "display_name": "Python 3",
   "language": "python",
   "name": "python3"
  },
  "language_info": {
   "codemirror_mode": {
    "name": "ipython",
    "version": 3
   },
   "file_extension": ".py",
   "mimetype": "text/x-python",
   "name": "python",
   "nbconvert_exporter": "python",
   "pygments_lexer": "ipython3",
   "version": "3.8.5"
  }
 },
 "nbformat": 4,
 "nbformat_minor": 4
}