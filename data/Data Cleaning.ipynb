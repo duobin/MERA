{
 "cells": [
  {
   "cell_type": "code",
   "execution_count": 1,
   "metadata": {},
   "outputs": [],
   "source": [
    "import pandas as pd"
   ]
  },
  {
   "cell_type": "code",
   "execution_count": 2,
   "metadata": {},
   "outputs": [],
   "source": [
    "train = pd.read_csv(\"train_with_lyrics.csv\")\n",
    "validation = pd.read_csv(\"validation_with_lyrics.csv\")\n",
    "test = pd.read_csv(\"testing_with_lyrics.csv\")"
   ]
  },
  {
   "cell_type": "code",
   "execution_count": 3,
   "metadata": {},
   "outputs": [
    {
     "data": {
      "text/plain": [
       "((11267, 8), (3863, 8), (3514, 8))"
      ]
     },
     "execution_count": 3,
     "metadata": {},
     "output_type": "execute_result"
    }
   ],
   "source": [
    "train.shape, validation.shape, test.shape"
   ]
  },
  {
   "cell_type": "code",
   "execution_count": 4,
   "metadata": {},
   "outputs": [],
   "source": [
    "# dropping NAN values\n",
    "train = train.dropna()\n",
    "validation = validation.dropna()\n",
    "test = test.dropna()"
   ]
  },
  {
   "cell_type": "code",
   "execution_count": 5,
   "metadata": {},
   "outputs": [
    {
     "data": {
      "text/plain": [
       "((10515, 8), (3632, 8), (3280, 8))"
      ]
     },
     "execution_count": 5,
     "metadata": {},
     "output_type": "execute_result"
    }
   ],
   "source": [
    "train.shape, validation.shape, test.shape"
   ]
  },
  {
   "cell_type": "code",
   "execution_count": 10,
   "metadata": {},
   "outputs": [],
   "source": [
    "# Remove the This Lyrics is NOT for Commercial use porion of lyrics\n",
    "text_to_remove = train[\"Lyrics\"][0][-79:]\n",
    "def remove_text(data):\n",
    "    for i in range(len(data)):\n",
    "        data[\"Lyrics\"].iloc[i] = data[\"Lyrics\"].iloc[i].replace(text_to_remove, \"\")"
   ]
  },
  {
   "cell_type": "code",
   "execution_count": 11,
   "metadata": {},
   "outputs": [
    {
     "name": "stderr",
     "output_type": "stream",
     "text": [
      "C:\\Users\\marti\\anaconda3\\lib\\site-packages\\pandas\\core\\indexing.py:670: SettingWithCopyWarning: \n",
      "A value is trying to be set on a copy of a slice from a DataFrame\n",
      "\n",
      "See the caveats in the documentation: https://pandas.pydata.org/pandas-docs/stable/user_guide/indexing.html#returning-a-view-versus-a-copy\n",
      "  iloc._setitem_with_indexer(indexer, value)\n"
     ]
    }
   ],
   "source": [
    "remove_text(train)\n",
    "remove_text(validation)\n",
    "remove_text(test)"
   ]
  },
  {
   "cell_type": "code",
   "execution_count": 12,
   "metadata": {},
   "outputs": [
    {
     "data": {
      "text/plain": [
       "('Hey, hey, hey, hey, hey, hey, hey, hey\\r\\nHey, hey, hey, hey, hey, hey, hey, hey\\r\\nHey, hey, hey, hey, hey, hey, hey, hey\\r\\nHey, hey, hey, hey, hey, hey, hey, hey\\r\\n\\r\\nThere lived a certain man, in Russia long ago\\r\\nHe was big and strong, in his eyes a flaming glow\\r\\nMost people looked at him with terror and with fear\\r\\nBut to Moscow chicks he was such a lovely dear\\r\\n\\r\\nHe could preach the Bible like a preacher\\r\\nFull of ecstasy and fire\\r\\nBut he also was the kind of teacher\\r\\nWomen would desire\\r\\n\\r\\nRa-ra, Rasputin\\r\\nLover of the Russian queen\\r\\nThere was a cat that really was gone\\r\\nRa ra Rasputin',\n",
       " \"Suffer not Your neighbor's affliction\\r\\nSuffer not Your neighbor's paralysis\\r\\nBut extend your hand Extend your hand\\r\\nLest you vanish in the city And be but a trace\\r\\nJust a vanished ghost And your legacy\\r\\nAll the things you knew Science, mathematics, thought\\r\\nSeverely weakened Like irrigation systems\\r\\nIn the tired veins forming From the Tigris and Euphrates\\r\\nIn the realm of peace All the world revolved\\r\\nAll the world revolved Around a perfect circle\\r\\nCity of Baghdad City of scholars\\r\\nEmpirical humble Center of the world\\r\\nCity in ashes City of Baghdad\\r\\nCity of Baghdad Abrasive aloof\\r\\n\\r\\nOh, in Mesopotamia Aloofness ran deep\\r\\nDeep in the veins of the great rivers\\r\\nThat form the base Of Eden\\r\\nAnd the tree The tree of knowledge\\r\\nHeld up its arms To the sky\\r\\nAll the branches of knowledge All the branches of knowledge\\r\\nCradling Cradling\\r\\nCivilization In the realm of peace\\r\\nAll the world revolved Around a perfect circle\\r\\nOh Baghdad Center of the world\\r\\nCity of ashes With its great mosques\\r\\nErupting from the mouth of god Rising from the ashes like\\r\\nA speckled bird Splayed against the mosaic sky\\r\\nOh, clouds around We created the zero\\r\\nBut we mean nothing to you You would believe\\r\\nThat we are just some mystical tale We are just a swollen belly\",\n",
       " \"There's some stuff on my shoe\\r\\nThat's got nothing to do\\r\\nWith the places you think that I've been\\r\\nAnd the stuff on my breath\\r\\nIsn't some kiss of death\\r\\nFrom the people you think I've been seeing\\r\\n\\r\\nCould I please be excused? I'm very confused\\r\\nI think I'd better have a little something\\r\\nI think I'd like to have a little something\\r\\n\\r\\nThough you probably forget\")"
      ]
     },
     "execution_count": 12,
     "metadata": {},
     "output_type": "execute_result"
    }
   ],
   "source": [
    "# testing\n",
    "train[\"Lyrics\"].iloc[8], validation[\"Lyrics\"].iloc[8], test[\"Lyrics\"].iloc[8]"
   ]
  },
  {
   "cell_type": "code",
   "execution_count": 13,
   "metadata": {},
   "outputs": [],
   "source": [
    "train.to_csv(\"train.csv\", index=False)\n",
    "validation.to_csv(\"validation.csv\", index=False)\n",
    "test.to_csv(\"test.csv\", index=False)"
   ]
  },
  {
   "cell_type": "code",
   "execution_count": null,
   "metadata": {},
   "outputs": [],
   "source": []
  }
 ],
 "metadata": {
  "kernelspec": {
   "display_name": "Python 3",
   "language": "python",
   "name": "python3"
  },
  "language_info": {
   "codemirror_mode": {
    "name": "ipython",
    "version": 3
   },
   "file_extension": ".py",
   "mimetype": "text/x-python",
   "name": "python",
   "nbconvert_exporter": "python",
   "pygments_lexer": "ipython3",
   "version": "3.8.5"
  }
 },
 "nbformat": 4,
 "nbformat_minor": 4
}
