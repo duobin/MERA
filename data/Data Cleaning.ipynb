{
 "cells": [
  {
   "cell_type": "code",
   "execution_count": 14,
   "metadata": {},
   "outputs": [],
   "source": [
    "import pandas as pd"
   ]
  },
  {
   "cell_type": "code",
   "execution_count": 15,
   "metadata": {},
   "outputs": [],
   "source": [
    "train = pd.read_csv(\"train.csv\")\n",
    "validation = pd.read_csv(\"validation.csv\")\n",
    "test = pd.read_csv(\"test.csv\")"
   ]
  },
  {
   "cell_type": "code",
   "execution_count": 16,
   "metadata": {},
   "outputs": [
    {
     "data": {
      "text/plain": [
       "((10515, 8), (3632, 8), (3280, 8))"
      ]
     },
     "execution_count": 16,
     "metadata": {},
     "output_type": "execute_result"
    }
   ],
   "source": [
    "train.shape, validation.shape, test.shape"
   ]
  },
  {
   "cell_type": "code",
   "execution_count": 17,
   "metadata": {},
   "outputs": [],
   "source": [
    "# dropping NAN values\n",
    "train = train.dropna()\n",
    "validation = validation.dropna()\n",
    "test = test.dropna()"
   ]
  },
  {
   "cell_type": "code",
   "execution_count": 18,
   "metadata": {},
   "outputs": [],
   "source": [
    "# Drop columns MSD_sng_id MSD_track_id\n",
    "columns_to_drop = [\"MSD_sng_id\",\"MSD_track_id\"]\n",
    "train.drop(columns_to_drop, axis=1, inplace=True)\n",
    "validation.drop(columns_to_drop, axis=1, inplace=True)\n",
    "test.drop(columns_to_drop, axis=1, inplace=True)"
   ]
  },
  {
   "cell_type": "code",
   "execution_count": 19,
   "metadata": {},
   "outputs": [
    {
     "data": {
      "text/plain": [
       "((10515, 6), (3632, 6), (3280, 6))"
      ]
     },
     "execution_count": 19,
     "metadata": {},
     "output_type": "execute_result"
    }
   ],
   "source": [
    "train.shape, validation.shape, test.shape"
   ]
  },
  {
   "cell_type": "code",
   "execution_count": 20,
   "metadata": {},
   "outputs": [],
   "source": [
    "# Remove the This Lyrics is NOT for Commercial use porion of lyrics\n",
    "text_to_remove = train[\"Lyrics\"][0][-79:]\n",
    "def remove_text(data):\n",
    "    for i in range(len(data)):\n",
    "        data[\"Lyrics\"].iloc[i] = data[\"Lyrics\"].iloc[i].replace(text_to_remove, \"\")"
   ]
  },
  {
   "cell_type": "code",
   "execution_count": 21,
   "metadata": {},
   "outputs": [
    {
     "name": "stderr",
     "output_type": "stream",
     "text": [
      "/home/martinoywa/anaconda3/lib/python3.8/site-packages/pandas/core/indexing.py:671: SettingWithCopyWarning: \n",
      "A value is trying to be set on a copy of a slice from a DataFrame\n",
      "\n",
      "See the caveats in the documentation: https://pandas.pydata.org/pandas-docs/stable/user_guide/indexing.html#returning-a-view-versus-a-copy\n",
      "  self._setitem_with_indexer(indexer, value)\n"
     ]
    }
   ],
   "source": [
    "remove_text(train)\n",
    "remove_text(validation)\n",
    "remove_text(test)"
   ]
  },
  {
   "cell_type": "code",
   "execution_count": 22,
   "metadata": {},
   "outputs": [
    {
     "data": {
      "text/plain": [
       "('Hey, hey, hey, hey, hey, hey, hey, hey\\nHey, hey, hey, hey, hey, hey, hey, hey\\nHey, hey, hey, hey, hey, hey, hey, hey\\nHey, hey, hey, hey, hey, hey, hey, hey\\n\\nThere lived a certain man, in Russia long ago\\nHe was big and strong, in his eyes a flaming glow\\nMost people looked at him with terror and with fear\\nBut to Moscow chicks he was such a lovely dear\\n\\nHe could preach the Bible like a preacher\\nFull of ecstasy and fire\\nBut he also was the kind of teacher\\nWomen would desire\\n\\nRa-ra, Rasputin\\nLover of the Russian queen\\nThere was a cat that really was gone\\nRa ra Rasputin',\n",
       " \"Suffer not Your neighbor's affliction\\nSuffer not Your neighbor's paralysis\\nBut extend your hand Extend your hand\\nLest you vanish in the city And be but a trace\\nJust a vanished ghost And your legacy\\nAll the things you knew Science, mathematics, thought\\nSeverely weakened Like irrigation systems\\nIn the tired veins forming From the Tigris and Euphrates\\nIn the realm of peace All the world revolved\\nAll the world revolved Around a perfect circle\\nCity of Baghdad City of scholars\\nEmpirical humble Center of the world\\nCity in ashes City of Baghdad\\nCity of Baghdad Abrasive aloof\\n\\nOh, in Mesopotamia Aloofness ran deep\\nDeep in the veins of the great rivers\\nThat form the base Of Eden\\nAnd the tree The tree of knowledge\\nHeld up its arms To the sky\\nAll the branches of knowledge All the branches of knowledge\\nCradling Cradling\\nCivilization In the realm of peace\\nAll the world revolved Around a perfect circle\\nOh Baghdad Center of the world\\nCity of ashes With its great mosques\\nErupting from the mouth of god Rising from the ashes like\\nA speckled bird Splayed against the mosaic sky\\nOh, clouds around We created the zero\\nBut we mean nothing to you You would believe\\nThat we are just some mystical tale We are just a swollen belly\",\n",
       " \"There's some stuff on my shoe\\nThat's got nothing to do\\nWith the places you think that I've been\\nAnd the stuff on my breath\\nIsn't some kiss of death\\nFrom the people you think I've been seeing\\n\\nCould I please be excused? I'm very confused\\nI think I'd better have a little something\\nI think I'd like to have a little something\\n\\nThough you probably forget\")"
      ]
     },
     "execution_count": 22,
     "metadata": {},
     "output_type": "execute_result"
    }
   ],
   "source": [
    "# testing\n",
    "train[\"Lyrics\"].iloc[8], validation[\"Lyrics\"].iloc[8], test[\"Lyrics\"].iloc[8]"
   ]
  },
  {
   "cell_type": "code",
   "execution_count": 23,
   "metadata": {},
   "outputs": [],
   "source": [
    "train.to_csv(\"train.csv\", index=False)\n",
    "validation.to_csv(\"validation.csv\", index=False)\n",
    "test.to_csv(\"test.csv\", index=False)"
   ]
  },
  {
   "cell_type": "code",
   "execution_count": null,
   "metadata": {},
   "outputs": [],
   "source": []
  }
 ],
 "metadata": {
  "kernelspec": {
   "display_name": "Python 3",
   "language": "python",
   "name": "python3"
  },
  "language_info": {
   "codemirror_mode": {
    "name": "ipython",
    "version": 3
   },
   "file_extension": ".py",
   "mimetype": "text/x-python",
   "name": "python",
   "nbconvert_exporter": "python",
   "pygments_lexer": "ipython3",
   "version": "3.8.3"
  }
 },
 "nbformat": 4,
 "nbformat_minor": 4
}
