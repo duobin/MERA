{
 "cells": [
  {
   "cell_type": "code",
   "execution_count": 1,
   "metadata": {},
   "outputs": [],
   "source": [
    "import pandas as pd"
   ]
  },
  {
   "cell_type": "code",
   "execution_count": 58,
   "metadata": {},
   "outputs": [
    {
     "data": {
      "text/html": [
       "<div>\n",
       "<style scoped>\n",
       "    .dataframe tbody tr th:only-of-type {\n",
       "        vertical-align: middle;\n",
       "    }\n",
       "\n",
       "    .dataframe tbody tr th {\n",
       "        vertical-align: top;\n",
       "    }\n",
       "\n",
       "    .dataframe thead th {\n",
       "        text-align: right;\n",
       "    }\n",
       "</style>\n",
       "<table border=\"1\" class=\"dataframe\">\n",
       "  <thead>\n",
       "    <tr style=\"text-align: right;\">\n",
       "      <th></th>\n",
       "      <th>Lyrics</th>\n",
       "      <th>Path</th>\n",
       "      <th>Quadrant</th>\n",
       "    </tr>\n",
       "  </thead>\n",
       "  <tbody>\n",
       "    <tr>\n",
       "      <th>0</th>\n",
       "      <td>Gently hold our hands\\r\\nGently hold our heads...</td>\n",
       "      <td>../audio/spectrograms/213754.png</td>\n",
       "      <td>1</td>\n",
       "    </tr>\n",
       "    <tr>\n",
       "      <th>1</th>\n",
       "      <td>We are the Sun\\r\\nWe are the dead stars\\r\\nWe ...</td>\n",
       "      <td>../audio/spectrograms/216752.png</td>\n",
       "      <td>1</td>\n",
       "    </tr>\n",
       "    <tr>\n",
       "      <th>2</th>\n",
       "      <td>You're out of touch\\r\\nI'm out of time\\r\\nBut ...</td>\n",
       "      <td>../audio/spectrograms/254391.png</td>\n",
       "      <td>0</td>\n",
       "    </tr>\n",
       "    <tr>\n",
       "      <th>3</th>\n",
       "      <td>You finally close the door\\r\\nYou've left open...</td>\n",
       "      <td>../audio/spectrograms/266313.png</td>\n",
       "      <td>0</td>\n",
       "    </tr>\n",
       "    <tr>\n",
       "      <th>4</th>\n",
       "      <td>随分先に行ってしまった 光の下のキャラバン\\r\\nトンネルに残響 塞いだ耳 自分嫌いな自分が...</td>\n",
       "      <td>../audio/spectrograms/283306.png</td>\n",
       "      <td>3</td>\n",
       "    </tr>\n",
       "  </tbody>\n",
       "</table>\n",
       "</div>"
      ],
      "text/plain": [
       "                                              Lyrics  \\\n",
       "0  Gently hold our hands\\r\\nGently hold our heads...   \n",
       "1  We are the Sun\\r\\nWe are the dead stars\\r\\nWe ...   \n",
       "2  You're out of touch\\r\\nI'm out of time\\r\\nBut ...   \n",
       "3  You finally close the door\\r\\nYou've left open...   \n",
       "4  随分先に行ってしまった 光の下のキャラバン\\r\\nトンネルに残響 塞いだ耳 自分嫌いな自分が...   \n",
       "\n",
       "                               Path  Quadrant  \n",
       "0  ../audio/spectrograms/213754.png         1  \n",
       "1  ../audio/spectrograms/216752.png         1  \n",
       "2  ../audio/spectrograms/254391.png         0  \n",
       "3  ../audio/spectrograms/266313.png         0  \n",
       "4  ../audio/spectrograms/283306.png         3  "
      ]
     },
     "execution_count": 58,
     "metadata": {},
     "output_type": "execute_result"
    }
   ],
   "source": [
    "data = pd.read_csv(\"mvp_data.csv\")\n",
    "data.head()"
   ]
  },
  {
   "cell_type": "code",
   "execution_count": 99,
   "metadata": {},
   "outputs": [],
   "source": [
    "lyrics = data[\"Lyrics\"]\n",
    "labels = data[\"Quadrant\"]"
   ]
  },
  {
   "cell_type": "code",
   "execution_count": 100,
   "metadata": {},
   "outputs": [
    {
     "data": {
      "text/plain": [
       "\"Gently hold our hands Gently hold our heads on high  Aimless time in fear new hide Overthrow the plan Confusion lies in all my words Mad is the soul  We barricade ourselves in holes of temperament This is the dawning of a new age A heart that beats the wrong way Insanity's crescendo  Windcolour, second sight A touch of silence and the violence of dark Illusion span, the aroma of time Shadowlife and the scent of nothingness  Infinite fall of instinct Order of one spells deceit Infin\""
      ]
     },
     "execution_count": 100,
     "metadata": {},
     "output_type": "execute_result"
    }
   ],
   "source": [
    "\" \".join(\"\".join(lyrics[0].split(\"\\n\")).split(\"\\r\"))"
   ]
  },
  {
   "cell_type": "code",
   "execution_count": 101,
   "metadata": {},
   "outputs": [],
   "source": [
    "failed_index = []"
   ]
  },
  {
   "cell_type": "code",
   "execution_count": 102,
   "metadata": {},
   "outputs": [],
   "source": [
    "with open(\"train/lyrics/lyrics.txt\", \"w\") as f:\n",
    "    for _ in range(lyrics.shape[0]):\n",
    "        try:\n",
    "#             print(\" \".join(lyrics.iloc[_].split(\"\\n\")))\n",
    "            f.write(\" \".join(\"\".join(lyrics[_].split(\"\\n\")).split(\"\\r\"))+\"\\n\")\n",
    "        except UnicodeEncodeError:\n",
    "            failed_index.append(_)"
   ]
  },
  {
   "cell_type": "code",
   "execution_count": 103,
   "metadata": {},
   "outputs": [
    {
     "data": {
      "text/plain": [
       "[4]"
      ]
     },
     "execution_count": 103,
     "metadata": {},
     "output_type": "execute_result"
    }
   ],
   "source": [
    "failed_index"
   ]
  },
  {
   "cell_type": "code",
   "execution_count": 105,
   "metadata": {},
   "outputs": [],
   "source": [
    "with open(\"train/lyrics/labels.txt\", \"w\") as f:\n",
    "    for _ in range(labels.shape[0]):\n",
    "        try:\n",
    "#             print(\" \".join(lyrics.iloc[_].split(\"\\n\")))\n",
    "            if _ not in failed_index:\n",
    "                f.write(str(labels.iloc[_])+\"\\n\")\n",
    "        except UnicodeEncodeError:\n",
    "            pass"
   ]
  },
  {
   "cell_type": "code",
   "execution_count": null,
   "metadata": {},
   "outputs": [],
   "source": []
  },
  {
   "cell_type": "markdown",
   "metadata": {},
   "source": [
    "### how to load"
   ]
  },
  {
   "cell_type": "code",
   "execution_count": 106,
   "metadata": {},
   "outputs": [],
   "source": [
    "with open(\"train/lyrics/lyrics.txt\", \"r\") as f:\n",
    "    lyrics = f.read()\n",
    "with open(\"train/lyrics/labels.txt\", \"r\") as f:\n",
    "    labels = f.read()"
   ]
  },
  {
   "cell_type": "code",
   "execution_count": 112,
   "metadata": {},
   "outputs": [
    {
     "data": {
      "text/plain": [
       "[\"Gently hold our hands Gently hold our heads on high  Aimless time in fear new hide Overthrow the plan Confusion lies in all my words Mad is the soul  We barricade ourselves in holes of temperament This is the dawning of a new age A heart that beats the wrong way Insanity's crescendo  Windcolour, second sight A touch of silence and the violence of dark Illusion span, the aroma of time Shadowlife and the scent of nothingness  Infinite fall of instinct Order of one spells deceit Infin\",\n",
       " 'We are the Sun We are the dead stars We are the black sky Invading your room We are the candle The only light We are the machines of the past Forever victims and murderers of your joy  We are Death The ancient knowledge The source of origin The red and white sacred hatred Enthroned, materialized The wrath of heaven and hell united in one Worship us, be faithful Beautiful great and cursed  Vexilla regis prodeunt, fulget crucis mysterium Vexilla regis prodeunt inferni  We are the... Mother of suffering Bringer of virtue',\n",
       " \"You're out of touch I'm out of time But I'm out of my head when you're not around You're out of touch I'm out of time But I'm out of my head when you're not around  You're out of touch You're out of touch You're out of touch You're out of touch You're out of touch...  You're out of touch I'm out of time But I'm out of my head when you're not around\",\n",
       " \"You finally close the door You've left open wide Lock it from the inside You lay me down and count me out  Watch out, it's all on you There's worse ways to see it, baby Set fire and watch it burning Come here, sit next me\",\n",
       " \"Lullaby by birdland that's what I Always hear, when you sigh, Never in my wordland could there be words to reveal In a phrase how I feel  Have you ever heard two turtle doves Bill and coo, when they love? That's the kind of magic music we made with our lips When we kiss  And there's a weepy old willow He really knows how to cry\",\n",
       " \"It's the wood man and his splintering self. It's the wooden woman and her hollowing out  Sickly Micky Mouse. Skinny Minnie Mouse.  Elvis, what happened?  Pop Sickle note: The lable stapled a speaker To the back of a sheep's throat. Tongue depressor with the width\",\n",
       " 'Dying men keep rifles in cello cases, Known with a beer as the deer eraser. They dress their boys in bright orange And leave their daughters at home, Stripping meat, stretching skin for their musical men.  The makers of guns will never go hungry. The makers of guns will never fill up. May their children always play murder weapon since stick. ',\n",
       " 'Hey, hey, hey, hey, hey, hey, hey, hey Hey, hey, hey, hey, hey, hey, hey, hey Hey, hey, hey, hey, hey, hey, hey, hey Hey, hey, hey, hey, hey, hey, hey, hey  There lived a certain man, in Russia long ago He was big and strong, in his eyes a flaming glow Most people looked at him with terror and with fear But to Moscow chicks he was such a lovely dear  He could preach the Bible like a preacher Full of ecstasy and fire But he also was the kind of teacher Women would desire  Ra-ra, Rasputin Lover of the Russian queen There was a cat that really was gone Ra ra Rasputin',\n",
       " \"Oooh oooh Hmmmmh  It's been the longest winter without you I didn't know where to turn to See somehow I can't forget you After all that we've been through  Going coming thought I heard a knock Who's there no one Thinking that I deserve it Now I realize that I really didn't know  If you didn't notice you mean everything Quickly I'm learning to love again All I know is Imma be OK  Thought I couldn't live without you It's gonna hurt when it heals too (Oh yeah) It'll all get better in time\",\n",
       " \"There's nothing I could say to you Nothing I could ever do to make you see What you mean to me All the pain the tears I cried Still you never said goodbye And now I know How far you'd go  I know I let you down But it's not like that now This time I'll never Let you go  I will be All that you want And get myself together 'Cause you keep me from falling apart All my life I'll be with you forever To get you through the day And make everything OK  I thought that I had everything I didn't know what life could bring\"]"
      ]
     },
     "execution_count": 112,
     "metadata": {},
     "output_type": "execute_result"
    }
   ],
   "source": [
    "lyrics.split(\"\\n\")[:10]"
   ]
  },
  {
   "cell_type": "code",
   "execution_count": 115,
   "metadata": {},
   "outputs": [
    {
     "data": {
      "text/plain": [
       "['1', '1', '0', '0', '0', '1', '1', '0', '1', '0']"
      ]
     },
     "execution_count": 115,
     "metadata": {},
     "output_type": "execute_result"
    }
   ],
   "source": [
    "labels.split(\"\\n\")[:10]"
   ]
  },
  {
   "cell_type": "code",
   "execution_count": null,
   "metadata": {},
   "outputs": [],
   "source": []
  }
 ],
 "metadata": {
  "kernelspec": {
   "display_name": "Python 3",
   "language": "python",
   "name": "python3"
  },
  "language_info": {
   "codemirror_mode": {
    "name": "ipython",
    "version": 3
   },
   "file_extension": ".py",
   "mimetype": "text/x-python",
   "name": "python",
   "nbconvert_exporter": "python",
   "pygments_lexer": "ipython3",
   "version": "3.8.5"
  }
 },
 "nbformat": 4,
 "nbformat_minor": 4
}
